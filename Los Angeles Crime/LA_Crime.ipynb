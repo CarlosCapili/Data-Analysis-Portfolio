{
 "cells": [
  {
   "cell_type": "markdown",
   "id": "1e053c57",
   "metadata": {},
   "source": [
    "# Los Angeles Crime Exploratory Data Analysis\n",
    "\n",
    "Source: https://catalog.data.gov/dataset/crime-data-from-2020-to-present\n",
    "\n",
    "Dataset breakdown: https://data.lacity.org/Public-Safety/Crime-Data-from-2020-to-Present/2nrs-mtv8/about_data\n",
    "\n",
    "Purpose: To gain insights on crimes in LA focussing on areas such as location, gender, ages, etc.\n"
   ]
  },
  {
   "cell_type": "code",
   "execution_count": 1,
   "id": "202f47ba",
   "metadata": {},
   "outputs": [],
   "source": [
    "import pandas as pd\n",
    "import numpy as np\n",
    "import seaborn as sns\n",
    "import matplotlib.pyplot as plt"
   ]
  },
  {
   "cell_type": "code",
   "execution_count": 2,
   "id": "19f611ab",
   "metadata": {},
   "outputs": [],
   "source": [
    "df = pd.read_csv(r'C:\\Users\\Mouth\\Documents\\Datasets\\LA_Crime\\Crime_Data_from_2020_to_Present.csv')"
   ]
  },
  {
   "cell_type": "code",
   "execution_count": 3,
   "id": "8164af52",
   "metadata": {
    "scrolled": false
   },
   "outputs": [
    {
     "data": {
      "text/html": [
       "<div>\n",
       "<style scoped>\n",
       "    .dataframe tbody tr th:only-of-type {\n",
       "        vertical-align: middle;\n",
       "    }\n",
       "\n",
       "    .dataframe tbody tr th {\n",
       "        vertical-align: top;\n",
       "    }\n",
       "\n",
       "    .dataframe thead th {\n",
       "        text-align: right;\n",
       "    }\n",
       "</style>\n",
       "<table border=\"1\" class=\"dataframe\">\n",
       "  <thead>\n",
       "    <tr style=\"text-align: right;\">\n",
       "      <th></th>\n",
       "      <th>DR_NO</th>\n",
       "      <th>Date Rptd</th>\n",
       "      <th>DATE OCC</th>\n",
       "      <th>TIME OCC</th>\n",
       "      <th>AREA</th>\n",
       "      <th>AREA NAME</th>\n",
       "      <th>Rpt Dist No</th>\n",
       "      <th>Part 1-2</th>\n",
       "      <th>Crm Cd</th>\n",
       "      <th>Crm Cd Desc</th>\n",
       "      <th>...</th>\n",
       "      <th>Status</th>\n",
       "      <th>Status Desc</th>\n",
       "      <th>Crm Cd 1</th>\n",
       "      <th>Crm Cd 2</th>\n",
       "      <th>Crm Cd 3</th>\n",
       "      <th>Crm Cd 4</th>\n",
       "      <th>LOCATION</th>\n",
       "      <th>Cross Street</th>\n",
       "      <th>LAT</th>\n",
       "      <th>LON</th>\n",
       "    </tr>\n",
       "  </thead>\n",
       "  <tbody>\n",
       "    <tr>\n",
       "      <th>0</th>\n",
       "      <td>190326475</td>\n",
       "      <td>03/01/2020 12:00:00 AM</td>\n",
       "      <td>03/01/2020 12:00:00 AM</td>\n",
       "      <td>2130</td>\n",
       "      <td>7</td>\n",
       "      <td>Wilshire</td>\n",
       "      <td>784</td>\n",
       "      <td>1</td>\n",
       "      <td>510</td>\n",
       "      <td>VEHICLE - STOLEN</td>\n",
       "      <td>...</td>\n",
       "      <td>AA</td>\n",
       "      <td>Adult Arrest</td>\n",
       "      <td>510.0</td>\n",
       "      <td>998.0</td>\n",
       "      <td>NaN</td>\n",
       "      <td>NaN</td>\n",
       "      <td>1900 S  LONGWOOD                     AV</td>\n",
       "      <td>NaN</td>\n",
       "      <td>34.0375</td>\n",
       "      <td>-118.3506</td>\n",
       "    </tr>\n",
       "    <tr>\n",
       "      <th>1</th>\n",
       "      <td>200106753</td>\n",
       "      <td>02/09/2020 12:00:00 AM</td>\n",
       "      <td>02/08/2020 12:00:00 AM</td>\n",
       "      <td>1800</td>\n",
       "      <td>1</td>\n",
       "      <td>Central</td>\n",
       "      <td>182</td>\n",
       "      <td>1</td>\n",
       "      <td>330</td>\n",
       "      <td>BURGLARY FROM VEHICLE</td>\n",
       "      <td>...</td>\n",
       "      <td>IC</td>\n",
       "      <td>Invest Cont</td>\n",
       "      <td>330.0</td>\n",
       "      <td>998.0</td>\n",
       "      <td>NaN</td>\n",
       "      <td>NaN</td>\n",
       "      <td>1000 S  FLOWER                       ST</td>\n",
       "      <td>NaN</td>\n",
       "      <td>34.0444</td>\n",
       "      <td>-118.2628</td>\n",
       "    </tr>\n",
       "    <tr>\n",
       "      <th>2</th>\n",
       "      <td>200320258</td>\n",
       "      <td>11/11/2020 12:00:00 AM</td>\n",
       "      <td>11/04/2020 12:00:00 AM</td>\n",
       "      <td>1700</td>\n",
       "      <td>3</td>\n",
       "      <td>Southwest</td>\n",
       "      <td>356</td>\n",
       "      <td>1</td>\n",
       "      <td>480</td>\n",
       "      <td>BIKE - STOLEN</td>\n",
       "      <td>...</td>\n",
       "      <td>IC</td>\n",
       "      <td>Invest Cont</td>\n",
       "      <td>480.0</td>\n",
       "      <td>NaN</td>\n",
       "      <td>NaN</td>\n",
       "      <td>NaN</td>\n",
       "      <td>1400 W  37TH                         ST</td>\n",
       "      <td>NaN</td>\n",
       "      <td>34.0210</td>\n",
       "      <td>-118.3002</td>\n",
       "    </tr>\n",
       "    <tr>\n",
       "      <th>3</th>\n",
       "      <td>200907217</td>\n",
       "      <td>05/10/2023 12:00:00 AM</td>\n",
       "      <td>03/10/2020 12:00:00 AM</td>\n",
       "      <td>2037</td>\n",
       "      <td>9</td>\n",
       "      <td>Van Nuys</td>\n",
       "      <td>964</td>\n",
       "      <td>1</td>\n",
       "      <td>343</td>\n",
       "      <td>SHOPLIFTING-GRAND THEFT ($950.01 &amp; OVER)</td>\n",
       "      <td>...</td>\n",
       "      <td>IC</td>\n",
       "      <td>Invest Cont</td>\n",
       "      <td>343.0</td>\n",
       "      <td>NaN</td>\n",
       "      <td>NaN</td>\n",
       "      <td>NaN</td>\n",
       "      <td>14000    RIVERSIDE                    DR</td>\n",
       "      <td>NaN</td>\n",
       "      <td>34.1576</td>\n",
       "      <td>-118.4387</td>\n",
       "    </tr>\n",
       "    <tr>\n",
       "      <th>4</th>\n",
       "      <td>220614831</td>\n",
       "      <td>08/18/2022 12:00:00 AM</td>\n",
       "      <td>08/17/2020 12:00:00 AM</td>\n",
       "      <td>1200</td>\n",
       "      <td>6</td>\n",
       "      <td>Hollywood</td>\n",
       "      <td>666</td>\n",
       "      <td>2</td>\n",
       "      <td>354</td>\n",
       "      <td>THEFT OF IDENTITY</td>\n",
       "      <td>...</td>\n",
       "      <td>IC</td>\n",
       "      <td>Invest Cont</td>\n",
       "      <td>354.0</td>\n",
       "      <td>NaN</td>\n",
       "      <td>NaN</td>\n",
       "      <td>NaN</td>\n",
       "      <td>1900    TRANSIENT</td>\n",
       "      <td>NaN</td>\n",
       "      <td>34.0944</td>\n",
       "      <td>-118.3277</td>\n",
       "    </tr>\n",
       "  </tbody>\n",
       "</table>\n",
       "<p>5 rows × 28 columns</p>\n",
       "</div>"
      ],
      "text/plain": [
       "       DR_NO               Date Rptd                DATE OCC  TIME OCC  AREA  \\\n",
       "0  190326475  03/01/2020 12:00:00 AM  03/01/2020 12:00:00 AM      2130     7   \n",
       "1  200106753  02/09/2020 12:00:00 AM  02/08/2020 12:00:00 AM      1800     1   \n",
       "2  200320258  11/11/2020 12:00:00 AM  11/04/2020 12:00:00 AM      1700     3   \n",
       "3  200907217  05/10/2023 12:00:00 AM  03/10/2020 12:00:00 AM      2037     9   \n",
       "4  220614831  08/18/2022 12:00:00 AM  08/17/2020 12:00:00 AM      1200     6   \n",
       "\n",
       "   AREA NAME  Rpt Dist No  Part 1-2  Crm Cd  \\\n",
       "0   Wilshire          784         1     510   \n",
       "1    Central          182         1     330   \n",
       "2  Southwest          356         1     480   \n",
       "3   Van Nuys          964         1     343   \n",
       "4  Hollywood          666         2     354   \n",
       "\n",
       "                                Crm Cd Desc  ... Status   Status Desc  \\\n",
       "0                          VEHICLE - STOLEN  ...     AA  Adult Arrest   \n",
       "1                     BURGLARY FROM VEHICLE  ...     IC   Invest Cont   \n",
       "2                             BIKE - STOLEN  ...     IC   Invest Cont   \n",
       "3  SHOPLIFTING-GRAND THEFT ($950.01 & OVER)  ...     IC   Invest Cont   \n",
       "4                         THEFT OF IDENTITY  ...     IC   Invest Cont   \n",
       "\n",
       "  Crm Cd 1 Crm Cd 2  Crm Cd 3 Crm Cd 4  \\\n",
       "0    510.0    998.0       NaN      NaN   \n",
       "1    330.0    998.0       NaN      NaN   \n",
       "2    480.0      NaN       NaN      NaN   \n",
       "3    343.0      NaN       NaN      NaN   \n",
       "4    354.0      NaN       NaN      NaN   \n",
       "\n",
       "                                   LOCATION Cross Street      LAT       LON  \n",
       "0   1900 S  LONGWOOD                     AV          NaN  34.0375 -118.3506  \n",
       "1   1000 S  FLOWER                       ST          NaN  34.0444 -118.2628  \n",
       "2   1400 W  37TH                         ST          NaN  34.0210 -118.3002  \n",
       "3  14000    RIVERSIDE                    DR          NaN  34.1576 -118.4387  \n",
       "4                         1900    TRANSIENT          NaN  34.0944 -118.3277  \n",
       "\n",
       "[5 rows x 28 columns]"
      ]
     },
     "execution_count": 3,
     "metadata": {},
     "output_type": "execute_result"
    }
   ],
   "source": [
    "df.head()"
   ]
  },
  {
   "cell_type": "code",
   "execution_count": 4,
   "id": "62b2b533",
   "metadata": {
    "scrolled": false
   },
   "outputs": [
    {
     "data": {
      "text/html": [
       "<div>\n",
       "<style scoped>\n",
       "    .dataframe tbody tr th:only-of-type {\n",
       "        vertical-align: middle;\n",
       "    }\n",
       "\n",
       "    .dataframe tbody tr th {\n",
       "        vertical-align: top;\n",
       "    }\n",
       "\n",
       "    .dataframe thead th {\n",
       "        text-align: right;\n",
       "    }\n",
       "</style>\n",
       "<table border=\"1\" class=\"dataframe\">\n",
       "  <thead>\n",
       "    <tr style=\"text-align: right;\">\n",
       "      <th></th>\n",
       "      <th>DR_NO</th>\n",
       "      <th>Date Rptd</th>\n",
       "      <th>DATE OCC</th>\n",
       "      <th>TIME OCC</th>\n",
       "      <th>AREA</th>\n",
       "      <th>AREA NAME</th>\n",
       "      <th>Rpt Dist No</th>\n",
       "      <th>Part 1-2</th>\n",
       "      <th>Crm Cd</th>\n",
       "      <th>Crm Cd Desc</th>\n",
       "      <th>Mocodes</th>\n",
       "      <th>Vict Age</th>\n",
       "      <th>Vict Sex</th>\n",
       "      <th>Vict Descent</th>\n",
       "    </tr>\n",
       "  </thead>\n",
       "  <tbody>\n",
       "    <tr>\n",
       "      <th>0</th>\n",
       "      <td>190326475</td>\n",
       "      <td>03/01/2020 12:00:00 AM</td>\n",
       "      <td>03/01/2020 12:00:00 AM</td>\n",
       "      <td>2130</td>\n",
       "      <td>7</td>\n",
       "      <td>Wilshire</td>\n",
       "      <td>784</td>\n",
       "      <td>1</td>\n",
       "      <td>510</td>\n",
       "      <td>VEHICLE - STOLEN</td>\n",
       "      <td>NaN</td>\n",
       "      <td>0</td>\n",
       "      <td>M</td>\n",
       "      <td>O</td>\n",
       "    </tr>\n",
       "    <tr>\n",
       "      <th>1</th>\n",
       "      <td>200106753</td>\n",
       "      <td>02/09/2020 12:00:00 AM</td>\n",
       "      <td>02/08/2020 12:00:00 AM</td>\n",
       "      <td>1800</td>\n",
       "      <td>1</td>\n",
       "      <td>Central</td>\n",
       "      <td>182</td>\n",
       "      <td>1</td>\n",
       "      <td>330</td>\n",
       "      <td>BURGLARY FROM VEHICLE</td>\n",
       "      <td>1822 1402 0344</td>\n",
       "      <td>47</td>\n",
       "      <td>M</td>\n",
       "      <td>O</td>\n",
       "    </tr>\n",
       "    <tr>\n",
       "      <th>2</th>\n",
       "      <td>200320258</td>\n",
       "      <td>11/11/2020 12:00:00 AM</td>\n",
       "      <td>11/04/2020 12:00:00 AM</td>\n",
       "      <td>1700</td>\n",
       "      <td>3</td>\n",
       "      <td>Southwest</td>\n",
       "      <td>356</td>\n",
       "      <td>1</td>\n",
       "      <td>480</td>\n",
       "      <td>BIKE - STOLEN</td>\n",
       "      <td>0344 1251</td>\n",
       "      <td>19</td>\n",
       "      <td>X</td>\n",
       "      <td>X</td>\n",
       "    </tr>\n",
       "    <tr>\n",
       "      <th>3</th>\n",
       "      <td>200907217</td>\n",
       "      <td>05/10/2023 12:00:00 AM</td>\n",
       "      <td>03/10/2020 12:00:00 AM</td>\n",
       "      <td>2037</td>\n",
       "      <td>9</td>\n",
       "      <td>Van Nuys</td>\n",
       "      <td>964</td>\n",
       "      <td>1</td>\n",
       "      <td>343</td>\n",
       "      <td>SHOPLIFTING-GRAND THEFT ($950.01 &amp; OVER)</td>\n",
       "      <td>0325 1501</td>\n",
       "      <td>19</td>\n",
       "      <td>M</td>\n",
       "      <td>O</td>\n",
       "    </tr>\n",
       "    <tr>\n",
       "      <th>4</th>\n",
       "      <td>220614831</td>\n",
       "      <td>08/18/2022 12:00:00 AM</td>\n",
       "      <td>08/17/2020 12:00:00 AM</td>\n",
       "      <td>1200</td>\n",
       "      <td>6</td>\n",
       "      <td>Hollywood</td>\n",
       "      <td>666</td>\n",
       "      <td>2</td>\n",
       "      <td>354</td>\n",
       "      <td>THEFT OF IDENTITY</td>\n",
       "      <td>1822 1501 0930 2004</td>\n",
       "      <td>28</td>\n",
       "      <td>M</td>\n",
       "      <td>H</td>\n",
       "    </tr>\n",
       "  </tbody>\n",
       "</table>\n",
       "</div>"
      ],
      "text/plain": [
       "       DR_NO               Date Rptd                DATE OCC  TIME OCC  AREA  \\\n",
       "0  190326475  03/01/2020 12:00:00 AM  03/01/2020 12:00:00 AM      2130     7   \n",
       "1  200106753  02/09/2020 12:00:00 AM  02/08/2020 12:00:00 AM      1800     1   \n",
       "2  200320258  11/11/2020 12:00:00 AM  11/04/2020 12:00:00 AM      1700     3   \n",
       "3  200907217  05/10/2023 12:00:00 AM  03/10/2020 12:00:00 AM      2037     9   \n",
       "4  220614831  08/18/2022 12:00:00 AM  08/17/2020 12:00:00 AM      1200     6   \n",
       "\n",
       "   AREA NAME  Rpt Dist No  Part 1-2  Crm Cd  \\\n",
       "0   Wilshire          784         1     510   \n",
       "1    Central          182         1     330   \n",
       "2  Southwest          356         1     480   \n",
       "3   Van Nuys          964         1     343   \n",
       "4  Hollywood          666         2     354   \n",
       "\n",
       "                                Crm Cd Desc              Mocodes  Vict Age  \\\n",
       "0                          VEHICLE - STOLEN                  NaN         0   \n",
       "1                     BURGLARY FROM VEHICLE       1822 1402 0344        47   \n",
       "2                             BIKE - STOLEN            0344 1251        19   \n",
       "3  SHOPLIFTING-GRAND THEFT ($950.01 & OVER)            0325 1501        19   \n",
       "4                         THEFT OF IDENTITY  1822 1501 0930 2004        28   \n",
       "\n",
       "  Vict Sex Vict Descent  \n",
       "0        M            O  \n",
       "1        M            O  \n",
       "2        X            X  \n",
       "3        M            O  \n",
       "4        M            H  "
      ]
     },
     "execution_count": 4,
     "metadata": {},
     "output_type": "execute_result"
    }
   ],
   "source": [
    "df.iloc[:,0:14].head()"
   ]
  },
  {
   "cell_type": "code",
   "execution_count": 5,
   "id": "c0fbed13",
   "metadata": {},
   "outputs": [
    {
     "data": {
      "text/html": [
       "<div>\n",
       "<style scoped>\n",
       "    .dataframe tbody tr th:only-of-type {\n",
       "        vertical-align: middle;\n",
       "    }\n",
       "\n",
       "    .dataframe tbody tr th {\n",
       "        vertical-align: top;\n",
       "    }\n",
       "\n",
       "    .dataframe thead th {\n",
       "        text-align: right;\n",
       "    }\n",
       "</style>\n",
       "<table border=\"1\" class=\"dataframe\">\n",
       "  <thead>\n",
       "    <tr style=\"text-align: right;\">\n",
       "      <th></th>\n",
       "      <th>Premis Cd</th>\n",
       "      <th>Premis Desc</th>\n",
       "      <th>Weapon Used Cd</th>\n",
       "      <th>Weapon Desc</th>\n",
       "      <th>Status</th>\n",
       "      <th>Status Desc</th>\n",
       "      <th>Crm Cd 1</th>\n",
       "      <th>Crm Cd 2</th>\n",
       "      <th>Crm Cd 3</th>\n",
       "      <th>Crm Cd 4</th>\n",
       "      <th>LOCATION</th>\n",
       "      <th>Cross Street</th>\n",
       "      <th>LAT</th>\n",
       "      <th>LON</th>\n",
       "    </tr>\n",
       "  </thead>\n",
       "  <tbody>\n",
       "    <tr>\n",
       "      <th>0</th>\n",
       "      <td>101.0</td>\n",
       "      <td>STREET</td>\n",
       "      <td>NaN</td>\n",
       "      <td>NaN</td>\n",
       "      <td>AA</td>\n",
       "      <td>Adult Arrest</td>\n",
       "      <td>510.0</td>\n",
       "      <td>998.0</td>\n",
       "      <td>NaN</td>\n",
       "      <td>NaN</td>\n",
       "      <td>1900 S  LONGWOOD                     AV</td>\n",
       "      <td>NaN</td>\n",
       "      <td>34.0375</td>\n",
       "      <td>-118.3506</td>\n",
       "    </tr>\n",
       "    <tr>\n",
       "      <th>1</th>\n",
       "      <td>128.0</td>\n",
       "      <td>BUS STOP/LAYOVER (ALSO QUERY 124)</td>\n",
       "      <td>NaN</td>\n",
       "      <td>NaN</td>\n",
       "      <td>IC</td>\n",
       "      <td>Invest Cont</td>\n",
       "      <td>330.0</td>\n",
       "      <td>998.0</td>\n",
       "      <td>NaN</td>\n",
       "      <td>NaN</td>\n",
       "      <td>1000 S  FLOWER                       ST</td>\n",
       "      <td>NaN</td>\n",
       "      <td>34.0444</td>\n",
       "      <td>-118.2628</td>\n",
       "    </tr>\n",
       "    <tr>\n",
       "      <th>2</th>\n",
       "      <td>502.0</td>\n",
       "      <td>MULTI-UNIT DWELLING (APARTMENT, DUPLEX, ETC)</td>\n",
       "      <td>NaN</td>\n",
       "      <td>NaN</td>\n",
       "      <td>IC</td>\n",
       "      <td>Invest Cont</td>\n",
       "      <td>480.0</td>\n",
       "      <td>NaN</td>\n",
       "      <td>NaN</td>\n",
       "      <td>NaN</td>\n",
       "      <td>1400 W  37TH                         ST</td>\n",
       "      <td>NaN</td>\n",
       "      <td>34.0210</td>\n",
       "      <td>-118.3002</td>\n",
       "    </tr>\n",
       "    <tr>\n",
       "      <th>3</th>\n",
       "      <td>405.0</td>\n",
       "      <td>CLOTHING STORE</td>\n",
       "      <td>NaN</td>\n",
       "      <td>NaN</td>\n",
       "      <td>IC</td>\n",
       "      <td>Invest Cont</td>\n",
       "      <td>343.0</td>\n",
       "      <td>NaN</td>\n",
       "      <td>NaN</td>\n",
       "      <td>NaN</td>\n",
       "      <td>14000    RIVERSIDE                    DR</td>\n",
       "      <td>NaN</td>\n",
       "      <td>34.1576</td>\n",
       "      <td>-118.4387</td>\n",
       "    </tr>\n",
       "    <tr>\n",
       "      <th>4</th>\n",
       "      <td>102.0</td>\n",
       "      <td>SIDEWALK</td>\n",
       "      <td>NaN</td>\n",
       "      <td>NaN</td>\n",
       "      <td>IC</td>\n",
       "      <td>Invest Cont</td>\n",
       "      <td>354.0</td>\n",
       "      <td>NaN</td>\n",
       "      <td>NaN</td>\n",
       "      <td>NaN</td>\n",
       "      <td>1900    TRANSIENT</td>\n",
       "      <td>NaN</td>\n",
       "      <td>34.0944</td>\n",
       "      <td>-118.3277</td>\n",
       "    </tr>\n",
       "  </tbody>\n",
       "</table>\n",
       "</div>"
      ],
      "text/plain": [
       "   Premis Cd                                   Premis Desc  Weapon Used Cd  \\\n",
       "0      101.0                                        STREET             NaN   \n",
       "1      128.0             BUS STOP/LAYOVER (ALSO QUERY 124)             NaN   \n",
       "2      502.0  MULTI-UNIT DWELLING (APARTMENT, DUPLEX, ETC)             NaN   \n",
       "3      405.0                                CLOTHING STORE             NaN   \n",
       "4      102.0                                      SIDEWALK             NaN   \n",
       "\n",
       "  Weapon Desc Status   Status Desc  Crm Cd 1  Crm Cd 2  Crm Cd 3  Crm Cd 4  \\\n",
       "0         NaN     AA  Adult Arrest     510.0     998.0       NaN       NaN   \n",
       "1         NaN     IC   Invest Cont     330.0     998.0       NaN       NaN   \n",
       "2         NaN     IC   Invest Cont     480.0       NaN       NaN       NaN   \n",
       "3         NaN     IC   Invest Cont     343.0       NaN       NaN       NaN   \n",
       "4         NaN     IC   Invest Cont     354.0       NaN       NaN       NaN   \n",
       "\n",
       "                                   LOCATION Cross Street      LAT       LON  \n",
       "0   1900 S  LONGWOOD                     AV          NaN  34.0375 -118.3506  \n",
       "1   1000 S  FLOWER                       ST          NaN  34.0444 -118.2628  \n",
       "2   1400 W  37TH                         ST          NaN  34.0210 -118.3002  \n",
       "3  14000    RIVERSIDE                    DR          NaN  34.1576 -118.4387  \n",
       "4                         1900    TRANSIENT          NaN  34.0944 -118.3277  "
      ]
     },
     "execution_count": 5,
     "metadata": {},
     "output_type": "execute_result"
    }
   ],
   "source": [
    "df.iloc[:,14:].head()"
   ]
  },
  {
   "cell_type": "code",
   "execution_count": 6,
   "id": "34277ed5",
   "metadata": {},
   "outputs": [
    {
     "name": "stdout",
     "output_type": "stream",
     "text": [
      "<class 'pandas.core.frame.DataFrame'>\n",
      "RangeIndex: 970760 entries, 0 to 970759\n",
      "Data columns (total 28 columns):\n",
      " #   Column          Non-Null Count   Dtype  \n",
      "---  ------          --------------   -----  \n",
      " 0   DR_NO           970760 non-null  int64  \n",
      " 1   Date Rptd       970760 non-null  object \n",
      " 2   DATE OCC        970760 non-null  object \n",
      " 3   TIME OCC        970760 non-null  int64  \n",
      " 4   AREA            970760 non-null  int64  \n",
      " 5   AREA NAME       970760 non-null  object \n",
      " 6   Rpt Dist No     970760 non-null  int64  \n",
      " 7   Part 1-2        970760 non-null  int64  \n",
      " 8   Crm Cd          970760 non-null  int64  \n",
      " 9   Crm Cd Desc     970760 non-null  object \n",
      " 10  Mocodes         829240 non-null  object \n",
      " 11  Vict Age        970760 non-null  int64  \n",
      " 12  Vict Sex        835948 non-null  object \n",
      " 13  Vict Descent    835938 non-null  object \n",
      " 14  Premis Cd       970746 non-null  float64\n",
      " 15  Premis Desc     970177 non-null  object \n",
      " 16  Weapon Used Cd  325607 non-null  float64\n",
      " 17  Weapon Desc     325607 non-null  object \n",
      " 18  Status          970759 non-null  object \n",
      " 19  Status Desc     970760 non-null  object \n",
      " 20  Crm Cd 1        970749 non-null  float64\n",
      " 21  Crm Cd 2        68718 non-null   float64\n",
      " 22  Crm Cd 3        2304 non-null    float64\n",
      " 23  Crm Cd 4        64 non-null      float64\n",
      " 24  LOCATION        970760 non-null  object \n",
      " 25  Cross Street    150636 non-null  object \n",
      " 26  LAT             970760 non-null  float64\n",
      " 27  LON             970760 non-null  float64\n",
      "dtypes: float64(8), int64(7), object(13)\n",
      "memory usage: 207.4+ MB\n"
     ]
    }
   ],
   "source": [
    "df.info()"
   ]
  },
  {
   "cell_type": "code",
   "execution_count": 7,
   "id": "8dd31dad",
   "metadata": {},
   "outputs": [
    {
     "data": {
      "text/plain": [
       "(970760, 28)"
      ]
     },
     "execution_count": 7,
     "metadata": {},
     "output_type": "execute_result"
    }
   ],
   "source": [
    "df.shape"
   ]
  },
  {
   "cell_type": "markdown",
   "id": "c445513d",
   "metadata": {},
   "source": [
    "## Data Cleaning"
   ]
  },
  {
   "cell_type": "code",
   "execution_count": 8,
   "id": "819c4d4b",
   "metadata": {},
   "outputs": [],
   "source": [
    "# Drop unecessary columns\n",
    "df_cleaned = df.drop(columns=['Part 1-2', 'Mocodes', 'Crm Cd 1', 'Crm Cd 2', 'Crm Cd 3',\n",
    "                              'Crm Cd 4', 'Cross Street', 'LAT', 'LON'])"
   ]
  },
  {
   "cell_type": "code",
   "execution_count": 9,
   "id": "8eca9842",
   "metadata": {},
   "outputs": [],
   "source": [
    "# Rename columns\n",
    "df_cleaned = df_cleaned.rename(columns={'DR_NO': 'dr_no', 'Date Rptd': 'date_rptd', 'DATE OCC': 'date_occ',\n",
    "                                        'TIME OCC': 'time_occ', 'AREA': 'area', 'AREA NAME': 'area_name', \n",
    "                                        'Rpt Dist No': 'rpt_dist_no', 'Crm Cd': 'crm_cd', 'Crm Cd Desc': 'crm_cd_desc', \n",
    "                                        'Vict Age': 'vict_age', 'Vict Sex': 'vict_sex', 'Vict Descent': 'vict_descent', \n",
    "                                        'Premis Cd': 'premis_cd', 'Premis Desc': 'premis_desc',\n",
    "                                        'Weapon Used Cd': 'weapon_used_cd', 'Weapon Desc': 'weapon_desc', \n",
    "                                        'Status': 'status', 'Status Desc': 'status_desc', 'LOCATION': 'location'})"
   ]
  },
  {
   "cell_type": "code",
   "execution_count": 10,
   "id": "b3afb97a",
   "metadata": {},
   "outputs": [
    {
     "data": {
      "text/plain": [
       "0"
      ]
     },
     "execution_count": 10,
     "metadata": {},
     "output_type": "execute_result"
    }
   ],
   "source": [
    "# Check for duplicates and remove \n",
    "duplicate_values_count = df_cleaned.duplicated().sum()\n",
    "duplicate_values_count"
   ]
  },
  {
   "cell_type": "code",
   "execution_count": 11,
   "id": "37d4347c",
   "metadata": {},
   "outputs": [
    {
     "name": "stdout",
     "output_type": "stream",
     "text": [
      "Percent Missing: 8.46075023150608\n",
      "\n",
      "Percent Missing Per Column:\n",
      "weapon_desc       66.458548\n",
      "weapon_used_cd    66.458548\n",
      "vict_descent      13.888294\n",
      "vict_sex          13.887264\n",
      "premis_desc        0.060056\n",
      "premis_cd          0.001442\n",
      "status             0.000103\n",
      "dr_no              0.000000\n",
      "status_desc        0.000000\n",
      "vict_age           0.000000\n",
      "date_rptd          0.000000\n",
      "crm_cd_desc        0.000000\n",
      "crm_cd             0.000000\n",
      "rpt_dist_no        0.000000\n",
      "area_name          0.000000\n",
      "area               0.000000\n",
      "time_occ           0.000000\n",
      "date_occ           0.000000\n",
      "location           0.000000\n",
      "dtype: float64\n"
     ]
    }
   ],
   "source": [
    "# Check for missing values\n",
    "missing_value_count = df_cleaned.isna().sum()\n",
    "missing_value_count.sort_values(ascending=False)\n",
    "\n",
    "# Caluclate percent of data missing\n",
    "total_cells = np.product(df_cleaned.shape)\n",
    "total_missing = missing_value_count.sum()\n",
    "percent_missing = (total_missing/total_cells) * 100\n",
    "print(f\"Percent Missing: {percent_missing}\\n\")\n",
    "\n",
    "# Calculate the percent of data missing per column\n",
    "percent_missing_col = (missing_value_count.sort_values(ascending=False)/df_cleaned.shape[0]) * 100\n",
    "print(\"Percent Missing Per Column:\")\n",
    "print(percent_missing_col)"
   ]
  },
  {
   "cell_type": "code",
   "execution_count": 12,
   "id": "25e9f050",
   "metadata": {},
   "outputs": [
    {
     "name": "stdout",
     "output_type": "stream",
     "text": [
      "Unique values in weapon_desc:\n",
      "[nan 'STRONG-ARM (HANDS, FIST, FEET OR BODILY FORCE)' 'VEHICLE'\n",
      " 'UNKNOWN WEAPON/OTHER WEAPON' 'VERBAL THREAT'\n",
      " 'BELT FLAILING INSTRUMENT/CHAIN' 'HAND GUN' 'UNKNOWN FIREARM'\n",
      " 'KNIFE WITH BLADE 6INCHES OR LESS' 'FIXED OBJECT' 'KITCHEN KNIFE'\n",
      " 'MACHETE' 'UNKNOWN TYPE CUTTING INSTRUMENT' 'MACE/PEPPER SPRAY' 'STICK'\n",
      " 'OTHER KNIFE' 'PHYSICAL PRESENCE'\n",
      " 'KNIFE WITH BLADE OVER 6 INCHES IN LENGTH' 'HAMMER'\n",
      " 'AIR PISTOL/REVOLVER/RIFLE/BB GUN' 'SEMI-AUTOMATIC PISTOL'\n",
      " 'SIMULATED GUN' 'RAZOR' 'OTHER FIREARM' 'FOLDING KNIFE' 'PIPE/METAL PIPE'\n",
      " 'ROCK/THROWN OBJECT' 'RIFLE' 'OTHER CUTTING INSTRUMENT' 'FIRE' 'REVOLVER'\n",
      " 'BOTTLE' 'SCISSORS' 'SWITCH BLADE' 'BRASS KNUCKLES' 'CLUB/BAT'\n",
      " 'BLUNT INSTRUMENT' 'BOARD' 'STUN GUN' 'CLEAVER' 'RAZOR BLADE'\n",
      " 'SCREWDRIVER' 'SHOTGUN' 'CONCRETE BLOCK/BRICK' 'CAUSTIC CHEMICAL/POISON'\n",
      " 'SEMI-AUTOMATIC RIFLE' 'SCALDING LIQUID' 'TIRE IRON' 'BOWIE KNIFE'\n",
      " 'GLASS' 'AXE' 'TOY GUN' 'BOMB THREAT' 'SAWED OFF RIFLE/SHOTGUN'\n",
      " 'MARTIAL ARTS WEAPONS' 'DEMAND NOTE' 'DIRK/DAGGER'\n",
      " 'ASSAULT WEAPON/UZI/AK47/ETC' 'ROPE/LIGATURE'\n",
      " 'HECKLER & KOCH 93 SEMIAUTOMATIC ASSAULT RIFLE' 'EXPLOXIVE DEVICE'\n",
      " 'SWORD' 'MAC-11 SEMIAUTOMATIC ASSAULT WEAPON' 'SYRINGE' 'BOW AND ARROW'\n",
      " 'LIQUOR/DRUGS' 'DOG/ANIMAL (SIC ANIMAL ON)' 'BLACKJACK' 'ICE PICK'\n",
      " 'RELIC FIREARM' 'AUTOMATIC WEAPON/SUB-MACHINE GUN' 'ANTIQUE FIREARM'\n",
      " 'HECKLER & KOCH 91 SEMIAUTOMATIC ASSAULT RIFLE' 'STRAIGHT RAZOR'\n",
      " 'M1-1 SEMIAUTOMATIC ASSAULT RIFLE' 'STARTER PISTOL/REVOLVER'\n",
      " 'UZI SEMIAUTOMATIC ASSAULT RIFLE' 'MAC-10 SEMIAUTOMATIC ASSAULT WEAPON'\n",
      " 'UNK TYPE SEMIAUTOMATIC ASSAULT RIFLE' 'M-14 SEMIAUTOMATIC ASSAULT RIFLE']\n",
      "\n",
      "Unique values in weapon_used_cd:\n",
      "[ nan 400. 307. 500. 511. 301. 102. 106. 200. 305. 205. 215. 223. 512.\n",
      " 308. 207. 515. 201. 311. 114. 109. 113. 208. 107. 204. 312. 306. 103.\n",
      " 218. 506. 101. 212. 216. 206. 303. 304. 302. 309. 513. 213. 210. 219.\n",
      " 104. 310. 503. 110. 510. 514. 202. 221. 211. 112. 501. 105. 508. 504.\n",
      " 203. 115. 509. 122. 505. 217. 120. 220. 502. 507. 516. 300. 214. 125.\n",
      " 108. 116. 121. 209. 123. 111. 118. 119. 117. 124.]\n"
     ]
    }
   ],
   "source": [
    "# Check weapon_desc and weapon_used_cd columns to determine how to fill in missing values\n",
    "print(\"Unique values in weapon_desc:\")\n",
    "print(df_cleaned['weapon_desc'].unique())\n",
    "\n",
    "print(\"\\nUnique values in weapon_used_cd:\")\n",
    "print(df_cleaned['weapon_used_cd'].unique())"
   ]
  },
  {
   "cell_type": "code",
   "execution_count": 13,
   "id": "a50ab6cd",
   "metadata": {},
   "outputs": [
    {
     "name": "stdout",
     "output_type": "stream",
     "text": [
      "Unique values in vict_descent:\n",
      "['O' 'X' 'H' 'B' 'W' nan 'A' 'K' 'C' 'J' 'F' 'I' 'V' 'S' 'P' 'Z' 'G' 'U'\n",
      " 'D' 'L' '-']\n",
      "\n",
      "Unique values in vict_sex:\n",
      "['M' 'X' 'F' nan 'H' '-']\n"
     ]
    }
   ],
   "source": [
    "# Check vict_descent and vict_sex columns\n",
    "print(\"Unique values in vict_descent:\")\n",
    "print(df_cleaned['vict_descent'].unique())\n",
    "\n",
    "print(\"\\nUnique values in vict_sex:\")\n",
    "print(df_cleaned['vict_sex'].unique())"
   ]
  },
  {
   "cell_type": "code",
   "execution_count": 14,
   "id": "8cdd9f91",
   "metadata": {
    "scrolled": false
   },
   "outputs": [
    {
     "name": "stdout",
     "output_type": "stream",
     "text": [
      "Unique values in premis_desc:\n",
      "['STREET' 'BUS STOP/LAYOVER (ALSO QUERY 124)'\n",
      " 'MULTI-UNIT DWELLING (APARTMENT, DUPLEX, ETC)' 'CLOTHING STORE'\n",
      " 'SIDEWALK' 'SINGLE FAMILY DWELLING' 'CELL PHONE STORE' 'CYBERSPACE'\n",
      " 'WEBSITE' 'OTHER BUSINESS' 'PARKING LOT' 'OTHER RESIDENCE'\n",
      " 'AUTOMATED TELLER MACHINE (ATM)' 'DEPARTMENT STORE' 'PUBLIC STORAGE'\n",
      " 'GARAGE/CARPORT' 'OFFICE BUILDING/OFFICE' 'EQUIPMENT RENTAL'\n",
      " 'POLICE FACILITY' 'MTA BUS' 'SPECIALTY SCHOOL/OTHER' 'BANK'\n",
      " 'GOVERNMENT FACILITY (FEDERAL,STATE, COUNTY & CITY)' 'SKATING RINK*'\n",
      " 'BUS STOP' 'JUNIOR HIGH SCHOOL' 'OTHER/OUTSIDE' 'ALLEY'\n",
      " 'VEHICLE, PASSENGER/TRUCK' 'ABANDONED BUILDING ABANDONED HOUSE'\n",
      " 'TRANSPORTATION FACILITY (AIRPORT)' 'MOTEL' 'HOSPITAL'\n",
      " 'BUS, SCHOOL, CHURCH' 'OTHER PREMISE' 'STORAGE SHED' 'OTHER STORE'\n",
      " 'HIGH SCHOOL' 'MAIL BOX' 'HOTEL' 'NIGHT CLUB (OPEN EVENINGS ONLY)'\n",
      " 'FINANCE COMPANY' 'PARK/PLAYGROUND' 'COLISEUM' 'HEALTH SPA/GYM'\n",
      " 'CHURCH/CHAPEL (CHANGED 03-03 FROM CHURCH/TEMPLE)' 'DRIVEWAY'\n",
      " 'UNDERPASS/BRIDGE*' 'BANKING INSIDE MARKET-STORE *'\n",
      " 'TELECOMMUNICATION FACILITY/LOCATION' 'LAUNDROMAT' 'PORCH, RESIDENTIAL'\n",
      " 'CONDOMINIUM/TOWNHOUSE' 'GROUP HOME' 'PAY PHONE' 'NAIL SALON'\n",
      " 'TRAIN TRACKS' 'ELEMENTARY SCHOOL' 'OTHER PLACE OF WORSHIP'\n",
      " \"DIY CENTER (LOWE'S,HOME DEPOT,OSH,CONTRACTORS WAREHOUSE)\"\n",
      " 'MISSIONS/SHELTERS' 'MUNICIPAL BUS LINE INCLUDES LADOT/DASH'\n",
      " 'POST OFFICE' 'MTA - EXPO LINE - JEFFERSON/USC'\n",
      " 'YARD (RESIDENTIAL/BUSINESS)' 'BUS-CHARTER/PRIVATE'\n",
      " 'GREYHOUND OR INTERSTATE BUS' 'BAR/COCKTAIL/NIGHTCLUB'\n",
      " 'TRANSITIONAL HOUSING/HALFWAY HOUSE' 'GAS STATION'\n",
      " 'TRASH CAN/TRASH DUMPSTER' 'DRUG STORE' 'RESTAURANT/FAST FOOD'\n",
      " 'BAR/SPORTS BAR (OPEN DAY & NIGHT)'\n",
      " 'NURSING/CONVALESCENT/RETIREMENT HOME' 'CREDIT UNION' 'AUTO SALES LOT'\n",
      " 'PARKING UNDERGROUND/BUILDING' 'MTA PROPERTY OR PARKING LOT'\n",
      " 'MEMBERSHIP STORE (COSTCO,SAMS CLUB)*' 'CAR WASH' 'AUTO REPAIR SHOP'\n",
      " 'MEDICAL/DENTAL OFFICES' 'ELECTRONICS STORE (IE:RADIO SHACK, ETC.)'\n",
      " 'LA UNION STATION (NOT LINE SPECIFIC)' 'MINI-MART' 'MARKET'\n",
      " 'SHOPPING MALL (COMMON AREA)' 'DAM/RESERVOIR'\n",
      " 'TRADE SCHOOL (MEDICAL-TECHNICAL-BUSINESS)*'\n",
      " 'MTA - RED LINE - VERMONT/BEVERLY' 'DAY CARE/CHILDREN*'\n",
      " 'PHARMACY INSIDE STORE OR SUPERMARKET*'\n",
      " 'DISCOUNT STORE (99 CENT,DOLLAR,ETC.' 'PATIO*'\n",
      " 'MTA - RED LINE - 7TH AND METRO CENTER'\n",
      " 'DELIVERY SERVICE (FED EX, UPS, COURIERS,COURIER SERVICE)*' 'MORTUARY'\n",
      " 'MTA - EXPO LINE - EXPO/LA BREA'\n",
      " \"SEX ORIENTED/BOOK STORE/STRIP CLUB/GENTLEMAN'S CLUB\"\n",
      " 'MTA - ORANGE LINE - NORTH HOLLYWOOD'\n",
      " \"COFFEE SHOP (STARBUCKS, COFFEE BEAN, PEET'S, ETC.)\" 'CONSTRUCTION SITE'\n",
      " 'STUDIO (FILM/PHOTOGRAPHIC/MUSIC)' 'BEAUTY/BARBER SHOP' 'VALET'\n",
      " 'LIQUOR STORE' 'PROJECT/TENEMENT/PUBLIC HOUSING' 'BEAUTY SUPPLY STORE'\n",
      " 'DRIVE THRU*' 'MTA - RED LINE - NORTH HOLLYWOOD'\n",
      " 'MTA - EXPO LINE - EXPO/VERMONT' 'BUS DEPOT/TERMINAL, OTHER THAN MTA'\n",
      " 'SKATEBOARD FACILITY/SKATEBOARD PARK*' 'CONVENTION CENTER' 'WAREHOUSE'\n",
      " 'DETENTION/JAIL FACILITY' 'NURSERY/FLOWER SHOP'\n",
      " 'MTA - PURPLE LINE - WILSHIRE/NORMANDIE' 'RECYCLING CENTER' 'STAIRWELL*'\n",
      " '7TH AND METRO CENTER (NOT LINE SPECIFIC)'\n",
      " 'FRAT HOUSE/SORORITY/DORMITORY' 'TAXI' nan 'FACTORY'\n",
      " 'TRANSIENT ENCAMPMENT' 'MTA - RED LINE - WESTLAKE/MACARTHUR PARK'\n",
      " 'THE GROVE' \"SINGLE RESIDENCE OCCUPANCY (SRO'S) LOCATIONS\"\n",
      " 'COLLEGE/JUNIOR COLLEGE/UNIVERSITY' 'VETERINARIAN/ANIMAL HOSPITAL'\n",
      " 'CHECK CASHING*' 'ENERGY PLANT/FACILITY' 'TUNNEL' 'AUTO SUPPLY STORE*'\n",
      " 'BEACH' 'MTA - EXPO LINE - EXPO/WESTERN' 'THE BEVERLY CONNECTION'\n",
      " 'PUBLIC RESTROOM(INDOORS-INSIDE)' 'JEWELRY STORE'\n",
      " 'APARTMENT/CONDO COMMON LAUNDRY ROOM' 'SYNAGOGUE/TEMPLE'\n",
      " 'MTA - GOLD LINE - UNION STATION' 'PET STORE' 'MASSAGE PARLOR'\n",
      " 'PAWN SHOP' 'ELEVATOR' 'ENTERTAINMENT/COMEDY CLUB (OTHER)'\n",
      " 'HARDWARE/BUILDING SUPPLY' 'CLEANER/LAUNDROMAT' 'STAPLES CENTER *'\n",
      " 'MTA - BLUE LINE - WASHINGTON' 'FIRE STATION' 'LIBRARY' 'FURNITURE STORE'\n",
      " 'HIGH-RISE BUILDING' 'THE BEVERLY CENTER' 'TV/RADIO/APPLIANCE'\n",
      " 'TOBACCO SHOP' 'MTA - RED LINE - UNION STATION'\n",
      " 'AUTO DEALERSHIP (CHEVY, FORD, BMW, MERCEDES, ETC.)'\n",
      " 'SHORT-TERM VACATION RENTAL' 'MUSEUM'\n",
      " 'MTA - PURPLE LINE - CIVIC CENTER/GRAND PARK'\n",
      " \"MOBILE HOME/TRAILERS/CONSTRUCTION TRAILERS/RV'S/MOTORHOME\"\n",
      " 'MTA - RED LINE - CIVIC CENTER/GRAND PARK' 'HOSPICE'\n",
      " 'MTA - ORANGE LINE - CHATSWORTH'\n",
      " 'MTA - EXPO LINE - LATTC/ORTHO INSTITUTE'\n",
      " 'MTA - PURPLE LINE - WILSHIRE/WESTERN' 'TOW YARD*'\n",
      " 'MTA - GOLD LINE - HIGHLAND PARK'\n",
      " 'MEDICAL MARIJUANA FACILITIES/BUSINESSES' 'BALCONY*'\n",
      " 'MTA - RED LINE - UNIVERSAL CITY/STUDIO CITY'\n",
      " 'DRIVE THRU BANKING (WINDOW)*' 'TOOL SHED*' 'GOLF COURSE*' 'FREEWAY'\n",
      " 'PRIVATE SCHOOL/PRESCHOOL' 'DAY CARE/ADULTS*'\n",
      " 'MTA - RED LINE - PERSHING SQUARE' 'SLIPS/DOCK/MARINA/BOAT'\n",
      " 'THEATRE/MOVIE'\n",
      " \"VEHICLE STORAGE LOT (CARS, TRUCKS, RV'S, BOATS, TRAILERS, ETC.)\"\n",
      " 'CEMETARY*' 'MTA - EXPO LINE - FARMDALE' 'AIRCRAFT' 'TRUCK, COMMERICAL'\n",
      " 'OIL REFINERY' 'MTA - RED LINE - VERMONT/SUNSET'\n",
      " 'MTA - RED LINE - WILSHIRE/VERMONT' 'MTA - SILVER LINE - HARBOR FWY'\n",
      " 'VACANT LOT' 'WATER FACILITY' 'GUN/SPORTING GOODS' 'BASKETBALL COURTS'\n",
      " 'MTA - GREEN LINE - AVALON' 'MTA - BLUE LINE - 103RD/WATTS TOWERS'\n",
      " 'FOSTER HOME BOYS OR GIRLS*' 'MTA - RED LINE - VERMONT/SANTA MONICA'\n",
      " 'MTA - EXPO LINE - EXPO/SEPULVEDA' 'VISION CARE FACILITY*'\n",
      " 'MTA - PURPLE LINE - WILSHIRE/VERMONT'\n",
      " 'MTA - RED LINE - HOLLYWOOD/HIGHLAND'\n",
      " 'OTHER RR TRAIN (UNION PAC, SANTE FE ETC' 'MTA - BLUE LINE - VERNON'\n",
      " 'MTA - GREEN LINE - HARBOR FWY' 'PEDESTRIAN OVERCROSSING'\n",
      " 'MTA - SILVER LINE - HARBOR GATEWAY TRANSIT CTR'\n",
      " 'MTA - EXPO LINE - 7TH AND METRO CENTER' 'MTA - EXPO LINE - EXPO/BUNDY'\n",
      " 'MTA - RED LINE - HOLLYWOOD/VINE' 'SWAP MEET' 'SPORTS VENUE, OTHER'\n",
      " 'PUBLIC RESTROOM/OUTSIDE*' 'MTA - PURPLE LINE - WESTLAKE/MACARTHUR PARK'\n",
      " 'MTA - EXPO LINE - PALMS' 'MTA - BLUE LINE - SAN PEDRO' 'RIVER BED*'\n",
      " 'MTA - ORANGE LINE - RESEDA' 'MTA - SILVER LINE - ROSECRANS'\n",
      " 'MANUFACTURING COMPANY' 'TATTOO PARLOR*'\n",
      " 'OPTICAL OFFICE INSIDE STORE OR SUPERMARKET*'\n",
      " 'MTA - EXPO LINE - EXPO PARK/USC' 'MTA - ORANGE LINE - TAMPA'\n",
      " 'POOL-PUBLIC/OUTDOOR OR INDOOR*' 'SAVINGS & LOAN' 'METROLINK TRAIN'\n",
      " 'MTA - EXPO LINE - EXPO/CRENSHAW' 'HANDBALL COURTS'\n",
      " 'MTA - EXPO LINE - LA CIENEGA/JEFFERSON' 'MTA - BLUE LINE - GRAND/LATTC'\n",
      " 'MTA - BLUE LINE - PICO' 'AMUSEMENT PARK*' 'SPORTS ARENA'\n",
      " 'MTA - BLUE LINE - 7TH AND METRO CENTER'\n",
      " 'MTA - RED LINE - HOLLYWOOD/WESTERN' 'MTA - GOLD LINE - SOUTHWEST MUSEUM'\n",
      " 'TRAIN DEPOT/TERMINAL, OTHER THAN MTA'\n",
      " 'MTA - PURPLE LINE - UNION STATION' 'MTA - GOLD LINE - SOTO'\n",
      " 'BOWLING ALLEY*' 'MTA - ORANGE LINE - WOODMAN' 'MTA - EXPO LINE - PICO'\n",
      " 'MTA - ORANGE LINE - SHERMAN WAY' 'MTA - ORANGE LINE - VAN NUYS'\n",
      " 'BOOK STORE' 'MTA - ORANGE LINE - CANOGA' 'MTA - ORANGE LINE - NORDHOFF'\n",
      " 'MTA - PURPLE LINE - 7TH AND METRO CENTER'\n",
      " 'BANK DROP BOX/MONEY DROP-OUTSIDE OF BANK*'\n",
      " 'COMPUTER SERVICES/REPAIRS/SALES' 'MTA - GOLD LINE - LINCOLN/CYPRESS'\n",
      " 'ABATEMENT LOCATION' 'MTA - GOLD LINE - MARIACHI PLAZA'\n",
      " 'MTA - EXPO LINE - WESTWOOD/RANCHO PARK' 'TERMINAL, OTHER THAN MTA'\n",
      " 'MTA - SILVER LINE - SLAUSON' 'ABORTION CLINIC/ABORTION FACILITY*'\n",
      " 'MTA - ORANGE LINE - BALBOA' 'MUSCLE BEACH'\n",
      " 'MTA - PURPLE LINE - PERSHING SQUARE' 'MTA - ORANGE LINE - WOODLEY'\n",
      " 'MASS GATHERING LOCATION' 'MTA - GOLD LINE - HERITAGE SQ'\n",
      " 'MTA - GREEN LINE - AVIATION/LAX' 'RECORD-CD MUSIC/COMPUTER GAME STORE'\n",
      " 'MTA - ORANGE LINE - VALLEY COLLEGE' 'MTA - SILVER LINE - UNION STATION'\n",
      " 'SEWAGE FACILITY/PIPE' 'DODGER STADIUM'\n",
      " 'ARCADE,GAME ROOM/VIDEO GAMES (EXAMPLE CHUCKIE CHEESE)*'\n",
      " 'GARMENT MANUFACTURER' 'MTA - SILVER LINE - 37TH ST/USC'\n",
      " 'MTA - ORANGE LINE - LAUREL CANYON' 'MTA - GOLD LINE - CHINATOWN'\n",
      " 'MTA - GOLD LINE - INDIANA' 'CATERING/ICE CREAM TRUCK' 'METHADONE CLINIC'\n",
      " 'AMTRAK TRAIN' 'HORSE RACING/SANTA ANITA PARK*'\n",
      " 'MTA - SILVER LINE - DOWNTOWN STREET STOPS' 'VIDEO RENTAL STORE'\n",
      " 'MTA - SILVER LINE - PACIFIC COAST HWY' 'SURPLUS SURVIVAL STORE'\n",
      " 'MTA - ORANGE LINE - PIERCE COLLEGE' 'MTA - ORANGE LINE - ROSCOE'\n",
      " 'CULTURAL SIGNIFICANCE/MONUMENT' 'MTA - ORANGE LINE - SEPULVEDA'\n",
      " 'MTA - GOLD LINE - LITTLE TOKYO/ARTS DISTRICT'\n",
      " 'OTHER INTERSTATE, CHARTER BUS' 'MTA - GOLD LINE - PICO/ALISO' 'MOSQUE*'\n",
      " 'MTA - ORANGE LINE - DE SOTO' 'ESCALATOR*'\n",
      " 'TRAM/STREETCAR(BOXLIKE WAG ON RAILS)*'\n",
      " 'RETIRED (DUPLICATE) DO NOT USE THIS CODE'\n",
      " 'CHEMICAL STORAGE/MANUFACTURING PLANT'\n",
      " 'MTA - SILVER LINE - LAC/USC MEDICAL CENTER' 'DEPT OF DEFENSE FACILITY'\n",
      " 'TRAIN, OTHER THAN MTA (ALSO QUERY 809/810/811)' 'HOCKEY RINK/ICE HOCKEY'\n",
      " 'MTA - SILVER LINE - MANCHESTER'\n",
      " 'HARBOR FRWY STATION (NOT LINE SPECIFIC)']\n",
      "\n",
      "Unique values in premis_cd:\n",
      "[101. 128. 502. 405. 102. 501. 248. 750. 751. 203. 108. 504. 605. 404.\n",
      " 221. 707. 702. 209. 726. 801. 729. 602. 725. 737. 124. 720. 116. 103.\n",
      " 122. 506. 212. 505. 701. 112. 710. 120. 406. 721. 145. 503. 735. 604.\n",
      " 109. 712. 717. 708. 104. 152. 607. 238. 222. 119. 507. 514. 125. 220.\n",
      " 154. 704. 740. 243. 517. 802. 732. 943. 121. 111. 804. 207. 518. 301.\n",
      " 127. 403. 210. 733. 510. 603. 208. 123. 135. 410. 247. 217. 719. 412.\n",
      " 834. 401. 402. 727. 155. 724. 906. 231. 235. 242. 146. 903. 232. 253.\n",
      " 949. 706. 868. 252. 118. 254. 218. 156. 202. 511. 409. 142. 913. 945.\n",
      " 214. 736. 713. 213. 753. 249. 921. 251. 138. 835. 508. 114. 418. 302.\n",
      " 158. 904. 415. 516. 722. 755. 229. 241. 106. 408. 117. 946. 256. 417.\n",
      " 709. 201. 515. 730. 966. 411. 718. 211. 728. 703. 407. 219. 741. 935.\n",
      " 752. 738. 413. 744. 416. 206. 244. 900. 255. 519. 754. 916. 509. 901.\n",
      " 237. 885. 942. 922. 151. 971. 239. 140. 912. 606. 150. 144. 110. 723.\n",
      " 230. 902. 705. 716. 157. 141. 948. 115. 113. 303. 908. 905. 895. 107.\n",
      " 745. 205. 757. 956. 937. 512. 907. 953. 236. 920. 911. 811. 936. 957.\n",
      " 105. 897. 940. 954. 910. 216. 742. 148. 919. 951. 934. 149. 876. 896.\n",
      " 204. 233. 234. 944. 877. 147. 601. 809. 947. 758. 950. 933. 932. 139.\n",
      "  nan 739. 931. 909. 970. 974. 215. 915. 962. 228. 871. 941. 882. 872.\n",
      " 414. 880. 884. 918. 608. 250. 968. 513. 963. 952. 129. 893. 227. 875.\n",
      " 756. 917. 874. 743. 969. 958. 225. 870. 890. 746. 714. 711. 304. 892.\n",
      " 869. 967. 961. 245. 246. 810. 715. 891. 223. 898. 224. 878. 883. 748.\n",
      " 873. 965. 136. 964. 731. 879. 143. 137. 803. 305. 889. 240. 805. 126.\n",
      " 734. 894. 836. 972. 973. 976. 975.]\n",
      "\n",
      "Unique values in status:\n",
      "['AA' 'IC' 'AO' 'JA' 'JO' 'CC' nan]\n"
     ]
    }
   ],
   "source": [
    "# Check premis_desc, premis_cd, and status columns\n",
    "print(\"Unique values in premis_desc:\")\n",
    "print(df_cleaned['premis_desc'].unique())\n",
    "\n",
    "print(\"\\nUnique values in premis_cd:\")\n",
    "print(df_cleaned['premis_cd'].unique())\n",
    "\n",
    "print(\"\\nUnique values in status:\")\n",
    "print(df_cleaned['status'].unique())"
   ]
  },
  {
   "cell_type": "markdown",
   "id": "a3c13713",
   "metadata": {},
   "source": [
    "How na values will be dealt with:\n",
    "- Rows with na values in columns premis_cd amd premis_desc will be dropped since only a small percentage is missing\n",
    "- na values in vict_sex and vict_descent will be dropped since it does not make sense to have unknown victim sex and descent\n",
    "- Status will be filled in with value of 'IC' meaning 'Investigation Continued'\n",
    "- Columns weapon_used_cd and weapon_desc will be filled with 500.0 and 'UNKNOWN WEAPON/OTHER WEAPON' respectively to indicate the weapon used and description is unknown"
   ]
  },
  {
   "cell_type": "code",
   "execution_count": 15,
   "id": "dbd4e497",
   "metadata": {
    "scrolled": false
   },
   "outputs": [],
   "source": [
    "df_cleaned.dropna(subset=['premis_desc', 'premis_cd', 'vict_sex', 'vict_descent'], inplace=True)"
   ]
  },
  {
   "cell_type": "code",
   "execution_count": 16,
   "id": "95d8b633",
   "metadata": {},
   "outputs": [],
   "source": [
    "df_cleaned.fillna(\n",
    "    {\n",
    "        'status': 'IC', \n",
    "        'weapon_used_cd': 500.0, \n",
    "        'weapon_desc': 'UNKNOWN WEAPON/OTHER WEAPON'\n",
    "    }, inplace=True)"
   ]
  },
  {
   "cell_type": "code",
   "execution_count": 17,
   "id": "3cda4593",
   "metadata": {},
   "outputs": [
    {
     "data": {
      "text/plain": [
       "dr_no             0\n",
       "date_rptd         0\n",
       "date_occ          0\n",
       "time_occ          0\n",
       "area              0\n",
       "area_name         0\n",
       "rpt_dist_no       0\n",
       "crm_cd            0\n",
       "crm_cd_desc       0\n",
       "vict_age          0\n",
       "vict_sex          0\n",
       "vict_descent      0\n",
       "premis_cd         0\n",
       "premis_desc       0\n",
       "weapon_used_cd    0\n",
       "weapon_desc       0\n",
       "status            0\n",
       "status_desc       0\n",
       "location          0\n",
       "dtype: int64"
      ]
     },
     "execution_count": 17,
     "metadata": {},
     "output_type": "execute_result"
    }
   ],
   "source": [
    "# Check if there are stil missing values\n",
    "df_cleaned.isna().sum()"
   ]
  },
  {
   "cell_type": "code",
   "execution_count": 18,
   "id": "083fb42d",
   "metadata": {},
   "outputs": [
    {
     "name": "stdout",
     "output_type": "stream",
     "text": [
      "Unique values in vict_descent:\n",
      "['O' 'X' 'H' 'B' 'W' 'A' 'K' 'C' 'J' 'F' 'I' 'V' 'S' 'P' 'Z' 'G' 'U' 'D'\n",
      " 'L' '-']\n",
      "\n",
      "Unique values in vict_sex:\n",
      "['M' 'X' 'F' 'H' '-']\n"
     ]
    }
   ],
   "source": [
    "print(\"Unique values in vict_descent:\")\n",
    "print(df_cleaned['vict_descent'].unique())\n",
    "\n",
    "print(\"\\nUnique values in vict_sex:\")\n",
    "print(df_cleaned['vict_sex'].unique())"
   ]
  },
  {
   "cell_type": "code",
   "execution_count": 19,
   "id": "b24ee0e4",
   "metadata": {},
   "outputs": [],
   "source": [
    "# Column vict_sex has 2 acceptable values F-Female, M-Male\n",
    "# however 'H', 'X' and '-' was discovered and now are going to be dropped\n",
    "vict_sex_index = df_cleaned[df_cleaned['vict_sex'].isin(['H', 'X', '-'])].index\n",
    "df_cleaned.drop(vict_sex_index, inplace=True)\n",
    "\n",
    "# Column vict_descent has '-' value which is incorrect and will be droppped\n",
    "vict_descent_index = df_cleaned[df_cleaned['vict_descent'] == '-'].index\n",
    "df_cleaned.drop(vict_descent_index, inplace=True)"
   ]
  },
  {
   "cell_type": "code",
   "execution_count": 20,
   "id": "a868cf90",
   "metadata": {},
   "outputs": [
    {
     "name": "stdout",
     "output_type": "stream",
     "text": [
      "['M' 'F']\n",
      "['O' 'H' 'B' 'W' 'A' 'K' 'C' 'J' 'F' 'X' 'I' 'V' 'S' 'P' 'Z' 'G' 'U' 'D'\n",
      " 'L']\n"
     ]
    }
   ],
   "source": [
    "# Check vict_sex and vict_descent columns for removed values\n",
    "print(df_cleaned['vict_sex'].unique())\n",
    "print(df_cleaned['vict_descent'].unique())"
   ]
  },
  {
   "cell_type": "code",
   "execution_count": 21,
   "id": "efca7bcf",
   "metadata": {
    "scrolled": false
   },
   "outputs": [
    {
     "data": {
      "text/plain": [
       "dr_no               int64\n",
       "date_rptd          object\n",
       "date_occ           object\n",
       "time_occ            int64\n",
       "area                int64\n",
       "area_name          object\n",
       "rpt_dist_no         int64\n",
       "crm_cd              int64\n",
       "crm_cd_desc        object\n",
       "vict_age            int64\n",
       "vict_sex           object\n",
       "vict_descent       object\n",
       "premis_cd         float64\n",
       "premis_desc        object\n",
       "weapon_used_cd    float64\n",
       "weapon_desc        object\n",
       "status             object\n",
       "status_desc        object\n",
       "location           object\n",
       "dtype: object"
      ]
     },
     "execution_count": 21,
     "metadata": {},
     "output_type": "execute_result"
    }
   ],
   "source": [
    "# Verify column data types are correct\n",
    "df_cleaned.dtypes"
   ]
  },
  {
   "cell_type": "code",
   "execution_count": 22,
   "id": "70387647",
   "metadata": {},
   "outputs": [],
   "source": [
    "# Convert dates to datetime\n",
    "df_cleaned['date_rptd'] = pd.to_datetime(df_cleaned['date_rptd'])\n",
    "df_cleaned['date_occ'] = pd.to_datetime(df_cleaned['date_occ'])"
   ]
  },
  {
   "cell_type": "code",
   "execution_count": 23,
   "id": "52b318e9",
   "metadata": {},
   "outputs": [
    {
     "data": {
      "text/plain": [
       "dr_no                      int64\n",
       "date_rptd         datetime64[ns]\n",
       "date_occ          datetime64[ns]\n",
       "time_occ                   int64\n",
       "area                       int64\n",
       "area_name                 object\n",
       "rpt_dist_no                int64\n",
       "crm_cd                     int64\n",
       "crm_cd_desc               object\n",
       "vict_age                   int64\n",
       "vict_sex                  object\n",
       "vict_descent              object\n",
       "premis_cd                float64\n",
       "premis_desc               object\n",
       "weapon_used_cd           float64\n",
       "weapon_desc               object\n",
       "status                    object\n",
       "status_desc               object\n",
       "location                  object\n",
       "dtype: object"
      ]
     },
     "execution_count": 23,
     "metadata": {},
     "output_type": "execute_result"
    }
   ],
   "source": [
    "# Verify if dates have been converted to datetime\n",
    "df_cleaned.dtypes"
   ]
  },
  {
   "cell_type": "code",
   "execution_count": 24,
   "id": "9b72d729",
   "metadata": {
    "scrolled": true
   },
   "outputs": [
    {
     "name": "stdout",
     "output_type": "stream",
     "text": [
      "Location: 1900 S  LONGWOOD                     AV\n",
      "String length: 39\n"
     ]
    },
    {
     "data": {
      "text/plain": [
       "['1900 S LONGWOOD AV',\n",
       " '1000 S FLOWER ST',\n",
       " '14000 RIVERSIDE DR',\n",
       " '1900 TRANSIENT',\n",
       " '9900 COMPTON AV',\n",
       " '1100 S GRAND AV',\n",
       " '2500 S SYCAMORE AV',\n",
       " '1300 E 57TH ST',\n",
       " '9000 CEDROS AV',\n",
       " '100 W COLDEN AV']"
      ]
     },
     "execution_count": 24,
     "metadata": {},
     "output_type": "execute_result"
    }
   ],
   "source": [
    "# Standardize formats\n",
    "df_cleaned['area_name'].unique()\n",
    "df_cleaned['status'].unique()\n",
    "\n",
    "# location column has white spaces in between and needs to be removed\n",
    "location_list = df_cleaned['location'].unique().tolist()\n",
    "print(f\"Location: {location_list[0]}\")\n",
    "print(f\"String length: {len(location_list[:10][0])}\")\n",
    "\n",
    "# Split each location and rejoin with a single empty space\n",
    "df_cleaned['location'] = df_cleaned['location'].apply(lambda x:\" \".join(x.split()))\n",
    "    \n",
    "# Confirm changes have been made\n",
    "df_cleaned['location'].unique().tolist()[:10]\n"
   ]
  },
  {
   "cell_type": "code",
   "execution_count": 25,
   "id": "0b636116",
   "metadata": {},
   "outputs": [
    {
     "data": {
      "text/html": [
       "<div>\n",
       "<style scoped>\n",
       "    .dataframe tbody tr th:only-of-type {\n",
       "        vertical-align: middle;\n",
       "    }\n",
       "\n",
       "    .dataframe tbody tr th {\n",
       "        vertical-align: top;\n",
       "    }\n",
       "\n",
       "    .dataframe thead th {\n",
       "        text-align: right;\n",
       "    }\n",
       "</style>\n",
       "<table border=\"1\" class=\"dataframe\">\n",
       "  <thead>\n",
       "    <tr style=\"text-align: right;\">\n",
       "      <th></th>\n",
       "      <th>dr_no</th>\n",
       "      <th>time_occ</th>\n",
       "      <th>area</th>\n",
       "      <th>rpt_dist_no</th>\n",
       "      <th>crm_cd</th>\n",
       "      <th>vict_age</th>\n",
       "      <th>premis_cd</th>\n",
       "      <th>weapon_used_cd</th>\n",
       "    </tr>\n",
       "  </thead>\n",
       "  <tbody>\n",
       "    <tr>\n",
       "      <th>count</th>\n",
       "      <td>7.433540e+05</td>\n",
       "      <td>743354.000000</td>\n",
       "      <td>743354.000000</td>\n",
       "      <td>743354.000000</td>\n",
       "      <td>743354.000000</td>\n",
       "      <td>743354.000000</td>\n",
       "      <td>743354.000000</td>\n",
       "      <td>743354.000000</td>\n",
       "    </tr>\n",
       "    <tr>\n",
       "      <th>mean</th>\n",
       "      <td>2.190118e+08</td>\n",
       "      <td>1324.376151</td>\n",
       "      <td>10.798983</td>\n",
       "      <td>1126.220108</td>\n",
       "      <td>498.856920</td>\n",
       "      <td>37.816821</td>\n",
       "      <td>334.603368</td>\n",
       "      <td>444.436745</td>\n",
       "    </tr>\n",
       "    <tr>\n",
       "      <th>std</th>\n",
       "      <td>1.260043e+07</td>\n",
       "      <td>652.031766</td>\n",
       "      <td>6.126683</td>\n",
       "      <td>612.622820</td>\n",
       "      <td>221.440584</td>\n",
       "      <td>17.421284</td>\n",
       "      <td>216.967712</td>\n",
       "      <td>102.353669</td>\n",
       "    </tr>\n",
       "    <tr>\n",
       "      <th>min</th>\n",
       "      <td>1.030447e+07</td>\n",
       "      <td>1.000000</td>\n",
       "      <td>1.000000</td>\n",
       "      <td>101.000000</td>\n",
       "      <td>110.000000</td>\n",
       "      <td>-4.000000</td>\n",
       "      <td>101.000000</td>\n",
       "      <td>101.000000</td>\n",
       "    </tr>\n",
       "    <tr>\n",
       "      <th>25%</th>\n",
       "      <td>2.105098e+08</td>\n",
       "      <td>900.000000</td>\n",
       "      <td>6.000000</td>\n",
       "      <td>632.000000</td>\n",
       "      <td>330.000000</td>\n",
       "      <td>27.000000</td>\n",
       "      <td>104.000000</td>\n",
       "      <td>400.000000</td>\n",
       "    </tr>\n",
       "    <tr>\n",
       "      <th>50%</th>\n",
       "      <td>2.207055e+08</td>\n",
       "      <td>1400.000000</td>\n",
       "      <td>11.000000</td>\n",
       "      <td>1144.000000</td>\n",
       "      <td>440.000000</td>\n",
       "      <td>36.000000</td>\n",
       "      <td>404.000000</td>\n",
       "      <td>500.000000</td>\n",
       "    </tr>\n",
       "    <tr>\n",
       "      <th>75%</th>\n",
       "      <td>2.307152e+08</td>\n",
       "      <td>1845.000000</td>\n",
       "      <td>16.000000</td>\n",
       "      <td>1623.000000</td>\n",
       "      <td>627.000000</td>\n",
       "      <td>49.000000</td>\n",
       "      <td>502.000000</td>\n",
       "      <td>500.000000</td>\n",
       "    </tr>\n",
       "    <tr>\n",
       "      <th>max</th>\n",
       "      <td>2.499187e+08</td>\n",
       "      <td>2359.000000</td>\n",
       "      <td>21.000000</td>\n",
       "      <td>2199.000000</td>\n",
       "      <td>956.000000</td>\n",
       "      <td>99.000000</td>\n",
       "      <td>971.000000</td>\n",
       "      <td>516.000000</td>\n",
       "    </tr>\n",
       "  </tbody>\n",
       "</table>\n",
       "</div>"
      ],
      "text/plain": [
       "              dr_no       time_occ           area    rpt_dist_no  \\\n",
       "count  7.433540e+05  743354.000000  743354.000000  743354.000000   \n",
       "mean   2.190118e+08    1324.376151      10.798983    1126.220108   \n",
       "std    1.260043e+07     652.031766       6.126683     612.622820   \n",
       "min    1.030447e+07       1.000000       1.000000     101.000000   \n",
       "25%    2.105098e+08     900.000000       6.000000     632.000000   \n",
       "50%    2.207055e+08    1400.000000      11.000000    1144.000000   \n",
       "75%    2.307152e+08    1845.000000      16.000000    1623.000000   \n",
       "max    2.499187e+08    2359.000000      21.000000    2199.000000   \n",
       "\n",
       "              crm_cd       vict_age      premis_cd  weapon_used_cd  \n",
       "count  743354.000000  743354.000000  743354.000000   743354.000000  \n",
       "mean      498.856920      37.816821     334.603368      444.436745  \n",
       "std       221.440584      17.421284     216.967712      102.353669  \n",
       "min       110.000000      -4.000000     101.000000      101.000000  \n",
       "25%       330.000000      27.000000     104.000000      400.000000  \n",
       "50%       440.000000      36.000000     404.000000      500.000000  \n",
       "75%       627.000000      49.000000     502.000000      500.000000  \n",
       "max       956.000000      99.000000     971.000000      516.000000  "
      ]
     },
     "execution_count": 25,
     "metadata": {},
     "output_type": "execute_result"
    }
   ],
   "source": [
    "# Validate ranges\n",
    "df_cleaned.describe()"
   ]
  },
  {
   "cell_type": "code",
   "execution_count": 26,
   "id": "1a4c8b2a",
   "metadata": {},
   "outputs": [],
   "source": [
    "# vict_age has a min value of -4, will check the column for ages less than 1 and remove those values.\n",
    "df_cleaned.drop(df_cleaned[df_cleaned['vict_age'] < 1].index, inplace=True) "
   ]
  },
  {
   "cell_type": "code",
   "execution_count": 27,
   "id": "ebd5c622",
   "metadata": {},
   "outputs": [],
   "source": [
    "# An age of 120 was discovered, filter df to only include ages below 100\n",
    "df_cleaned = df_cleaned[df_cleaned['vict_age'] < 100]"
   ]
  },
  {
   "cell_type": "code",
   "execution_count": 28,
   "id": "1c00d065",
   "metadata": {},
   "outputs": [
    {
     "data": {
      "text/html": [
       "<div>\n",
       "<style scoped>\n",
       "    .dataframe tbody tr th:only-of-type {\n",
       "        vertical-align: middle;\n",
       "    }\n",
       "\n",
       "    .dataframe tbody tr th {\n",
       "        vertical-align: top;\n",
       "    }\n",
       "\n",
       "    .dataframe thead th {\n",
       "        text-align: right;\n",
       "    }\n",
       "</style>\n",
       "<table border=\"1\" class=\"dataframe\">\n",
       "  <thead>\n",
       "    <tr style=\"text-align: right;\">\n",
       "      <th></th>\n",
       "      <th>dr_no</th>\n",
       "      <th>time_occ</th>\n",
       "      <th>area</th>\n",
       "      <th>rpt_dist_no</th>\n",
       "      <th>crm_cd</th>\n",
       "      <th>vict_age</th>\n",
       "      <th>premis_cd</th>\n",
       "      <th>weapon_used_cd</th>\n",
       "    </tr>\n",
       "  </thead>\n",
       "  <tbody>\n",
       "    <tr>\n",
       "      <th>count</th>\n",
       "      <td>7.071800e+05</td>\n",
       "      <td>707180.000000</td>\n",
       "      <td>707180.000000</td>\n",
       "      <td>707180.000000</td>\n",
       "      <td>707180.000000</td>\n",
       "      <td>707180.000000</td>\n",
       "      <td>707180.000000</td>\n",
       "      <td>707180.000000</td>\n",
       "    </tr>\n",
       "    <tr>\n",
       "      <th>mean</th>\n",
       "      <td>2.189909e+08</td>\n",
       "      <td>1325.497739</td>\n",
       "      <td>10.780571</td>\n",
       "      <td>1124.443210</td>\n",
       "      <td>498.412319</td>\n",
       "      <td>39.751318</td>\n",
       "      <td>335.175213</td>\n",
       "      <td>443.874589</td>\n",
       "    </tr>\n",
       "    <tr>\n",
       "      <th>std</th>\n",
       "      <td>1.257622e+07</td>\n",
       "      <td>651.634094</td>\n",
       "      <td>6.150681</td>\n",
       "      <td>614.919363</td>\n",
       "      <td>221.319658</td>\n",
       "      <td>15.560339</td>\n",
       "      <td>216.838397</td>\n",
       "      <td>102.078485</td>\n",
       "    </tr>\n",
       "    <tr>\n",
       "      <th>min</th>\n",
       "      <td>1.030447e+07</td>\n",
       "      <td>1.000000</td>\n",
       "      <td>1.000000</td>\n",
       "      <td>101.000000</td>\n",
       "      <td>110.000000</td>\n",
       "      <td>2.000000</td>\n",
       "      <td>101.000000</td>\n",
       "      <td>101.000000</td>\n",
       "    </tr>\n",
       "    <tr>\n",
       "      <th>25%</th>\n",
       "      <td>2.105102e+08</td>\n",
       "      <td>900.000000</td>\n",
       "      <td>6.000000</td>\n",
       "      <td>628.000000</td>\n",
       "      <td>330.000000</td>\n",
       "      <td>28.000000</td>\n",
       "      <td>104.000000</td>\n",
       "      <td>400.000000</td>\n",
       "    </tr>\n",
       "    <tr>\n",
       "      <th>50%</th>\n",
       "      <td>2.206202e+08</td>\n",
       "      <td>1400.000000</td>\n",
       "      <td>11.000000</td>\n",
       "      <td>1142.000000</td>\n",
       "      <td>440.000000</td>\n",
       "      <td>37.000000</td>\n",
       "      <td>405.000000</td>\n",
       "      <td>500.000000</td>\n",
       "    </tr>\n",
       "    <tr>\n",
       "      <th>75%</th>\n",
       "      <td>2.307112e+08</td>\n",
       "      <td>1845.000000</td>\n",
       "      <td>16.000000</td>\n",
       "      <td>1641.000000</td>\n",
       "      <td>626.000000</td>\n",
       "      <td>50.000000</td>\n",
       "      <td>502.000000</td>\n",
       "      <td>500.000000</td>\n",
       "    </tr>\n",
       "    <tr>\n",
       "      <th>max</th>\n",
       "      <td>2.499187e+08</td>\n",
       "      <td>2359.000000</td>\n",
       "      <td>21.000000</td>\n",
       "      <td>2199.000000</td>\n",
       "      <td>956.000000</td>\n",
       "      <td>99.000000</td>\n",
       "      <td>971.000000</td>\n",
       "      <td>516.000000</td>\n",
       "    </tr>\n",
       "  </tbody>\n",
       "</table>\n",
       "</div>"
      ],
      "text/plain": [
       "              dr_no       time_occ           area    rpt_dist_no  \\\n",
       "count  7.071800e+05  707180.000000  707180.000000  707180.000000   \n",
       "mean   2.189909e+08    1325.497739      10.780571    1124.443210   \n",
       "std    1.257622e+07     651.634094       6.150681     614.919363   \n",
       "min    1.030447e+07       1.000000       1.000000     101.000000   \n",
       "25%    2.105102e+08     900.000000       6.000000     628.000000   \n",
       "50%    2.206202e+08    1400.000000      11.000000    1142.000000   \n",
       "75%    2.307112e+08    1845.000000      16.000000    1641.000000   \n",
       "max    2.499187e+08    2359.000000      21.000000    2199.000000   \n",
       "\n",
       "              crm_cd       vict_age      premis_cd  weapon_used_cd  \n",
       "count  707180.000000  707180.000000  707180.000000   707180.000000  \n",
       "mean      498.412319      39.751318     335.175213      443.874589  \n",
       "std       221.319658      15.560339     216.838397      102.078485  \n",
       "min       110.000000       2.000000     101.000000      101.000000  \n",
       "25%       330.000000      28.000000     104.000000      400.000000  \n",
       "50%       440.000000      37.000000     405.000000      500.000000  \n",
       "75%       626.000000      50.000000     502.000000      500.000000  \n",
       "max       956.000000      99.000000     971.000000      516.000000  "
      ]
     },
     "execution_count": 28,
     "metadata": {},
     "output_type": "execute_result"
    }
   ],
   "source": [
    "df_cleaned.describe()"
   ]
  },
  {
   "cell_type": "code",
   "execution_count": 29,
   "id": "5a5a5683",
   "metadata": {},
   "outputs": [],
   "source": [
    "# Add age group feature\n",
    "cond_list = [\n",
    "    df_cleaned['vict_age'] < 12, # Under 12\n",
    "    (df_cleaned['vict_age'] >= 12) & (df_cleaned['vict_age'] <= 15), # 12-15\n",
    "    (df_cleaned['vict_age'] >= 16) & (df_cleaned['vict_age'] <= 19), # 16-19\n",
    "    (df_cleaned['vict_age'] >= 20) & (df_cleaned['vict_age'] <= 24), # 20-24\n",
    "    (df_cleaned['vict_age'] >= 25) & (df_cleaned['vict_age'] <= 34), # 25-34\n",
    "    (df_cleaned['vict_age'] >= 35) & (df_cleaned['vict_age'] <= 49), # 35-49\n",
    "    (df_cleaned['vict_age'] >= 50) & (df_cleaned['vict_age'] <= 64), # 50-64\n",
    "    (df_cleaned['vict_age'] >= 25) # 65+\n",
    "]\n",
    "\n",
    "age_groups = [\"Under 12\", \"12-15\", \"16-19\", \"20-24\", \"25-34\", \"35-49\", \"50-64\", \"65+\"]\n",
    "\n",
    "df_cleaned['age_groups'] = np.select(cond_list, age_groups, \"Invalid Age\")"
   ]
  },
  {
   "cell_type": "code",
   "execution_count": 30,
   "id": "811a1b8f",
   "metadata": {},
   "outputs": [
    {
     "data": {
      "text/html": [
       "<div>\n",
       "<style scoped>\n",
       "    .dataframe tbody tr th:only-of-type {\n",
       "        vertical-align: middle;\n",
       "    }\n",
       "\n",
       "    .dataframe tbody tr th {\n",
       "        vertical-align: top;\n",
       "    }\n",
       "\n",
       "    .dataframe thead th {\n",
       "        text-align: right;\n",
       "    }\n",
       "</style>\n",
       "<table border=\"1\" class=\"dataframe\">\n",
       "  <thead>\n",
       "    <tr style=\"text-align: right;\">\n",
       "      <th></th>\n",
       "      <th>dr_no</th>\n",
       "      <th>date_rptd</th>\n",
       "      <th>date_occ</th>\n",
       "      <th>time_occ</th>\n",
       "      <th>area</th>\n",
       "      <th>area_name</th>\n",
       "      <th>rpt_dist_no</th>\n",
       "      <th>crm_cd</th>\n",
       "      <th>crm_cd_desc</th>\n",
       "      <th>vict_age</th>\n",
       "      <th>vict_sex</th>\n",
       "      <th>vict_descent</th>\n",
       "      <th>premis_cd</th>\n",
       "      <th>premis_desc</th>\n",
       "      <th>weapon_used_cd</th>\n",
       "      <th>weapon_desc</th>\n",
       "      <th>status</th>\n",
       "      <th>status_desc</th>\n",
       "      <th>location</th>\n",
       "      <th>age_groups</th>\n",
       "    </tr>\n",
       "  </thead>\n",
       "  <tbody>\n",
       "    <tr>\n",
       "      <th>1</th>\n",
       "      <td>200106753</td>\n",
       "      <td>2020-02-09</td>\n",
       "      <td>2020-02-08</td>\n",
       "      <td>1800</td>\n",
       "      <td>1</td>\n",
       "      <td>Central</td>\n",
       "      <td>182</td>\n",
       "      <td>330</td>\n",
       "      <td>BURGLARY FROM VEHICLE</td>\n",
       "      <td>47</td>\n",
       "      <td>M</td>\n",
       "      <td>O</td>\n",
       "      <td>128.0</td>\n",
       "      <td>BUS STOP/LAYOVER (ALSO QUERY 124)</td>\n",
       "      <td>500.0</td>\n",
       "      <td>UNKNOWN WEAPON/OTHER WEAPON</td>\n",
       "      <td>IC</td>\n",
       "      <td>Invest Cont</td>\n",
       "      <td>1000 S FLOWER ST</td>\n",
       "      <td>35-49</td>\n",
       "    </tr>\n",
       "    <tr>\n",
       "      <th>3</th>\n",
       "      <td>200907217</td>\n",
       "      <td>2023-05-10</td>\n",
       "      <td>2020-03-10</td>\n",
       "      <td>2037</td>\n",
       "      <td>9</td>\n",
       "      <td>Van Nuys</td>\n",
       "      <td>964</td>\n",
       "      <td>343</td>\n",
       "      <td>SHOPLIFTING-GRAND THEFT ($950.01 &amp; OVER)</td>\n",
       "      <td>19</td>\n",
       "      <td>M</td>\n",
       "      <td>O</td>\n",
       "      <td>405.0</td>\n",
       "      <td>CLOTHING STORE</td>\n",
       "      <td>500.0</td>\n",
       "      <td>UNKNOWN WEAPON/OTHER WEAPON</td>\n",
       "      <td>IC</td>\n",
       "      <td>Invest Cont</td>\n",
       "      <td>14000 RIVERSIDE DR</td>\n",
       "      <td>16-19</td>\n",
       "    </tr>\n",
       "    <tr>\n",
       "      <th>4</th>\n",
       "      <td>220614831</td>\n",
       "      <td>2022-08-18</td>\n",
       "      <td>2020-08-17</td>\n",
       "      <td>1200</td>\n",
       "      <td>6</td>\n",
       "      <td>Hollywood</td>\n",
       "      <td>666</td>\n",
       "      <td>354</td>\n",
       "      <td>THEFT OF IDENTITY</td>\n",
       "      <td>28</td>\n",
       "      <td>M</td>\n",
       "      <td>H</td>\n",
       "      <td>102.0</td>\n",
       "      <td>SIDEWALK</td>\n",
       "      <td>500.0</td>\n",
       "      <td>UNKNOWN WEAPON/OTHER WEAPON</td>\n",
       "      <td>IC</td>\n",
       "      <td>Invest Cont</td>\n",
       "      <td>1900 TRANSIENT</td>\n",
       "      <td>25-34</td>\n",
       "    </tr>\n",
       "    <tr>\n",
       "      <th>5</th>\n",
       "      <td>231808869</td>\n",
       "      <td>2023-04-04</td>\n",
       "      <td>2020-12-01</td>\n",
       "      <td>2300</td>\n",
       "      <td>18</td>\n",
       "      <td>Southeast</td>\n",
       "      <td>1826</td>\n",
       "      <td>354</td>\n",
       "      <td>THEFT OF IDENTITY</td>\n",
       "      <td>41</td>\n",
       "      <td>M</td>\n",
       "      <td>H</td>\n",
       "      <td>501.0</td>\n",
       "      <td>SINGLE FAMILY DWELLING</td>\n",
       "      <td>500.0</td>\n",
       "      <td>UNKNOWN WEAPON/OTHER WEAPON</td>\n",
       "      <td>IC</td>\n",
       "      <td>Invest Cont</td>\n",
       "      <td>9900 COMPTON AV</td>\n",
       "      <td>35-49</td>\n",
       "    </tr>\n",
       "    <tr>\n",
       "      <th>6</th>\n",
       "      <td>230110144</td>\n",
       "      <td>2023-04-04</td>\n",
       "      <td>2020-07-03</td>\n",
       "      <td>900</td>\n",
       "      <td>1</td>\n",
       "      <td>Central</td>\n",
       "      <td>182</td>\n",
       "      <td>354</td>\n",
       "      <td>THEFT OF IDENTITY</td>\n",
       "      <td>25</td>\n",
       "      <td>M</td>\n",
       "      <td>H</td>\n",
       "      <td>502.0</td>\n",
       "      <td>MULTI-UNIT DWELLING (APARTMENT, DUPLEX, ETC)</td>\n",
       "      <td>500.0</td>\n",
       "      <td>UNKNOWN WEAPON/OTHER WEAPON</td>\n",
       "      <td>IC</td>\n",
       "      <td>Invest Cont</td>\n",
       "      <td>1100 S GRAND AV</td>\n",
       "      <td>25-34</td>\n",
       "    </tr>\n",
       "  </tbody>\n",
       "</table>\n",
       "</div>"
      ],
      "text/plain": [
       "       dr_no  date_rptd   date_occ  time_occ  area  area_name  rpt_dist_no  \\\n",
       "1  200106753 2020-02-09 2020-02-08      1800     1    Central          182   \n",
       "3  200907217 2023-05-10 2020-03-10      2037     9   Van Nuys          964   \n",
       "4  220614831 2022-08-18 2020-08-17      1200     6  Hollywood          666   \n",
       "5  231808869 2023-04-04 2020-12-01      2300    18  Southeast         1826   \n",
       "6  230110144 2023-04-04 2020-07-03       900     1    Central          182   \n",
       "\n",
       "   crm_cd                               crm_cd_desc  vict_age vict_sex  \\\n",
       "1     330                     BURGLARY FROM VEHICLE        47        M   \n",
       "3     343  SHOPLIFTING-GRAND THEFT ($950.01 & OVER)        19        M   \n",
       "4     354                         THEFT OF IDENTITY        28        M   \n",
       "5     354                         THEFT OF IDENTITY        41        M   \n",
       "6     354                         THEFT OF IDENTITY        25        M   \n",
       "\n",
       "  vict_descent  premis_cd                                   premis_desc  \\\n",
       "1            O      128.0             BUS STOP/LAYOVER (ALSO QUERY 124)   \n",
       "3            O      405.0                                CLOTHING STORE   \n",
       "4            H      102.0                                      SIDEWALK   \n",
       "5            H      501.0                        SINGLE FAMILY DWELLING   \n",
       "6            H      502.0  MULTI-UNIT DWELLING (APARTMENT, DUPLEX, ETC)   \n",
       "\n",
       "   weapon_used_cd                  weapon_desc status  status_desc  \\\n",
       "1           500.0  UNKNOWN WEAPON/OTHER WEAPON     IC  Invest Cont   \n",
       "3           500.0  UNKNOWN WEAPON/OTHER WEAPON     IC  Invest Cont   \n",
       "4           500.0  UNKNOWN WEAPON/OTHER WEAPON     IC  Invest Cont   \n",
       "5           500.0  UNKNOWN WEAPON/OTHER WEAPON     IC  Invest Cont   \n",
       "6           500.0  UNKNOWN WEAPON/OTHER WEAPON     IC  Invest Cont   \n",
       "\n",
       "             location age_groups  \n",
       "1    1000 S FLOWER ST      35-49  \n",
       "3  14000 RIVERSIDE DR      16-19  \n",
       "4      1900 TRANSIENT      25-34  \n",
       "5     9900 COMPTON AV      35-49  \n",
       "6     1100 S GRAND AV      25-34  "
      ]
     },
     "execution_count": 30,
     "metadata": {},
     "output_type": "execute_result"
    }
   ],
   "source": [
    "df_cleaned.head()"
   ]
  },
  {
   "cell_type": "code",
   "execution_count": 31,
   "id": "80560c2d",
   "metadata": {},
   "outputs": [
    {
     "name": "stdout",
     "output_type": "stream",
     "text": [
      "Original dataset shape: (970760, 28)\n",
      "Cleaned dataset shape: (707180, 20)\n"
     ]
    }
   ],
   "source": [
    "print(f\"Original dataset shape: {df.shape}\")\n",
    "print(f\"Cleaned dataset shape: {df_cleaned.shape}\")"
   ]
  },
  {
   "cell_type": "markdown",
   "id": "4991f4db",
   "metadata": {},
   "source": [
    "## Data Analysis"
   ]
  },
  {
   "cell_type": "code",
   "execution_count": null,
   "id": "2f917086",
   "metadata": {},
   "outputs": [],
   "source": [
    "# Sort the age groups in order, 'Under 12', '12-15', etc.\n",
    "cond_list = [\n",
    "    df_cleaned['age_groups'] == 'Under 12', # 1\n",
    "    df_cleaned['age_groups'] == '12-15', # 2\n",
    "    df_cleaned['age_groups'] == '16-19', # 3\n",
    "    df_cleaned['age_groups'] == '20-24', # 4\n",
    "    df_cleaned['age_groups'] == '25-34', # 5\n",
    "    df_cleaned['age_groups'] == '35-49', # 6\n",
    "    df_cleaned['age_groups'] == '50-64', # 7\n",
    "    df_cleaned['age_groups'] == '65+', # 8\n",
    "]\n",
    "\n",
    "order_list = [1,2,3,4,5,6,7,8]\n",
    "\n",
    "# Add new age group order feature\n",
    "df_cleaned['age_group_order'] = np.select(cond_list, order_list, 0)"
   ]
  },
  {
   "cell_type": "code",
   "execution_count": 196,
   "id": "374c47c0",
   "metadata": {
    "scrolled": false
   },
   "outputs": [
    {
     "data": {
      "image/png": "[encoded data removed]",
      "text/plain": [
       "<Figure size 1152x288 with 3 Axes>"
      ]
     },
     "metadata": {
      "needs_background": "light"
     },
     "output_type": "display_data"
    }
   ],
   "source": [
    "# Plot victim ages and descent\n",
    "fig, ax = plt.subplots(1, 3, figsize=(16,4))\n",
    "\n",
    "# Subplot 1 - Age Distribution\n",
    "sns.histplot(data=df_cleaned, x='vict_age', kde=True, ax=ax[0])\n",
    "ax[0].set_title(\"Distribution of Victim Ages\")\n",
    "ax[0].set_xlabel(\"Victim Age\")\n",
    "ax[0].set_ylabel(\"\")\n",
    "\n",
    "# Subplot 2 - Age Group\n",
    "sns.countplot(data=df_cleaned.sort_values(by=['age_group_order']), x='age_groups', ax=ax[1])\n",
    "ax[1].set_title(\"Victim Age Groups\")\n",
    "ax[1].set_xlabel(\"Victim Age Group\")\n",
    "ax[1].set_ylabel(\"\")\n",
    "\n",
    "# Subplot 3 - Descent\n",
    "sns.countplot(data=df_cleaned, x='vict_descent', order=df_cleaned['vict_descent'].value_counts().index, ax=ax[2])\n",
    "ax[2].set_title(\"Victim Descents\")\n",
    "ax[2].set_xlabel(\"Victim Descent\")\n",
    "ax[2].set_ylabel(\"\")\n",
    "\n",
    "plt.tight_layout()\n",
    "plt.show()"
   ]
  },
  {
   "cell_type": "code",
   "execution_count": 200,
   "id": "ef916c74",
   "metadata": {},
   "outputs": [
    {
     "name": "stdout",
     "output_type": "stream",
     "text": [
      "Percentage of victim age groups:\n",
      "35-49       30.31\n",
      "25-34       28.10\n",
      "50-64       18.47\n",
      "20-24        9.86\n",
      "65+          7.67\n",
      "16-19        3.18\n",
      "12-15        1.51\n",
      "Under 12     0.89\n",
      "Name: age_groups, dtype: float64\n",
      "\n",
      "Percentage of victim descents:\n",
      "H    40.39\n",
      "W    25.52\n",
      "B    18.62\n",
      "O     8.91\n",
      "A     2.91\n",
      "X     1.02\n",
      "K     0.78\n",
      "F     0.61\n",
      "C     0.58\n",
      "J     0.20\n",
      "V     0.15\n",
      "I     0.13\n",
      "Z     0.07\n",
      "P     0.04\n",
      "U     0.02\n",
      "D     0.01\n",
      "G     0.01\n",
      "L     0.01\n",
      "S     0.01\n",
      "Name: vict_descent, dtype: float64\n",
      "\n",
      "Percentage of victim sex:\n",
      "M    51.04\n",
      "F    48.96\n",
      "Name: vict_sex, dtype: float64\n"
     ]
    }
   ],
   "source": [
    "# Percentages of victim age groups, descents, and sex\n",
    "print(\"Percentage of victim age groups:\")\n",
    "print(round((df_cleaned['age_groups'].value_counts() / df_cleaned.shape[0]) * 100, 2))\n",
    "\n",
    "print(\"\\nPercentage of victim descents:\")\n",
    "print(round((df_cleaned['vict_descent'].value_counts() / df_cleaned.shape[0]) * 100, 2))\n",
    "\n",
    "print(\"\\nPercentage of victim sex:\")\n",
    "print(round((df_cleaned['vict_sex'].value_counts() / df_cleaned.shape[0]) * 100, 2))"
   ]
  },
  {
   "cell_type": "code",
   "execution_count": 201,
   "id": "a231514c",
   "metadata": {},
   "outputs": [
    {
     "data": {
      "image/png": "[encoded data removed]",
      "text/plain": [
       "<Figure size 1152x288 with 2 Axes>"
      ]
     },
     "metadata": {
      "needs_background": "light"
     },
     "output_type": "display_data"
    }
   ],
   "source": [
    "# Victim Sex Breakdown\n",
    "\n",
    "# Plots\n",
    "fig, ax = plt.subplots(1, 2, figsize=(16,4))\n",
    "\n",
    "# Subplot 1\n",
    "sns.countplot(data=df_cleaned, x='vict_sex', ax=ax[0])\n",
    "ax[0].set_title(\"Sex of Victims\")\n",
    "ax[0].set_xlabel(\"Victim Sex\")\n",
    "ax[0].set_ylabel(\"\")\n",
    "\n",
    "# Subplot 2\n",
    "sns.countplot(data=df_cleaned.sort_values(by=['age_group_order']), x='age_groups', hue='vict_sex')\n",
    "ax[1].set_title(\"Victim Age Groups\")\n",
    "ax[1].set_xlabel(\"Victim Age\")\n",
    "ax[1].set_ylabel(\"\")\n",
    "\n",
    "plt.tight_layout()\n",
    "plt.show()"
   ]
  },
  {
   "cell_type": "code",
   "execution_count": 42,
   "id": "83a8b4c9",
   "metadata": {},
   "outputs": [
    {
     "data": {
      "image/png": "[encoded data removed]",
      "text/plain": [
       "<Figure size 576x288 with 1 Axes>"
      ]
     },
     "metadata": {
      "needs_background": "light"
     },
     "output_type": "display_data"
    }
   ],
   "source": [
    "# What are the top 10 common crimes in LA?\n",
    "top10_crime = df_cleaned['crm_cd_desc'].value_counts()[:10]\n",
    "top10_crime = top10_crime.sort_values(ascending=True)\n",
    "plt.figure(figsize=(8,4))\n",
    "top10_crime.plot(kind='barh')\n",
    "plt.title('Top 10 Most Common Crimes in LA')\n",
    "plt.xlabel('Count')\n",
    "plt.show()"
   ]
  },
  {
   "cell_type": "code",
   "execution_count": 43,
   "id": "ae5ad796",
   "metadata": {},
   "outputs": [
    {
     "data": {
      "text/plain": [
       "BATTERY - SIMPLE ASSAULT                                    10.38\n",
       "THEFT OF IDENTITY                                            8.30\n",
       "BURGLARY FROM VEHICLE                                        8.25\n",
       "ASSAULT WITH DEADLY WEAPON, AGGRAVATED ASSAULT               7.18\n",
       "INTIMATE PARTNER - SIMPLE ASSAULT                            6.53\n",
       "VANDALISM - FELONY ($400 & OVER, ALL CHURCH VANDALISMS)      6.16\n",
       "THEFT PLAIN - PETTY ($950 & UNDER)                           6.13\n",
       "BURGLARY                                                     5.46\n",
       "THEFT FROM MOTOR VEHICLE - GRAND ($950.01 AND OVER)          4.71\n",
       "THEFT-GRAND ($950.01 & OVER)EXCPT,GUNS,FOWL,LIVESTK,PROD     3.65\n",
       "Name: crm_cd_desc, dtype: float64"
      ]
     },
     "execution_count": 43,
     "metadata": {},
     "output_type": "execute_result"
    }
   ],
   "source": [
    "# Crime percentage breakdown\n",
    "round((df_cleaned['crm_cd_desc'].value_counts() / df_cleaned.shape[0]) * 100, 2)[:10]"
   ]
  },
  {
   "cell_type": "code",
   "execution_count": 186,
   "id": "233cd776",
   "metadata": {
    "scrolled": false
   },
   "outputs": [
    {
     "data": {
      "image/png": "[encoded data removed]",
      "text/plain": [
       "<Figure size 1440x720 with 2 Axes>"
      ]
     },
     "metadata": {
      "needs_background": "light"
     },
     "output_type": "display_data"
    }
   ],
   "source": [
    "# Breakdown assault demographics\n",
    "df_filtered = df_cleaned[df_cleaned['crm_cd_desc'].str.contains(r'ASSAULT', regex=True)]\n",
    "\n",
    "# Plot\n",
    "fig, ax = plt.subplots(1, 2, figsize=(20,10))\n",
    "\n",
    "# Subplot 1 - Crime by Sex of Victim\n",
    "sns.countplot(\n",
    "    data=df_filtered.sort_values(by=['age_group_order']), \n",
    "    y = 'crm_cd_desc', \n",
    "    hue ='vict_sex',\n",
    "    order = df_filtered['crm_cd_desc'].value_counts().index,\n",
    "    ax=ax[0]\n",
    ")\n",
    "ax[0].set_title(\"Crime by Sex of Victim\")\n",
    "ax[0].set_ylabel(\"Crime Description\")\n",
    "ax[0].set_xlabel(\"Count\")\n",
    "ax[0].legend(loc='lower right', title='Sex')\n",
    "\n",
    "# Subplot 2 Crime by Descent (Only White, Black, and Hispanic, since that the common descents)\n",
    "sns.countplot(\n",
    "    data=df_filtered[df_filtered['vict_descent'].isin([\"W\", \"B\", \"H\"])], \n",
    "    y='crm_cd_desc', \n",
    "    hue='vict_descent', \n",
    "    ax=ax[1]\n",
    ")\n",
    "ax[1].set_title(\"Crime by Descent of Victim\")\n",
    "ax[1].set_ylabel(\"Crime Description\")\n",
    "ax[1].set_xlabel(\"Count\")\n",
    "ax[1].legend(loc='lower right', title='Descent')\n",
    "\n",
    "plt.tight_layout()\n",
    "plt.show()"
   ]
  },
  {
   "cell_type": "code",
   "execution_count": 193,
   "id": "852b47bf",
   "metadata": {},
   "outputs": [
    {
     "name": "stdout",
     "output_type": "stream",
     "text": [
      "Percentage of assault crimes:\n",
      "BATTERY - SIMPLE ASSAULT                          38.38\n",
      "ASSAULT WITH DEADLY WEAPON, AGGRAVATED ASSAULT    26.57\n",
      "INTIMATE PARTNER - SIMPLE ASSAULT                 24.15\n",
      "INTIMATE PARTNER - AGGRAVATED ASSAULT              6.57\n",
      "OTHER ASSAULT                                      2.17\n",
      "CHILD ABUSE (PHYSICAL) - SIMPLE ASSAULT            1.80\n",
      "CHILD ABUSE (PHYSICAL) - AGGRAVATED ASSAULT        0.27\n",
      "ASSAULT WITH DEADLY WEAPON ON POLICE OFFICER       0.10\n",
      "Name: crm_cd_desc, dtype: float64\n",
      "\n",
      "Percentage of assault crimes by sex:\n",
      "crm_cd_desc                                     vict_sex\n",
      "ASSAULT WITH DEADLY WEAPON ON POLICE OFFICER    F            6.91\n",
      "                                                M           93.09\n",
      "ASSAULT WITH DEADLY WEAPON, AGGRAVATED ASSAULT  F           27.56\n",
      "                                                M           72.44\n",
      "BATTERY - SIMPLE ASSAULT                        F           47.25\n",
      "                                                M           52.75\n",
      "CHILD ABUSE (PHYSICAL) - AGGRAVATED ASSAULT     F           48.93\n",
      "                                                M           51.07\n",
      "CHILD ABUSE (PHYSICAL) - SIMPLE ASSAULT         F           53.46\n",
      "                                                M           46.54\n",
      "INTIMATE PARTNER - AGGRAVATED ASSAULT           F           77.58\n",
      "                                                M           22.42\n",
      "INTIMATE PARTNER - SIMPLE ASSAULT               F           76.16\n",
      "                                                M           23.84\n",
      "OTHER ASSAULT                                   F           48.78\n",
      "                                                M           51.22\n",
      "Name: vict_sex, dtype: float64\n",
      "\n",
      "Percentage of assault crimes by descent (White, Black, or Hispanic):\n",
      "crm_cd_desc                                     vict_descent\n",
      "ASSAULT WITH DEADLY WEAPON ON POLICE OFFICER    B                6.99\n",
      "                                                H               61.54\n",
      "                                                W               31.47\n",
      "ASSAULT WITH DEADLY WEAPON, AGGRAVATED ASSAULT  B               29.68\n",
      "                                                H               55.25\n",
      "                                                W               15.07\n",
      "BATTERY - SIMPLE ASSAULT                        B               22.20\n",
      "                                                H               56.86\n",
      "                                                W               20.94\n",
      "CHILD ABUSE (PHYSICAL) - AGGRAVATED ASSAULT     B               35.82\n",
      "                                                H               58.80\n",
      "                                                W                5.38\n",
      "CHILD ABUSE (PHYSICAL) - SIMPLE ASSAULT         B               24.03\n",
      "                                                H               67.66\n",
      "                                                W                8.32\n",
      "INTIMATE PARTNER - AGGRAVATED ASSAULT           B               35.76\n",
      "                                                H               48.87\n",
      "                                                W               15.37\n",
      "INTIMATE PARTNER - SIMPLE ASSAULT               B               26.45\n",
      "                                                H               57.09\n",
      "                                                W               16.46\n",
      "OTHER ASSAULT                                   B               23.50\n",
      "                                                H               52.28\n",
      "                                                W               24.21\n",
      "Name: vict_descent, dtype: float64\n"
     ]
    }
   ],
   "source": [
    "# What is the percentages of assault victims by sex and by descent?\n",
    "print(\"Percentage of assault crimes:\")\n",
    "print(round(df_filtered['crm_cd_desc'].value_counts() / df_filtered.shape[0] * 100, 2))\n",
    "\n",
    "print(\"\\nPercentage of assault crimes by sex:\")\n",
    "ac_by_sex = df_filtered.groupby(\n",
    "    ['crm_cd_desc', \n",
    "     'vict_sex']\n",
    ")['vict_sex'].count().groupby(level=0).apply(lambda x: round(x/x.sum() * 100, 2))\n",
    "print(ac_by_sex)\n",
    "\n",
    "print(\"\\nPercentage of assault crimes by descent (White, Black, or Hispanic):\")\n",
    "df_descent = df_filtered[df_filtered['vict_descent'].isin([\"W\", \"B\", \"H\"])]\n",
    "ac_by_descent = df_descent.groupby(\n",
    "    ['crm_cd_desc', 'vict_descent']\n",
    ")['vict_descent'].count().groupby(level=0).apply(lambda x: round(x/x.sum() * 100, 2))\n",
    "print(ac_by_descent)"
   ]
  },
  {
   "cell_type": "code",
   "execution_count": 212,
   "id": "df33c337",
   "metadata": {},
   "outputs": [
    {
     "data": {
      "image/png": "[encoded data removed]",
      "text/plain": [
       "<Figure size 1152x288 with 2 Axes>"
      ]
     },
     "metadata": {
      "needs_background": "light"
     },
     "output_type": "display_data"
    }
   ],
   "source": [
    "# What are the age groups of the victims of simple assault and aggravated assault?\n",
    "df_simple = df_cleaned[df_cleaned['crm_cd_desc'].isin([\"BATTERY - SIMPLE ASSAULT\"])]\n",
    "\n",
    "# Plot\n",
    "fig, ax = plt.subplots(1, 2, figsize=(16,4))\n",
    "\n",
    "# Subplot 1 - Battery - Simple Assault\n",
    "sns.countplot(data=df_simple.sort_values(by=['age_group_order']), x='age_groups', hue='vict_sex', ax=ax[0])\n",
    "ax[0].set_title(\"Battery - Simple Assault Age of Victims\")\n",
    "ax[0].set_ylabel(\"Count\")\n",
    "ax[0].set_xlabel(\"Age Groups\")\n",
    "ax[0].legend(loc='upper left', title='Sex')\n",
    "\n",
    "# Subplot 2 - Assault with deadly weapon, aggravated assault\n",
    "df_aggravated = df_cleaned[df_cleaned['crm_cd_desc'].isin([\"ASSAULT WITH DEADLY WEAPON, AGGRAVATED ASSAULT\"])]\n",
    "sns.countplot(data=df_aggravated.sort_values(by=['age_group_order']), x='age_groups', hue='vict_sex', ax=ax[1])\n",
    "ax[1].set_title(\"Assault with Deadly Weapon, Aggravated Assault Age of Victims\")\n",
    "ax[1].set_ylabel(\"Count\")\n",
    "ax[1].set_xlabel(\"Age Groups\")\n",
    "ax[1].legend(loc='upper left', title='Sex')\n",
    "\n",
    "plt.tight_layout()\n",
    "plt.show()"
   ]
  },
  {
   "cell_type": "code",
   "execution_count": 211,
   "id": "4a05132f",
   "metadata": {},
   "outputs": [
    {
     "name": "stdout",
     "output_type": "stream",
     "text": [
      "vict_sex  age_groups\n",
      "F         12-15          3.32\n",
      "          16-19          5.23\n",
      "          20-24         10.38\n",
      "          25-34         24.01\n",
      "          35-49         27.19\n",
      "          50-64         20.80\n",
      "          65+            8.34\n",
      "          Under 12       0.73\n",
      "M         12-15          2.36\n",
      "          16-19          3.88\n",
      "          20-24          9.23\n",
      "          25-34         24.30\n",
      "          35-49         27.37\n",
      "          50-64         23.25\n",
      "          65+            8.86\n",
      "          Under 12       0.76\n",
      "Name: age_groups, dtype: float64\n"
     ]
    }
   ],
   "source": [
    "# Percentages\n",
    "print((df_filtered.groupby(\n",
    "    ['vict_sex', 'age_groups']\n",
    ")['age_groups'].count().groupby(level=0).apply(lambda x: round(x/x.sum() * 100, 2))))"
   ]
  },
  {
   "cell_type": "code",
   "execution_count": 171,
   "id": "57c1405f",
   "metadata": {},
   "outputs": [
    {
     "data": {
      "image/png": "[encoded data removed]",
      "text/plain": [
       "<Figure size 576x288 with 1 Axes>"
      ]
     },
     "metadata": {
      "needs_background": "light"
     },
     "output_type": "display_data"
    },
    {
     "name": "stdout",
     "output_type": "stream",
     "text": [
      "Percentages per age group:\n",
      "25-34       38.78\n",
      "35-49       30.51\n",
      "20-24       16.11\n",
      "50-64        8.61\n",
      "16-19        4.31\n",
      "65+          1.39\n",
      "12-15        0.23\n",
      "Under 12     0.05\n",
      "Name: age_groups, dtype: float64\n"
     ]
    }
   ],
   "source": [
    "# What are the age groups of females who are victims of simple assault and aggravated assault?\n",
    "df_filtered = df_cleaned[\n",
    "    (df_cleaned['crm_cd_desc'].isin([\"INTIMATE PARTNER - AGGRAVATED ASSAULT\", \"INTIMATE PARTNER - SIMPLE ASSAULT\"])) &\n",
    "    (df_cleaned['vict_sex'] == 'F')\n",
    "]\n",
    "\n",
    "plt.figure(figsize=(8,4))\n",
    "sns.countplot(data=df_filtered.sort_values(by=['age_group_order']), x='age_groups')\n",
    "plt.title(\"Age Groups of Females of Intimate Partner Assaults\")\n",
    "plt.xlabel(\"Age Groups\")\n",
    "plt.ylabel(\"Count\")\n",
    "plt.show()\n",
    "\n",
    "# Percentage per age group\n",
    "print(\"Percentages per age group:\")\n",
    "print(round(df_filtered['age_groups'].value_counts() / df_filtered.shape[0] * 100, 2))"
   ]
  },
  {
   "cell_type": "code",
   "execution_count": 134,
   "id": "ae699c43",
   "metadata": {},
   "outputs": [
    {
     "data": {
      "image/png": "[encoded data removed]",
      "text/plain": [
       "<Figure size 1152x288 with 2 Axes>"
      ]
     },
     "metadata": {
      "needs_background": "light"
     },
     "output_type": "display_data"
    },
    {
     "name": "stdout",
     "output_type": "stream",
     "text": [
      "Percentage of women in each age group who are victims of rape:\n",
      "25-34       27.59\n",
      "35-49       19.88\n",
      "20-24       18.17\n",
      "16-19       14.48\n",
      "12-15        9.89\n",
      "50-64        6.28\n",
      "Under 12     2.48\n",
      "65+          1.23\n",
      "Name: age_groups, dtype: float64\n",
      "\n",
      "Percentage of women 24 and under who are victims of rape:\n",
      "45.03\n",
      "\n",
      "Percentage of the descent of women 24 and under who are victims of rape:\n",
      "H    52.84\n",
      "B    21.07\n",
      "W    19.45\n",
      "O     4.18\n",
      "A     1.95\n",
      "X     0.33\n",
      "C     0.06\n",
      "V     0.06\n",
      "F     0.06\n",
      "Name: vict_descent, dtype: float64\n"
     ]
    }
   ],
   "source": [
    "# Breakdown rape demographics for females\n",
    "df_rape = df_cleaned[df_cleaned['crm_cd_desc'].str.contains(r'RAPE', regex=True)]\n",
    "# df_rape['age_groups'].value_counts()\n",
    "\n",
    "# Plot\n",
    "df_rape = df_rape[df_rape['vict_sex'] == 'F']\n",
    "fig, ax = plt.subplots(1, 2, figsize=(16,4))\n",
    "\n",
    "# Subplot 1 - Victim Age Groups (Females)\n",
    "sns.countplot(data=df_rape.sort_values(by=['age_group_order']),  x='age_groups', ax=ax[0])\n",
    "ax[0].set_title(\"Age of Rape Victims (Females)\")\n",
    "ax[0].set_xlabel(\"Victim Age\")\n",
    "ax[0].set_ylabel(\"\")\n",
    "\n",
    "# Subplot 2 - Victim Descent (Females)\n",
    "sns.countplot(data=df_rape, x='vict_descent', ax=ax[1], order=df_rape['vict_descent'].value_counts().index)\n",
    "ax[1].set_title(\"Descent of Rape Victims (Females)\")\n",
    "ax[1].set_xlabel(\"Victim Descent\")\n",
    "ax[1].set_ylabel(\"\")\n",
    "\n",
    "plt.tight_layout()\n",
    "plt.show()\n",
    "\n",
    "# Percentage of each age group\n",
    "print(\"Percentage of women in each age group who are victims of rape:\")\n",
    "print(round(df_rape['age_groups'].value_counts() / df_rape.shape[0] * 100, 2))\n",
    "\n",
    "# What percentage of women under the age of 24 are victims of rape?\n",
    "female_under_24 = df_rape[(df_rape['vict_age'] <= 24) & (df_rape['vict_sex'] == 'F')].shape[0]\n",
    "\n",
    "print(\"\\nPercentage of women 24 and under who are victims of rape:\")\n",
    "print(round(female_under_24 / df_rape.shape[0] * 100, 2))\n",
    "\n",
    "# Percentage of victim descent 24 and under\n",
    "descent_under_24 = df_rape[(df_rape['vict_age'] <= 24) & (df_rape['vict_sex'] == 'F')]\n",
    "\n",
    "print(\"\\nPercentage of the descent of women 24 and under who are victims of rape:\")\n",
    "print(round((descent_under_24['vict_descent'].value_counts() / descent_under_24.shape[0] * 100), 2))"
   ]
  },
  {
   "cell_type": "code",
   "execution_count": 44,
   "id": "affb40da",
   "metadata": {},
   "outputs": [
    {
     "data": {
      "image/png": "[encoded data removed]",
      "text/plain": [
       "<Figure size 576x288 with 1 Axes>"
      ]
     },
     "metadata": {
      "needs_background": "light"
     },
     "output_type": "display_data"
    }
   ],
   "source": [
    "# What is the status breakdown of crime investigations?\n",
    "status_breakdown = df_cleaned['status_desc'].value_counts()\n",
    "status_breakdown = status_breakdown.sort_values(ascending=True)\n",
    "\n",
    "plt.figure(figsize=(8,4))\n",
    "status_breakdown.plot(kind='barh')\n",
    "plt.title('Status of Investigations')\n",
    "plt.xlabel('Count')\n",
    "plt.show()"
   ]
  },
  {
   "cell_type": "code",
   "execution_count": 45,
   "id": "6a8b9694",
   "metadata": {},
   "outputs": [
    {
     "data": {
      "text/plain": [
       "Invest Cont     76.71\n",
       "Adult Other     13.72\n",
       "Adult Arrest     9.02\n",
       "Juv Arrest       0.33\n",
       "Juv Other        0.21\n",
       "UNK              0.00\n",
       "Name: status_desc, dtype: float64"
      ]
     },
     "execution_count": 45,
     "metadata": {},
     "output_type": "execute_result"
    }
   ],
   "source": [
    "# Percentages of status of investigations\n",
    "round((df_cleaned['status_desc'].value_counts() / df_cleaned.shape[0]) * 100, 2)"
   ]
  },
  {
   "cell_type": "code",
   "execution_count": 46,
   "id": "5e1dd68f",
   "metadata": {},
   "outputs": [
    {
     "data": {
      "image/png": "[encoded data removed]",
      "text/plain": [
       "<Figure size 576x288 with 1 Axes>"
      ]
     },
     "metadata": {
      "needs_background": "light"
     },
     "output_type": "display_data"
    }
   ],
   "source": [
    "# What are the top 10 weapons used to commit crimes?\n",
    "top10_weapon = df_cleaned['weapon_desc'].value_counts()[:10]\n",
    "top10_weapon = top10_weapon.sort_values(ascending=True)\n",
    "\n",
    "plt.figure(figsize=(8,4))\n",
    "top10_weapon.plot(kind='barh')\n",
    "plt.title('Top 10 Weapons Used')\n",
    "plt.xlabel('Count')\n",
    "plt.show()"
   ]
  },
  {
   "cell_type": "code",
   "execution_count": 47,
   "id": "9faee4c1",
   "metadata": {},
   "outputs": [
    {
     "data": {
      "text/plain": [
       "UNKNOWN WEAPON/OTHER WEAPON                       62.37\n",
       "STRONG-ARM (HANDS, FIST, FEET OR BODILY FORCE)    23.25\n",
       "VERBAL THREAT                                      3.10\n",
       "HAND GUN                                           2.40\n",
       "KNIFE WITH BLADE 6INCHES OR LESS                   0.90\n",
       "SEMI-AUTOMATIC PISTOL                              0.86\n",
       "OTHER KNIFE                                        0.77\n",
       "UNKNOWN FIREARM                                    0.71\n",
       "MACE/PEPPER SPRAY                                  0.48\n",
       "VEHICLE                                            0.41\n",
       "Name: weapon_desc, dtype: float64"
      ]
     },
     "execution_count": 47,
     "metadata": {},
     "output_type": "execute_result"
    }
   ],
   "source": [
    "# Percentages of top 10 weapons used\n",
    "round((df_cleaned['weapon_desc'].value_counts() / df_cleaned.shape[0]) * 100, 2)[:10]"
   ]
  },
  {
   "cell_type": "code",
   "execution_count": 73,
   "id": "46849bd9",
   "metadata": {},
   "outputs": [
    {
     "data": {
      "image/png": "[encoded data removed]",
      "text/plain": [
       "<Figure size 576x288 with 1 Axes>"
      ]
     },
     "metadata": {
      "needs_background": "light"
     },
     "output_type": "display_data"
    }
   ],
   "source": [
    "# What is the average time it takes to report a crime?\n",
    "report_crime_df = df_cleaned.copy()\n",
    "# (df_cleaned['date_rptd'] - df_cleaned['date_occ']).dt.days \n",
    "\n",
    "condlist = [\n",
    "    ((df_cleaned['date_rptd'] - df_cleaned['date_occ']).dt.days == 0) , # same day\n",
    "    ((df_cleaned['date_rptd'] - df_cleaned['date_occ']).dt.days == 1) , # Within 24 hours\n",
    "    ((df_cleaned['date_rptd'] - df_cleaned['date_occ']).dt.days >= 2) & \n",
    "    ((df_cleaned['date_rptd'] - df_cleaned['date_occ']).dt.days <= 7),\n",
    "    ((df_cleaned['date_rptd'] - df_cleaned['date_occ']).dt.days >= 8) & \n",
    "    ((df_cleaned['date_rptd'] - df_cleaned['date_occ']).dt.days <= 28),\n",
    "    ((df_cleaned['date_rptd'] - df_cleaned['date_occ']).dt.days >= 29) & \n",
    "    ((df_cleaned['date_rptd'] - df_cleaned['date_occ']).dt.days <= 60),\n",
    "    ((df_cleaned['date_rptd'] - df_cleaned['date_occ']).dt.days > 60)\n",
    "]\n",
    "\n",
    "time_period = [\"same day\", \"within 24 hours\", \"2-7 days\", \"8-28 days\", \"29-60 days\", \"60+ days\"]\n",
    "\n",
    "# Add new column to temp df\n",
    "report_crime_df['time_to_rpt'] = np.select(condlist, time_period, \"Cannot be determined\")\n",
    "\n",
    "# Plot\n",
    "plt.figure(figsize=(8,4))\n",
    "sns.countplot(data=report_crime_df, y='time_to_rpt', order=report_crime_df['time_to_rpt'].value_counts().index)\n",
    "plt.title(\"Time to Report Crime\")\n",
    "plt.xlabel('Count')\n",
    "plt.ylabel('Time Period')\n",
    "plt.show()"
   ]
  },
  {
   "cell_type": "code",
   "execution_count": 74,
   "id": "76455452",
   "metadata": {},
   "outputs": [
    {
     "data": {
      "text/plain": [
       "same day           51.06\n",
       "within 24 hours    18.87\n",
       "2-7 days           16.02\n",
       "8-28 days           7.37\n",
       "60+ days            4.08\n",
       "29-60 days          2.60\n",
       "Name: time_to_rpt, dtype: float64"
      ]
     },
     "execution_count": 74,
     "metadata": {},
     "output_type": "execute_result"
    }
   ],
   "source": [
    "# Percentages of time to report crime\n",
    "round((report_crime_df['time_to_rpt'].value_counts() / report_crime_df.shape[0] * 100), 2)"
   ]
  },
  {
   "cell_type": "code",
   "execution_count": 81,
   "id": "cce6fb25",
   "metadata": {},
   "outputs": [
    {
     "data": {
      "image/png": "[encoded data removed]",
      "text/plain": [
       "<Figure size 576x288 with 1 Axes>"
      ]
     },
     "metadata": {
      "needs_background": "light"
     },
     "output_type": "display_data"
    }
   ],
   "source": [
    "# Top 10 Premises crimes occur\n",
    "top10_premise = df_cleaned['premis_desc'].value_counts()[:10]\n",
    "top10_premise = top10_premise.sort_values(ascending=True)\n",
    "\n",
    "plt.figure(figsize=(8,4))\n",
    "top10_premise.plot(kind='barh')\n",
    "plt.title(\"Top 10 Premises Crimes Occur\")\n",
    "plt.xlabel(\"Count\")\n",
    "plt.ylabel(\"Premises\")\n",
    "plt.show()"
   ]
  },
  {
   "cell_type": "code",
   "execution_count": 77,
   "id": "17fe0641",
   "metadata": {},
   "outputs": [
    {
     "data": {
      "text/plain": [
       "SINGLE FAMILY DWELLING                          22.25\n",
       "STREET                                          18.53\n",
       "MULTI-UNIT DWELLING (APARTMENT, DUPLEX, ETC)    15.65\n",
       "PARKING LOT                                      6.42\n",
       "SIDEWALK                                         5.28\n",
       "VEHICLE, PASSENGER/TRUCK                         3.72\n",
       "OTHER BUSINESS                                   2.93\n",
       "GARAGE/CARPORT                                   2.00\n",
       "DRIVEWAY                                         1.55\n",
       "PARKING UNDERGROUND/BUILDING                     0.97\n",
       "Name: premis_desc, dtype: float64"
      ]
     },
     "execution_count": 77,
     "metadata": {},
     "output_type": "execute_result"
    }
   ],
   "source": [
    "# Percentages of top 10 premises crimes occur\n",
    "round((df_cleaned['premis_desc'].value_counts() / df_cleaned.shape[0] * 100), 2)[:10]"
   ]
  },
  {
   "cell_type": "code",
   "execution_count": 86,
   "id": "776ba9c5",
   "metadata": {},
   "outputs": [
    {
     "data": {
      "image/png": "[encoded data removed]",
      "text/plain": [
       "<Figure size 576x432 with 1 Axes>"
      ]
     },
     "metadata": {
      "needs_background": "light"
     },
     "output_type": "display_data"
    }
   ],
   "source": [
    "# How many crimes occur in the areas in LA?\n",
    "plt.figure(figsize=(8,6))\n",
    "sns.countplot(data=df_cleaned, y='area_name', order=df_cleaned['area_name'].value_counts().index)\n",
    "plt.title('Crime Count in Different LA Areas')\n",
    "plt.xlabel('Count')\n",
    "plt.ylabel('Areas')\n",
    "plt.show()"
   ]
  },
  {
   "cell_type": "code",
   "execution_count": 89,
   "id": "f49b4d99",
   "metadata": {},
   "outputs": [
    {
     "data": {
      "text/plain": [
       "Central        7.10\n",
       "77th Street    6.38\n",
       "Pacific        5.73\n",
       "Southwest      5.72\n",
       "Hollywood      5.37\n",
       "Southeast      5.07\n",
       "N Hollywood    4.97\n",
       "Olympic        4.95\n",
       "Topanga        4.74\n",
       "Wilshire       4.71\n",
       "Newton         4.61\n",
       "Van Nuys       4.60\n",
       "West LA        4.56\n",
       "Rampart        4.50\n",
       "West Valley    4.28\n",
       "Mission        4.13\n",
       "Northeast      4.02\n",
       "Devonshire     4.01\n",
       "Harbor         3.82\n",
       "Foothill       3.40\n",
       "Hollenbeck     3.33\n",
       "Name: area_name, dtype: float64"
      ]
     },
     "execution_count": 89,
     "metadata": {},
     "output_type": "execute_result"
    }
   ],
   "source": [
    "# What are the percentages of crime in the areas?\n",
    "round((df_cleaned['area_name'].value_counts() / df_cleaned.shape[0] * 100), 2)"
   ]
  }
 ],
 "metadata": {
  "kernelspec": {
   "display_name": "Python 3 (ipykernel)",
   "language": "python",
   "name": "python3"
  },
  "language_info": {
   "codemirror_mode": {
    "name": "ipython",
    "version": 3
   },
   "file_extension": ".py",
   "mimetype": "text/x-python",
   "name": "python",
   "nbconvert_exporter": "python",
   "pygments_lexer": "ipython3",
   "version": "3.9.12"
  }
 },
 "nbformat": 4,
 "nbformat_minor": 5
}
