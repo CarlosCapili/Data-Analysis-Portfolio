{
 "cells": [
  {
   "cell_type": "markdown",
   "id": "c863ede0",
   "metadata": {},
   "source": [
    "# Melbourne Housing Snapshot\n",
    "\n",
    "The purpose of this is to perform exploratory data analysis on the Melbourne Housing dataset to identify trends and patterns regarding housing price in relation to number of rooms (Bed and Bath), car parking, distance to CBD (Central Business District), etc. The dataset was taken from kaggle.\n",
    "\n",
    "**Problems with the dataset**\n",
    "- Building Area > Landsize\n",
    "- Building Area and Landsize has values of 0"
   ]
  },
  {
   "cell_type": "code",
   "execution_count": 1,
   "id": "4202297b",
   "metadata": {},
   "outputs": [],
   "source": [
    "# Import necessary libraries\n",
    "import pandas as pd\n",
    "import seaborn as sns\n",
    "import matplotlib.pyplot as plt"
   ]
  },
  {
   "cell_type": "code",
   "execution_count": 2,
   "id": "ca901bcc",
   "metadata": {},
   "outputs": [],
   "source": [
    "df = pd.read_csv(r'C:\\Users\\Mouth\\Documents\\Datasets\\Melbourne_Housing\\melb_data.csv')"
   ]
  },
  {
   "cell_type": "code",
   "execution_count": 3,
   "id": "62136672",
   "metadata": {},
   "outputs": [
    {
     "data": {
      "text/html": [
       "<div>\n",
       "<style scoped>\n",
       "    .dataframe tbody tr th:only-of-type {\n",
       "        vertical-align: middle;\n",
       "    }\n",
       "\n",
       "    .dataframe tbody tr th {\n",
       "        vertical-align: top;\n",
       "    }\n",
       "\n",
       "    .dataframe thead th {\n",
       "        text-align: right;\n",
       "    }\n",
       "</style>\n",
       "<table border=\"1\" class=\"dataframe\">\n",
       "  <thead>\n",
       "    <tr style=\"text-align: right;\">\n",
       "      <th></th>\n",
       "      <th>Suburb</th>\n",
       "      <th>Address</th>\n",
       "      <th>Rooms</th>\n",
       "      <th>Type</th>\n",
       "      <th>Price</th>\n",
       "      <th>Method</th>\n",
       "      <th>SellerG</th>\n",
       "      <th>Date</th>\n",
       "      <th>Distance</th>\n",
       "      <th>Postcode</th>\n",
       "      <th>...</th>\n",
       "      <th>Bathroom</th>\n",
       "      <th>Car</th>\n",
       "      <th>Landsize</th>\n",
       "      <th>BuildingArea</th>\n",
       "      <th>YearBuilt</th>\n",
       "      <th>CouncilArea</th>\n",
       "      <th>Lattitude</th>\n",
       "      <th>Longtitude</th>\n",
       "      <th>Regionname</th>\n",
       "      <th>Propertycount</th>\n",
       "    </tr>\n",
       "  </thead>\n",
       "  <tbody>\n",
       "    <tr>\n",
       "      <th>0</th>\n",
       "      <td>Abbotsford</td>\n",
       "      <td>85 Turner St</td>\n",
       "      <td>2</td>\n",
       "      <td>h</td>\n",
       "      <td>1480000.0</td>\n",
       "      <td>S</td>\n",
       "      <td>Biggin</td>\n",
       "      <td>3/12/2016</td>\n",
       "      <td>2.5</td>\n",
       "      <td>3067.0</td>\n",
       "      <td>...</td>\n",
       "      <td>1.0</td>\n",
       "      <td>1.0</td>\n",
       "      <td>202.0</td>\n",
       "      <td>NaN</td>\n",
       "      <td>NaN</td>\n",
       "      <td>Yarra</td>\n",
       "      <td>-37.7996</td>\n",
       "      <td>144.9984</td>\n",
       "      <td>Northern Metropolitan</td>\n",
       "      <td>4019.0</td>\n",
       "    </tr>\n",
       "    <tr>\n",
       "      <th>1</th>\n",
       "      <td>Abbotsford</td>\n",
       "      <td>25 Bloomburg St</td>\n",
       "      <td>2</td>\n",
       "      <td>h</td>\n",
       "      <td>1035000.0</td>\n",
       "      <td>S</td>\n",
       "      <td>Biggin</td>\n",
       "      <td>4/02/2016</td>\n",
       "      <td>2.5</td>\n",
       "      <td>3067.0</td>\n",
       "      <td>...</td>\n",
       "      <td>1.0</td>\n",
       "      <td>0.0</td>\n",
       "      <td>156.0</td>\n",
       "      <td>79.0</td>\n",
       "      <td>1900.0</td>\n",
       "      <td>Yarra</td>\n",
       "      <td>-37.8079</td>\n",
       "      <td>144.9934</td>\n",
       "      <td>Northern Metropolitan</td>\n",
       "      <td>4019.0</td>\n",
       "    </tr>\n",
       "    <tr>\n",
       "      <th>2</th>\n",
       "      <td>Abbotsford</td>\n",
       "      <td>5 Charles St</td>\n",
       "      <td>3</td>\n",
       "      <td>h</td>\n",
       "      <td>1465000.0</td>\n",
       "      <td>SP</td>\n",
       "      <td>Biggin</td>\n",
       "      <td>4/03/2017</td>\n",
       "      <td>2.5</td>\n",
       "      <td>3067.0</td>\n",
       "      <td>...</td>\n",
       "      <td>2.0</td>\n",
       "      <td>0.0</td>\n",
       "      <td>134.0</td>\n",
       "      <td>150.0</td>\n",
       "      <td>1900.0</td>\n",
       "      <td>Yarra</td>\n",
       "      <td>-37.8093</td>\n",
       "      <td>144.9944</td>\n",
       "      <td>Northern Metropolitan</td>\n",
       "      <td>4019.0</td>\n",
       "    </tr>\n",
       "    <tr>\n",
       "      <th>3</th>\n",
       "      <td>Abbotsford</td>\n",
       "      <td>40 Federation La</td>\n",
       "      <td>3</td>\n",
       "      <td>h</td>\n",
       "      <td>850000.0</td>\n",
       "      <td>PI</td>\n",
       "      <td>Biggin</td>\n",
       "      <td>4/03/2017</td>\n",
       "      <td>2.5</td>\n",
       "      <td>3067.0</td>\n",
       "      <td>...</td>\n",
       "      <td>2.0</td>\n",
       "      <td>1.0</td>\n",
       "      <td>94.0</td>\n",
       "      <td>NaN</td>\n",
       "      <td>NaN</td>\n",
       "      <td>Yarra</td>\n",
       "      <td>-37.7969</td>\n",
       "      <td>144.9969</td>\n",
       "      <td>Northern Metropolitan</td>\n",
       "      <td>4019.0</td>\n",
       "    </tr>\n",
       "    <tr>\n",
       "      <th>4</th>\n",
       "      <td>Abbotsford</td>\n",
       "      <td>55a Park St</td>\n",
       "      <td>4</td>\n",
       "      <td>h</td>\n",
       "      <td>1600000.0</td>\n",
       "      <td>VB</td>\n",
       "      <td>Nelson</td>\n",
       "      <td>4/06/2016</td>\n",
       "      <td>2.5</td>\n",
       "      <td>3067.0</td>\n",
       "      <td>...</td>\n",
       "      <td>1.0</td>\n",
       "      <td>2.0</td>\n",
       "      <td>120.0</td>\n",
       "      <td>142.0</td>\n",
       "      <td>2014.0</td>\n",
       "      <td>Yarra</td>\n",
       "      <td>-37.8072</td>\n",
       "      <td>144.9941</td>\n",
       "      <td>Northern Metropolitan</td>\n",
       "      <td>4019.0</td>\n",
       "    </tr>\n",
       "  </tbody>\n",
       "</table>\n",
       "<p>5 rows × 21 columns</p>\n",
       "</div>"
      ],
      "text/plain": [
       "       Suburb           Address  Rooms Type      Price Method SellerG  \\\n",
       "0  Abbotsford      85 Turner St      2    h  1480000.0      S  Biggin   \n",
       "1  Abbotsford   25 Bloomburg St      2    h  1035000.0      S  Biggin   \n",
       "2  Abbotsford      5 Charles St      3    h  1465000.0     SP  Biggin   \n",
       "3  Abbotsford  40 Federation La      3    h   850000.0     PI  Biggin   \n",
       "4  Abbotsford       55a Park St      4    h  1600000.0     VB  Nelson   \n",
       "\n",
       "        Date  Distance  Postcode  ...  Bathroom  Car  Landsize  BuildingArea  \\\n",
       "0  3/12/2016       2.5    3067.0  ...       1.0  1.0     202.0           NaN   \n",
       "1  4/02/2016       2.5    3067.0  ...       1.0  0.0     156.0          79.0   \n",
       "2  4/03/2017       2.5    3067.0  ...       2.0  0.0     134.0         150.0   \n",
       "3  4/03/2017       2.5    3067.0  ...       2.0  1.0      94.0           NaN   \n",
       "4  4/06/2016       2.5    3067.0  ...       1.0  2.0     120.0         142.0   \n",
       "\n",
       "   YearBuilt  CouncilArea Lattitude  Longtitude             Regionname  \\\n",
       "0        NaN        Yarra  -37.7996    144.9984  Northern Metropolitan   \n",
       "1     1900.0        Yarra  -37.8079    144.9934  Northern Metropolitan   \n",
       "2     1900.0        Yarra  -37.8093    144.9944  Northern Metropolitan   \n",
       "3        NaN        Yarra  -37.7969    144.9969  Northern Metropolitan   \n",
       "4     2014.0        Yarra  -37.8072    144.9941  Northern Metropolitan   \n",
       "\n",
       "  Propertycount  \n",
       "0        4019.0  \n",
       "1        4019.0  \n",
       "2        4019.0  \n",
       "3        4019.0  \n",
       "4        4019.0  \n",
       "\n",
       "[5 rows x 21 columns]"
      ]
     },
     "execution_count": 3,
     "metadata": {},
     "output_type": "execute_result"
    }
   ],
   "source": [
    "df.head()"
   ]
  },
  {
   "cell_type": "code",
   "execution_count": 4,
   "id": "8647b587",
   "metadata": {},
   "outputs": [
    {
     "name": "stdout",
     "output_type": "stream",
     "text": [
      "<class 'pandas.core.frame.DataFrame'>\n",
      "RangeIndex: 13580 entries, 0 to 13579\n",
      "Data columns (total 21 columns):\n",
      " #   Column         Non-Null Count  Dtype  \n",
      "---  ------         --------------  -----  \n",
      " 0   Suburb         13580 non-null  object \n",
      " 1   Address        13580 non-null  object \n",
      " 2   Rooms          13580 non-null  int64  \n",
      " 3   Type           13580 non-null  object \n",
      " 4   Price          13580 non-null  float64\n",
      " 5   Method         13580 non-null  object \n",
      " 6   SellerG        13580 non-null  object \n",
      " 7   Date           13580 non-null  object \n",
      " 8   Distance       13580 non-null  float64\n",
      " 9   Postcode       13580 non-null  float64\n",
      " 10  Bedroom2       13580 non-null  float64\n",
      " 11  Bathroom       13580 non-null  float64\n",
      " 12  Car            13518 non-null  float64\n",
      " 13  Landsize       13580 non-null  float64\n",
      " 14  BuildingArea   7130 non-null   float64\n",
      " 15  YearBuilt      8205 non-null   float64\n",
      " 16  CouncilArea    12211 non-null  object \n",
      " 17  Lattitude      13580 non-null  float64\n",
      " 18  Longtitude     13580 non-null  float64\n",
      " 19  Regionname     13580 non-null  object \n",
      " 20  Propertycount  13580 non-null  float64\n",
      "dtypes: float64(12), int64(1), object(8)\n",
      "memory usage: 2.2+ MB\n"
     ]
    }
   ],
   "source": [
    "df.info()"
   ]
  },
  {
   "cell_type": "markdown",
   "id": "3f56042b",
   "metadata": {},
   "source": [
    "## Cleaning Data\n",
    "- Check for duplicates and drop the last occurence\n",
    "- Check for null values and drop the rows\n",
    "- Replace any incorrect data\n",
    "- Drop unwanted columns"
   ]
  },
  {
   "cell_type": "code",
   "execution_count": 5,
   "id": "3e2ef7d0",
   "metadata": {},
   "outputs": [],
   "source": [
    "# Drop unecessary columns\n",
    "df_clean = df.drop(columns=['Lattitude', 'Longtitude', 'YearBuilt', 'CouncilArea', 'Method', 'Date', 'Postcode'])"
   ]
  },
  {
   "cell_type": "code",
   "execution_count": 6,
   "id": "44ad40db",
   "metadata": {},
   "outputs": [
    {
     "data": {
      "text/plain": [
       "Index(['Suburb', 'Address', 'Rooms', 'Type', 'Price', 'SellerG', 'Distance',\n",
       "       'Bedroom2', 'Bathroom', 'Car', 'Landsize', 'BuildingArea', 'Regionname',\n",
       "       'Propertycount'],\n",
       "      dtype='object')"
      ]
     },
     "execution_count": 6,
     "metadata": {},
     "output_type": "execute_result"
    }
   ],
   "source": [
    "df_clean.columns"
   ]
  },
  {
   "cell_type": "code",
   "execution_count": 7,
   "id": "c5ee28bd",
   "metadata": {},
   "outputs": [
    {
     "data": {
      "text/plain": [
       "Suburb              0\n",
       "Address             0\n",
       "Rooms               0\n",
       "Type                0\n",
       "Price               0\n",
       "SellerG             0\n",
       "Distance            0\n",
       "Bedroom2            0\n",
       "Bathroom            0\n",
       "Car                62\n",
       "Landsize            0\n",
       "BuildingArea     6450\n",
       "Regionname          0\n",
       "Propertycount       0\n",
       "dtype: int64"
      ]
     },
     "execution_count": 7,
     "metadata": {},
     "output_type": "execute_result"
    }
   ],
   "source": [
    "# Check for null values in all columns\n",
    "df_clean.isna().sum()"
   ]
  },
  {
   "cell_type": "code",
   "execution_count": 9,
   "id": "24c550dc",
   "metadata": {},
   "outputs": [],
   "source": [
    "# Drop all rows where BuildingArea is null\n",
    "df_clean = df_clean.dropna(subset=['BuildingArea'])"
   ]
  },
  {
   "cell_type": "code",
   "execution_count": 10,
   "id": "82cb5263",
   "metadata": {},
   "outputs": [
    {
     "data": {
      "text/plain": [
       "Suburb            0\n",
       "Address           0\n",
       "Rooms             0\n",
       "Type              0\n",
       "Price             0\n",
       "SellerG           0\n",
       "Distance          0\n",
       "Bedroom2          0\n",
       "Bathroom          0\n",
       "Car              29\n",
       "Landsize          0\n",
       "BuildingArea      0\n",
       "Regionname        0\n",
       "Propertycount     0\n",
       "dtype: int64"
      ]
     },
     "execution_count": 10,
     "metadata": {},
     "output_type": "execute_result"
    }
   ],
   "source": [
    "df_clean.isna().sum()"
   ]
  },
  {
   "cell_type": "code",
   "execution_count": 15,
   "id": "9c510887",
   "metadata": {},
   "outputs": [],
   "source": [
    "# Replace nulls in Car column with 0\n",
    "df_clean[df_clean['Car'].isna()] = 0"
   ]
  },
  {
   "cell_type": "code",
   "execution_count": 16,
   "id": "649eac5b",
   "metadata": {},
   "outputs": [
    {
     "data": {
      "text/plain": [
       "Suburb           0\n",
       "Address          0\n",
       "Rooms            0\n",
       "Type             0\n",
       "Price            0\n",
       "SellerG          0\n",
       "Distance         0\n",
       "Bedroom2         0\n",
       "Bathroom         0\n",
       "Car              0\n",
       "Landsize         0\n",
       "BuildingArea     0\n",
       "Regionname       0\n",
       "Propertycount    0\n",
       "dtype: int64"
      ]
     },
     "execution_count": 16,
     "metadata": {},
     "output_type": "execute_result"
    }
   ],
   "source": [
    "df_clean.isna().sum()"
   ]
  },
  {
   "cell_type": "code",
   "execution_count": 18,
   "id": "bd1097ed",
   "metadata": {},
   "outputs": [
    {
     "data": {
      "text/html": [
       "<div>\n",
       "<style scoped>\n",
       "    .dataframe tbody tr th:only-of-type {\n",
       "        vertical-align: middle;\n",
       "    }\n",
       "\n",
       "    .dataframe tbody tr th {\n",
       "        vertical-align: top;\n",
       "    }\n",
       "\n",
       "    .dataframe thead th {\n",
       "        text-align: right;\n",
       "    }\n",
       "</style>\n",
       "<table border=\"1\" class=\"dataframe\">\n",
       "  <thead>\n",
       "    <tr style=\"text-align: right;\">\n",
       "      <th></th>\n",
       "      <th>Rooms</th>\n",
       "      <th>Price</th>\n",
       "      <th>Distance</th>\n",
       "      <th>Bedroom2</th>\n",
       "      <th>Bathroom</th>\n",
       "      <th>Car</th>\n",
       "      <th>Landsize</th>\n",
       "      <th>BuildingArea</th>\n",
       "      <th>Propertycount</th>\n",
       "    </tr>\n",
       "  </thead>\n",
       "  <tbody>\n",
       "    <tr>\n",
       "      <th>count</th>\n",
       "      <td>7130.000000</td>\n",
       "      <td>7.130000e+03</td>\n",
       "      <td>7130.000000</td>\n",
       "      <td>7130.000000</td>\n",
       "      <td>7130.000000</td>\n",
       "      <td>7130.000000</td>\n",
       "      <td>7130.000000</td>\n",
       "      <td>7130.000000</td>\n",
       "      <td>7130.000000</td>\n",
       "    </tr>\n",
       "    <tr>\n",
       "      <th>mean</th>\n",
       "      <td>2.967181</td>\n",
       "      <td>1.074241e+06</td>\n",
       "      <td>10.125863</td>\n",
       "      <td>2.940393</td>\n",
       "      <td>1.594670</td>\n",
       "      <td>1.604628</td>\n",
       "      <td>488.259046</td>\n",
       "      <td>151.510146</td>\n",
       "      <td>7401.719355</td>\n",
       "    </tr>\n",
       "    <tr>\n",
       "      <th>std</th>\n",
       "      <td>0.988099</td>\n",
       "      <td>6.770286e+05</td>\n",
       "      <td>6.044035</td>\n",
       "      <td>0.987910</td>\n",
       "      <td>0.726683</td>\n",
       "      <td>0.948857</td>\n",
       "      <td>1036.592223</td>\n",
       "      <td>541.092812</td>\n",
       "      <td>4364.161874</td>\n",
       "    </tr>\n",
       "    <tr>\n",
       "      <th>min</th>\n",
       "      <td>0.000000</td>\n",
       "      <td>0.000000e+00</td>\n",
       "      <td>0.000000</td>\n",
       "      <td>0.000000</td>\n",
       "      <td>0.000000</td>\n",
       "      <td>0.000000</td>\n",
       "      <td>0.000000</td>\n",
       "      <td>0.000000</td>\n",
       "      <td>0.000000</td>\n",
       "    </tr>\n",
       "    <tr>\n",
       "      <th>25%</th>\n",
       "      <td>2.000000</td>\n",
       "      <td>6.292500e+05</td>\n",
       "      <td>6.100000</td>\n",
       "      <td>2.000000</td>\n",
       "      <td>1.000000</td>\n",
       "      <td>1.000000</td>\n",
       "      <td>163.000000</td>\n",
       "      <td>92.000000</td>\n",
       "      <td>4380.000000</td>\n",
       "    </tr>\n",
       "    <tr>\n",
       "      <th>50%</th>\n",
       "      <td>3.000000</td>\n",
       "      <td>8.900000e+05</td>\n",
       "      <td>9.200000</td>\n",
       "      <td>3.000000</td>\n",
       "      <td>1.000000</td>\n",
       "      <td>2.000000</td>\n",
       "      <td>400.000000</td>\n",
       "      <td>126.000000</td>\n",
       "      <td>6543.000000</td>\n",
       "    </tr>\n",
       "    <tr>\n",
       "      <th>75%</th>\n",
       "      <td>4.000000</td>\n",
       "      <td>1.330000e+06</td>\n",
       "      <td>13.000000</td>\n",
       "      <td>4.000000</td>\n",
       "      <td>2.000000</td>\n",
       "      <td>2.000000</td>\n",
       "      <td>638.000000</td>\n",
       "      <td>174.000000</td>\n",
       "      <td>10175.000000</td>\n",
       "    </tr>\n",
       "    <tr>\n",
       "      <th>max</th>\n",
       "      <td>8.000000</td>\n",
       "      <td>9.000000e+06</td>\n",
       "      <td>48.100000</td>\n",
       "      <td>9.000000</td>\n",
       "      <td>8.000000</td>\n",
       "      <td>10.000000</td>\n",
       "      <td>44500.000000</td>\n",
       "      <td>44515.000000</td>\n",
       "      <td>21650.000000</td>\n",
       "    </tr>\n",
       "  </tbody>\n",
       "</table>\n",
       "</div>"
      ],
      "text/plain": [
       "             Rooms         Price     Distance     Bedroom2     Bathroom  \\\n",
       "count  7130.000000  7.130000e+03  7130.000000  7130.000000  7130.000000   \n",
       "mean      2.967181  1.074241e+06    10.125863     2.940393     1.594670   \n",
       "std       0.988099  6.770286e+05     6.044035     0.987910     0.726683   \n",
       "min       0.000000  0.000000e+00     0.000000     0.000000     0.000000   \n",
       "25%       2.000000  6.292500e+05     6.100000     2.000000     1.000000   \n",
       "50%       3.000000  8.900000e+05     9.200000     3.000000     1.000000   \n",
       "75%       4.000000  1.330000e+06    13.000000     4.000000     2.000000   \n",
       "max       8.000000  9.000000e+06    48.100000     9.000000     8.000000   \n",
       "\n",
       "               Car      Landsize  BuildingArea  Propertycount  \n",
       "count  7130.000000   7130.000000   7130.000000    7130.000000  \n",
       "mean      1.604628    488.259046    151.510146    7401.719355  \n",
       "std       0.948857   1036.592223    541.092812    4364.161874  \n",
       "min       0.000000      0.000000      0.000000       0.000000  \n",
       "25%       1.000000    163.000000     92.000000    4380.000000  \n",
       "50%       2.000000    400.000000    126.000000    6543.000000  \n",
       "75%       2.000000    638.000000    174.000000   10175.000000  \n",
       "max      10.000000  44500.000000  44515.000000   21650.000000  "
      ]
     },
     "execution_count": 18,
     "metadata": {},
     "output_type": "execute_result"
    }
   ],
   "source": [
    "# Check if there are negative rooms, price, distance, carspots, landsize, etc.\n",
    "df_clean.describe()"
   ]
  },
  {
   "cell_type": "markdown",
   "id": "3ce42d79",
   "metadata": {},
   "source": [
    "There are housing where there are 0 bedrooms, bathrooms, landsize, and building area - that doesnt make any sense."
   ]
  },
  {
   "cell_type": "code",
   "execution_count": 19,
   "id": "f6b80efd",
   "metadata": {},
   "outputs": [],
   "source": [
    "# Make sure BuildingArea and Landsize are greater than 0\n",
    "df_clean = df_clean[df_clean['BuildingArea'] > 0]"
   ]
  },
  {
   "cell_type": "code",
   "execution_count": 20,
   "id": "25ff49ce",
   "metadata": {},
   "outputs": [],
   "source": [
    "df_clean = df_clean[(df_clean['Landsize'] > 0)]"
   ]
  },
  {
   "cell_type": "code",
   "execution_count": 21,
   "id": "ddfde592",
   "metadata": {},
   "outputs": [
    {
     "data": {
      "text/plain": [
       "(6023, 14)"
      ]
     },
     "execution_count": 21,
     "metadata": {},
     "output_type": "execute_result"
    }
   ],
   "source": [
    "df_clean.describe()\n",
    "df_clean.shape"
   ]
  },
  {
   "cell_type": "code",
   "execution_count": 22,
   "id": "aa27f787",
   "metadata": {},
   "outputs": [],
   "source": [
    "# Make sure that landsize is greater than BuildingArea\n",
    "df_clean = df_clean[df_clean['BuildingArea'] >= df_clean['Landsize']]"
   ]
  },
  {
   "cell_type": "code",
   "execution_count": 23,
   "id": "4939ea21",
   "metadata": {},
   "outputs": [
    {
     "name": "stdout",
     "output_type": "stream",
     "text": [
      "<class 'pandas.core.frame.DataFrame'>\n",
      "Int64Index: 309 entries, 2 to 13437\n",
      "Data columns (total 14 columns):\n",
      " #   Column         Non-Null Count  Dtype  \n",
      "---  ------         --------------  -----  \n",
      " 0   Suburb         309 non-null    object \n",
      " 1   Address        309 non-null    object \n",
      " 2   Rooms          309 non-null    int64  \n",
      " 3   Type           309 non-null    object \n",
      " 4   Price          309 non-null    float64\n",
      " 5   SellerG        309 non-null    object \n",
      " 6   Distance       309 non-null    float64\n",
      " 7   Bedroom2       309 non-null    float64\n",
      " 8   Bathroom       309 non-null    float64\n",
      " 9   Car            309 non-null    float64\n",
      " 10  Landsize       309 non-null    float64\n",
      " 11  BuildingArea   309 non-null    float64\n",
      " 12  Regionname     309 non-null    object \n",
      " 13  Propertycount  309 non-null    float64\n",
      "dtypes: float64(8), int64(1), object(5)\n",
      "memory usage: 36.2+ KB\n"
     ]
    }
   ],
   "source": [
    "df_clean.info()"
   ]
  },
  {
   "cell_type": "code",
   "execution_count": 25,
   "id": "9cc5883a",
   "metadata": {},
   "outputs": [
    {
     "data": {
      "text/html": [
       "<div>\n",
       "<style scoped>\n",
       "    .dataframe tbody tr th:only-of-type {\n",
       "        vertical-align: middle;\n",
       "    }\n",
       "\n",
       "    .dataframe tbody tr th {\n",
       "        vertical-align: top;\n",
       "    }\n",
       "\n",
       "    .dataframe thead th {\n",
       "        text-align: right;\n",
       "    }\n",
       "</style>\n",
       "<table border=\"1\" class=\"dataframe\">\n",
       "  <thead>\n",
       "    <tr style=\"text-align: right;\">\n",
       "      <th></th>\n",
       "      <th>Rooms</th>\n",
       "      <th>Price</th>\n",
       "      <th>Distance</th>\n",
       "      <th>Bedroom2</th>\n",
       "      <th>Bathroom</th>\n",
       "      <th>Car</th>\n",
       "      <th>Landsize</th>\n",
       "      <th>BuildingArea</th>\n",
       "      <th>Propertycount</th>\n",
       "    </tr>\n",
       "  </thead>\n",
       "  <tbody>\n",
       "    <tr>\n",
       "      <th>count</th>\n",
       "      <td>309.000000</td>\n",
       "      <td>3.090000e+02</td>\n",
       "      <td>309.000000</td>\n",
       "      <td>309.000000</td>\n",
       "      <td>309.000000</td>\n",
       "      <td>309.000000</td>\n",
       "      <td>309.000000</td>\n",
       "      <td>309.000000</td>\n",
       "      <td>309.000000</td>\n",
       "    </tr>\n",
       "    <tr>\n",
       "      <th>mean</th>\n",
       "      <td>2.838188</td>\n",
       "      <td>1.130329e+06</td>\n",
       "      <td>7.252427</td>\n",
       "      <td>2.822006</td>\n",
       "      <td>1.773463</td>\n",
       "      <td>1.330097</td>\n",
       "      <td>334.288026</td>\n",
       "      <td>397.926631</td>\n",
       "      <td>7457.498382</td>\n",
       "    </tr>\n",
       "    <tr>\n",
       "      <th>std</th>\n",
       "      <td>0.768515</td>\n",
       "      <td>5.764944e+05</td>\n",
       "      <td>5.627671</td>\n",
       "      <td>0.767037</td>\n",
       "      <td>0.624558</td>\n",
       "      <td>0.790220</td>\n",
       "      <td>2530.626964</td>\n",
       "      <td>2564.024923</td>\n",
       "      <td>4165.139912</td>\n",
       "    </tr>\n",
       "    <tr>\n",
       "      <th>min</th>\n",
       "      <td>1.000000</td>\n",
       "      <td>2.485000e+05</td>\n",
       "      <td>1.300000</td>\n",
       "      <td>1.000000</td>\n",
       "      <td>1.000000</td>\n",
       "      <td>0.000000</td>\n",
       "      <td>1.000000</td>\n",
       "      <td>15.000000</td>\n",
       "      <td>438.000000</td>\n",
       "    </tr>\n",
       "    <tr>\n",
       "      <th>25%</th>\n",
       "      <td>2.000000</td>\n",
       "      <td>7.300000e+05</td>\n",
       "      <td>3.300000</td>\n",
       "      <td>2.000000</td>\n",
       "      <td>1.000000</td>\n",
       "      <td>1.000000</td>\n",
       "      <td>84.000000</td>\n",
       "      <td>112.000000</td>\n",
       "      <td>4898.000000</td>\n",
       "    </tr>\n",
       "    <tr>\n",
       "      <th>50%</th>\n",
       "      <td>3.000000</td>\n",
       "      <td>1.000000e+06</td>\n",
       "      <td>6.100000</td>\n",
       "      <td>3.000000</td>\n",
       "      <td>2.000000</td>\n",
       "      <td>1.000000</td>\n",
       "      <td>118.000000</td>\n",
       "      <td>145.000000</td>\n",
       "      <td>6380.000000</td>\n",
       "    </tr>\n",
       "    <tr>\n",
       "      <th>75%</th>\n",
       "      <td>3.000000</td>\n",
       "      <td>1.390000e+06</td>\n",
       "      <td>9.900000</td>\n",
       "      <td>3.000000</td>\n",
       "      <td>2.000000</td>\n",
       "      <td>2.000000</td>\n",
       "      <td>190.000000</td>\n",
       "      <td>216.000000</td>\n",
       "      <td>8989.000000</td>\n",
       "    </tr>\n",
       "    <tr>\n",
       "      <th>max</th>\n",
       "      <td>5.000000</td>\n",
       "      <td>4.525000e+06</td>\n",
       "      <td>48.100000</td>\n",
       "      <td>5.000000</td>\n",
       "      <td>3.000000</td>\n",
       "      <td>5.000000</td>\n",
       "      <td>44500.000000</td>\n",
       "      <td>44515.000000</td>\n",
       "      <td>21650.000000</td>\n",
       "    </tr>\n",
       "  </tbody>\n",
       "</table>\n",
       "</div>"
      ],
      "text/plain": [
       "            Rooms         Price    Distance    Bedroom2    Bathroom  \\\n",
       "count  309.000000  3.090000e+02  309.000000  309.000000  309.000000   \n",
       "mean     2.838188  1.130329e+06    7.252427    2.822006    1.773463   \n",
       "std      0.768515  5.764944e+05    5.627671    0.767037    0.624558   \n",
       "min      1.000000  2.485000e+05    1.300000    1.000000    1.000000   \n",
       "25%      2.000000  7.300000e+05    3.300000    2.000000    1.000000   \n",
       "50%      3.000000  1.000000e+06    6.100000    3.000000    2.000000   \n",
       "75%      3.000000  1.390000e+06    9.900000    3.000000    2.000000   \n",
       "max      5.000000  4.525000e+06   48.100000    5.000000    3.000000   \n",
       "\n",
       "              Car      Landsize  BuildingArea  Propertycount  \n",
       "count  309.000000    309.000000    309.000000     309.000000  \n",
       "mean     1.330097    334.288026    397.926631    7457.498382  \n",
       "std      0.790220   2530.626964   2564.024923    4165.139912  \n",
       "min      0.000000      1.000000     15.000000     438.000000  \n",
       "25%      1.000000     84.000000    112.000000    4898.000000  \n",
       "50%      1.000000    118.000000    145.000000    6380.000000  \n",
       "75%      2.000000    190.000000    216.000000    8989.000000  \n",
       "max      5.000000  44500.000000  44515.000000   21650.000000  "
      ]
     },
     "execution_count": 25,
     "metadata": {},
     "output_type": "execute_result"
    }
   ],
   "source": [
    "df_clean.describe()"
   ]
  },
  {
   "cell_type": "code",
   "execution_count": 26,
   "id": "6cc088b1",
   "metadata": {},
   "outputs": [],
   "source": [
    "# Export to csv\n",
    "df_clean.to_csv(r'C:\\Users\\Mouth\\Documents\\Datasets\\Melbourne_Housing\\clean_data.csv')"
   ]
  },
  {
   "cell_type": "markdown",
   "id": "6e2c18f6",
   "metadata": {},
   "source": [
    "## Exploring the Data\n",
    "Here we try to identify trends and patterns on the clean dataset"
   ]
  },
  {
   "cell_type": "code",
   "execution_count": 27,
   "id": "f8377b07",
   "metadata": {},
   "outputs": [
    {
     "data": {
      "text/plain": [
       "<AxesSubplot:xlabel='Price'>"
      ]
     },
     "execution_count": 27,
     "metadata": {},
     "output_type": "execute_result"
    },
    {
     "data": {
      "image/png": "[encoded data removed]",
      "text/plain": [
       "<Figure size 432x288 with 1 Axes>"
      ]
     },
     "metadata": {
      "needs_background": "light"
     },
     "output_type": "display_data"
    }
   ],
   "source": [
    "sns.boxplot(x=df_clean['Price'])"
   ]
  },
  {
   "cell_type": "code",
   "execution_count": 29,
   "id": "482bd4a8",
   "metadata": {},
   "outputs": [
    {
     "data": {
      "text/plain": [
       "count    3.090000e+02\n",
       "mean     1.130329e+06\n",
       "std      5.764944e+05\n",
       "min      2.485000e+05\n",
       "25%      7.300000e+05\n",
       "50%      1.000000e+06\n",
       "75%      1.390000e+06\n",
       "max      4.525000e+06\n",
       "Name: Price, dtype: float64"
      ]
     },
     "execution_count": 29,
     "metadata": {},
     "output_type": "execute_result"
    }
   ],
   "source": [
    "df_clean['Price'].describe()"
   ]
  },
  {
   "cell_type": "code",
   "execution_count": 28,
   "id": "d7a4e6a1",
   "metadata": {},
   "outputs": [
    {
     "data": {
      "text/plain": [
       "1130329"
      ]
     },
     "execution_count": 28,
     "metadata": {},
     "output_type": "execute_result"
    }
   ],
   "source": [
    "avg_housing_price = round(df_clean.Price.mean())\n",
    "avg_housing_price"
   ]
  },
  {
   "cell_type": "markdown",
   "id": "572c337c",
   "metadata": {},
   "source": [
    "The median price for housing in Melbourne seems to be \\\\$1 million AUD with over 50\\% of the housing priced at \\\\$1 million. The lower quartile is around \\\\$750,000 while the upper quartile is around \\\\$1,400,000. The average housing in Melbourne is $1.13 million."
   ]
  },
  {
   "cell_type": "markdown",
   "id": "f9661b00",
   "metadata": {},
   "source": [
    "### Price Analysis\n",
    " 1. What factors influence the property prices the most like (eg. location, number of rooms, distance from CBD, etc.)?\n",
    " 2. How do prices vary between region and suburb?"
   ]
  },
  {
   "cell_type": "code",
   "execution_count": 30,
   "id": "f65e4631",
   "metadata": {},
   "outputs": [
    {
     "data": {
      "text/plain": [
       "<AxesSubplot:xlabel='Rooms', ylabel='Price'>"
      ]
     },
     "execution_count": 30,
     "metadata": {},
     "output_type": "execute_result"
    },
    {
     "data": {
      "image/png": "[encoded data removed]",
      "text/plain": [
       "<Figure size 432x288 with 1 Axes>"
      ]
     },
     "metadata": {
      "needs_background": "light"
     },
     "output_type": "display_data"
    }
   ],
   "source": [
    "# How does the number of rooms affect housing price?\n",
    "sns.boxplot(data=df_clean, x='Rooms', y='Price')"
   ]
  },
  {
   "cell_type": "markdown",
   "id": "1221cdde",
   "metadata": {},
   "source": [
    "As expected, as room numbers increase so does the price of the housing"
   ]
  },
  {
   "cell_type": "code",
   "execution_count": 31,
   "id": "88d59f48",
   "metadata": {},
   "outputs": [
    {
     "data": {
      "text/plain": [
       "<AxesSubplot:xlabel='Distance', ylabel='Price'>"
      ]
     },
     "execution_count": 31,
     "metadata": {},
     "output_type": "execute_result"
    },
    {
     "data": {
      "image/png": "[encoded data removed]",
      "text/plain": [
       "<Figure size 432x288 with 1 Axes>"
      ]
     },
     "metadata": {
      "needs_background": "light"
     },
     "output_type": "display_data"
    }
   ],
   "source": [
    "# How does the distance from the Central Business District (CBD) affect housing price?\n",
    "sns.scatterplot(data=df_clean, x='Distance', y='Price', alpha=0.7)"
   ]
  },
  {
   "cell_type": "markdown",
   "id": "30cb2a2c",
   "metadata": {},
   "source": [
    "Obviously, the closer you are to the CBD the more expensive it will be. The majority of housing prices vary between \\\\$500,000 to \\\\$2.5 million when you are less than 20km from the CBD"
   ]
  },
  {
   "cell_type": "code",
   "execution_count": 32,
   "id": "b86bb414",
   "metadata": {
    "scrolled": true
   },
   "outputs": [
    {
     "data": {
      "text/plain": [
       "<AxesSubplot:xlabel='Price', ylabel='Regionname'>"
      ]
     },
     "execution_count": 32,
     "metadata": {},
     "output_type": "execute_result"
    },
    {
     "data": {
      "image/png": "[encoded data removed]",
      "text/plain": [
       "<Figure size 432x288 with 1 Axes>"
      ]
     },
     "metadata": {
      "needs_background": "light"
     },
     "output_type": "display_data"
    }
   ],
   "source": [
    "# What are the prices for each region\n",
    "sns.boxplot(data=df_clean, y='Regionname', x='Price')"
   ]
  },
  {
   "cell_type": "code",
   "execution_count": 33,
   "id": "c66f6f4a",
   "metadata": {},
   "outputs": [
    {
     "data": {
      "text/html": [
       "<div>\n",
       "<style scoped>\n",
       "    .dataframe tbody tr th:only-of-type {\n",
       "        vertical-align: middle;\n",
       "    }\n",
       "\n",
       "    .dataframe tbody tr th {\n",
       "        vertical-align: top;\n",
       "    }\n",
       "\n",
       "    .dataframe thead th {\n",
       "        text-align: right;\n",
       "    }\n",
       "</style>\n",
       "<table border=\"1\" class=\"dataframe\">\n",
       "  <thead>\n",
       "    <tr style=\"text-align: right;\">\n",
       "      <th></th>\n",
       "      <th>mean</th>\n",
       "      <th>min</th>\n",
       "      <th>max</th>\n",
       "    </tr>\n",
       "    <tr>\n",
       "      <th>Regionname</th>\n",
       "      <th></th>\n",
       "      <th></th>\n",
       "      <th></th>\n",
       "    </tr>\n",
       "  </thead>\n",
       "  <tbody>\n",
       "    <tr>\n",
       "      <th>Eastern Metropolitan</th>\n",
       "      <td>9.400571e+05</td>\n",
       "      <td>452000.0</td>\n",
       "      <td>2000000.0</td>\n",
       "    </tr>\n",
       "    <tr>\n",
       "      <th>Eastern Victoria</th>\n",
       "      <td>4.350000e+05</td>\n",
       "      <td>435000.0</td>\n",
       "      <td>435000.0</td>\n",
       "    </tr>\n",
       "    <tr>\n",
       "      <th>Northern Metropolitan</th>\n",
       "      <td>1.080106e+06</td>\n",
       "      <td>248500.0</td>\n",
       "      <td>4525000.0</td>\n",
       "    </tr>\n",
       "    <tr>\n",
       "      <th>Northern Victoria</th>\n",
       "      <td>1.355000e+06</td>\n",
       "      <td>1355000.0</td>\n",
       "      <td>1355000.0</td>\n",
       "    </tr>\n",
       "    <tr>\n",
       "      <th>South-Eastern Metropolitan</th>\n",
       "      <td>7.456875e+05</td>\n",
       "      <td>503750.0</td>\n",
       "      <td>1241000.0</td>\n",
       "    </tr>\n",
       "    <tr>\n",
       "      <th>Southern Metropolitan</th>\n",
       "      <td>1.431864e+06</td>\n",
       "      <td>380000.0</td>\n",
       "      <td>3705000.0</td>\n",
       "    </tr>\n",
       "    <tr>\n",
       "      <th>Western Metropolitan</th>\n",
       "      <td>7.384259e+05</td>\n",
       "      <td>305000.0</td>\n",
       "      <td>1860000.0</td>\n",
       "    </tr>\n",
       "  </tbody>\n",
       "</table>\n",
       "</div>"
      ],
      "text/plain": [
       "                                    mean        min        max\n",
       "Regionname                                                    \n",
       "Eastern Metropolitan        9.400571e+05   452000.0  2000000.0\n",
       "Eastern Victoria            4.350000e+05   435000.0   435000.0\n",
       "Northern Metropolitan       1.080106e+06   248500.0  4525000.0\n",
       "Northern Victoria           1.355000e+06  1355000.0  1355000.0\n",
       "South-Eastern Metropolitan  7.456875e+05   503750.0  1241000.0\n",
       "Southern Metropolitan       1.431864e+06   380000.0  3705000.0\n",
       "Western Metropolitan        7.384259e+05   305000.0  1860000.0"
      ]
     },
     "execution_count": 33,
     "metadata": {},
     "output_type": "execute_result"
    }
   ],
   "source": [
    "# What is the average price for each region in Melbourne?\n",
    "df_clean.groupby('Regionname')['Price'].agg(['mean', 'min', 'max'])"
   ]
  },
  {
   "cell_type": "code",
   "execution_count": 34,
   "id": "6f92a63e",
   "metadata": {},
   "outputs": [
    {
     "data": {
      "text/plain": [
       "Text(0.5, 1.0, 'Average Price of Housing Per Region')"
      ]
     },
     "execution_count": 34,
     "metadata": {},
     "output_type": "execute_result"
    },
    {
     "data": {
      "image/png": "[encoded data removed]",
      "text/plain": [
       "<Figure size 432x288 with 1 Axes>"
      ]
     },
     "metadata": {
      "needs_background": "light"
     },
     "output_type": "display_data"
    }
   ],
   "source": [
    "# Plot the average prices for each region in a bar chart\n",
    "sns.barplot(data=df_clean, y='Regionname', x='Price', ci=False)\n",
    "\n",
    "plt.ylabel('Regions')\n",
    "plt.xlabel('Price (in millions)')\n",
    "plt.title('Average Price of Housing Per Region')"
   ]
  },
  {
   "cell_type": "markdown",
   "id": "8bd08496",
   "metadata": {},
   "source": [
    "Southern Metropolitan is the most expensive part of the city with an average housing costing a little over \\\\$1.4 million, while Eastern Victoria is the least expensive averaging a little over \\\\$400,000. \n",
    "\n",
    "Next, I am going to take a look at the pricing for each suburb per region."
   ]
  },
  {
   "cell_type": "code",
   "execution_count": 35,
   "id": "2743e48c",
   "metadata": {},
   "outputs": [
    {
     "data": {
      "text/html": [
       "<div>\n",
       "<style scoped>\n",
       "    .dataframe tbody tr th:only-of-type {\n",
       "        vertical-align: middle;\n",
       "    }\n",
       "\n",
       "    .dataframe tbody tr th {\n",
       "        vertical-align: top;\n",
       "    }\n",
       "\n",
       "    .dataframe thead th {\n",
       "        text-align: right;\n",
       "    }\n",
       "</style>\n",
       "<table border=\"1\" class=\"dataframe\">\n",
       "  <thead>\n",
       "    <tr style=\"text-align: right;\">\n",
       "      <th></th>\n",
       "      <th></th>\n",
       "      <th>mean</th>\n",
       "      <th>min</th>\n",
       "      <th>max</th>\n",
       "    </tr>\n",
       "    <tr>\n",
       "      <th>Regionname</th>\n",
       "      <th>Suburb</th>\n",
       "      <th></th>\n",
       "      <th></th>\n",
       "      <th></th>\n",
       "    </tr>\n",
       "  </thead>\n",
       "  <tbody>\n",
       "    <tr>\n",
       "      <th rowspan=\"5\" valign=\"top\">Eastern Metropolitan</th>\n",
       "      <th>Blackburn North</th>\n",
       "      <td>706000.0</td>\n",
       "      <td>706000.0</td>\n",
       "      <td>706000.0</td>\n",
       "    </tr>\n",
       "    <tr>\n",
       "      <th>Bulleen</th>\n",
       "      <td>1280000.0</td>\n",
       "      <td>1280000.0</td>\n",
       "      <td>1280000.0</td>\n",
       "    </tr>\n",
       "    <tr>\n",
       "      <th>Doncaster</th>\n",
       "      <td>676600.0</td>\n",
       "      <td>452000.0</td>\n",
       "      <td>826000.0</td>\n",
       "    </tr>\n",
       "    <tr>\n",
       "      <th>Doncaster East</th>\n",
       "      <td>1120000.0</td>\n",
       "      <td>1120000.0</td>\n",
       "      <td>1120000.0</td>\n",
       "    </tr>\n",
       "    <tr>\n",
       "      <th>Forest Hill</th>\n",
       "      <td>948000.0</td>\n",
       "      <td>730000.0</td>\n",
       "      <td>1350000.0</td>\n",
       "    </tr>\n",
       "    <tr>\n",
       "      <th>...</th>\n",
       "      <th>...</th>\n",
       "      <td>...</td>\n",
       "      <td>...</td>\n",
       "      <td>...</td>\n",
       "    </tr>\n",
       "    <tr>\n",
       "      <th rowspan=\"5\" valign=\"top\">Western Metropolitan</th>\n",
       "      <th>Taylors Hill</th>\n",
       "      <td>558000.0</td>\n",
       "      <td>558000.0</td>\n",
       "      <td>558000.0</td>\n",
       "    </tr>\n",
       "    <tr>\n",
       "      <th>West Footscray</th>\n",
       "      <td>752750.0</td>\n",
       "      <td>495000.0</td>\n",
       "      <td>1060000.0</td>\n",
       "    </tr>\n",
       "    <tr>\n",
       "      <th>Williams Landing</th>\n",
       "      <td>510000.0</td>\n",
       "      <td>510000.0</td>\n",
       "      <td>510000.0</td>\n",
       "    </tr>\n",
       "    <tr>\n",
       "      <th>Williamstown</th>\n",
       "      <td>1326000.0</td>\n",
       "      <td>830000.0</td>\n",
       "      <td>1860000.0</td>\n",
       "    </tr>\n",
       "    <tr>\n",
       "      <th>Yarraville</th>\n",
       "      <td>914750.0</td>\n",
       "      <td>709500.0</td>\n",
       "      <td>1120000.0</td>\n",
       "    </tr>\n",
       "  </tbody>\n",
       "</table>\n",
       "<p>101 rows × 3 columns</p>\n",
       "</div>"
      ],
      "text/plain": [
       "                                            mean        min        max\n",
       "Regionname           Suburb                                           \n",
       "Eastern Metropolitan Blackburn North    706000.0   706000.0   706000.0\n",
       "                     Bulleen           1280000.0  1280000.0  1280000.0\n",
       "                     Doncaster          676600.0   452000.0   826000.0\n",
       "                     Doncaster East    1120000.0  1120000.0  1120000.0\n",
       "                     Forest Hill        948000.0   730000.0  1350000.0\n",
       "...                                          ...        ...        ...\n",
       "Western Metropolitan Taylors Hill       558000.0   558000.0   558000.0\n",
       "                     West Footscray     752750.0   495000.0  1060000.0\n",
       "                     Williams Landing   510000.0   510000.0   510000.0\n",
       "                     Williamstown      1326000.0   830000.0  1860000.0\n",
       "                     Yarraville         914750.0   709500.0  1120000.0\n",
       "\n",
       "[101 rows x 3 columns]"
      ]
     },
     "execution_count": 35,
     "metadata": {},
     "output_type": "execute_result"
    }
   ],
   "source": [
    "df_clean.groupby(['Regionname', 'Suburb'])['Price'].agg(['mean', 'min', 'max'])"
   ]
  },
  {
   "cell_type": "code",
   "execution_count": 36,
   "id": "e23929cd",
   "metadata": {},
   "outputs": [
    {
     "data": {
      "text/html": [
       "<div>\n",
       "<style scoped>\n",
       "    .dataframe tbody tr th:only-of-type {\n",
       "        vertical-align: middle;\n",
       "    }\n",
       "\n",
       "    .dataframe tbody tr th {\n",
       "        vertical-align: top;\n",
       "    }\n",
       "\n",
       "    .dataframe thead th {\n",
       "        text-align: right;\n",
       "    }\n",
       "</style>\n",
       "<table border=\"1\" class=\"dataframe\">\n",
       "  <thead>\n",
       "    <tr style=\"text-align: right;\">\n",
       "      <th></th>\n",
       "      <th>Regionname</th>\n",
       "      <th>Suburb</th>\n",
       "      <th>Price</th>\n",
       "    </tr>\n",
       "  </thead>\n",
       "  <tbody>\n",
       "    <tr>\n",
       "      <th>22</th>\n",
       "      <td>Northern Metropolitan</td>\n",
       "      <td>Craigieburn</td>\n",
       "      <td>3.100000e+05</td>\n",
       "    </tr>\n",
       "    <tr>\n",
       "      <th>27</th>\n",
       "      <td>Northern Metropolitan</td>\n",
       "      <td>Glenroy</td>\n",
       "      <td>3.815000e+05</td>\n",
       "    </tr>\n",
       "    <tr>\n",
       "      <th>94</th>\n",
       "      <td>Western Metropolitan</td>\n",
       "      <td>South Kingsville</td>\n",
       "      <td>4.200000e+05</td>\n",
       "    </tr>\n",
       "    <tr>\n",
       "      <th>9</th>\n",
       "      <td>Eastern Victoria</td>\n",
       "      <td>Pakenham</td>\n",
       "      <td>4.350000e+05</td>\n",
       "    </tr>\n",
       "    <tr>\n",
       "      <th>13</th>\n",
       "      <td>Northern Metropolitan</td>\n",
       "      <td>Brunswick West</td>\n",
       "      <td>4.600000e+05</td>\n",
       "    </tr>\n",
       "    <tr>\n",
       "      <th>...</th>\n",
       "      <td>...</td>\n",
       "      <td>...</td>\n",
       "      <td>...</td>\n",
       "    </tr>\n",
       "    <tr>\n",
       "      <th>55</th>\n",
       "      <td>Southern Metropolitan</td>\n",
       "      <td>Brighton</td>\n",
       "      <td>2.008200e+06</td>\n",
       "    </tr>\n",
       "    <tr>\n",
       "      <th>48</th>\n",
       "      <td>Southern Metropolitan</td>\n",
       "      <td>Ashburton</td>\n",
       "      <td>2.050000e+06</td>\n",
       "    </tr>\n",
       "    <tr>\n",
       "      <th>46</th>\n",
       "      <td>Southern Metropolitan</td>\n",
       "      <td>Albert Park</td>\n",
       "      <td>2.077500e+06</td>\n",
       "    </tr>\n",
       "    <tr>\n",
       "      <th>68</th>\n",
       "      <td>Southern Metropolitan</td>\n",
       "      <td>Kew</td>\n",
       "      <td>2.151000e+06</td>\n",
       "    </tr>\n",
       "    <tr>\n",
       "      <th>24</th>\n",
       "      <td>Northern Metropolitan</td>\n",
       "      <td>East Melbourne</td>\n",
       "      <td>2.583333e+06</td>\n",
       "    </tr>\n",
       "  </tbody>\n",
       "</table>\n",
       "<p>101 rows × 3 columns</p>\n",
       "</div>"
      ],
      "text/plain": [
       "               Regionname            Suburb         Price\n",
       "22  Northern Metropolitan       Craigieburn  3.100000e+05\n",
       "27  Northern Metropolitan           Glenroy  3.815000e+05\n",
       "94   Western Metropolitan  South Kingsville  4.200000e+05\n",
       "9        Eastern Victoria          Pakenham  4.350000e+05\n",
       "13  Northern Metropolitan    Brunswick West  4.600000e+05\n",
       "..                    ...               ...           ...\n",
       "55  Southern Metropolitan          Brighton  2.008200e+06\n",
       "48  Southern Metropolitan         Ashburton  2.050000e+06\n",
       "46  Southern Metropolitan       Albert Park  2.077500e+06\n",
       "68  Southern Metropolitan               Kew  2.151000e+06\n",
       "24  Northern Metropolitan    East Melbourne  2.583333e+06\n",
       "\n",
       "[101 rows x 3 columns]"
      ]
     },
     "execution_count": 36,
     "metadata": {},
     "output_type": "execute_result"
    }
   ],
   "source": [
    "# Find mean price of each suburb per region\n",
    "avg_price_suburb_region = df_clean.groupby(['Regionname', 'Suburb'], as_index=False).Price.mean()\n",
    "# Sort mean price in descending order\n",
    "avg_price_suburb_region = avg_price_suburb_region.sort_values(['Price', 'Regionname'], ascending=[True, True])\n",
    "avg_price_suburb_region"
   ]
  },
  {
   "cell_type": "code",
   "execution_count": 37,
   "id": "cca59cc5",
   "metadata": {
    "scrolled": false
   },
   "outputs": [
    {
     "data": {
      "image/png": "[encoded data removed]",
      "text/plain": [
       "<Figure size 720x504 with 1 Axes>"
      ]
     },
     "metadata": {
      "needs_background": "light"
     },
     "output_type": "display_data"
    },
    {
     "data": {
      "image/png": "[encoded data removed]",
      "text/plain": [
       "<Figure size 720x504 with 1 Axes>"
      ]
     },
     "metadata": {
      "needs_background": "light"
     },
     "output_type": "display_data"
    },
    {
     "data": {
      "image/png": "[encoded data removed]",
      "text/plain": [
       "<Figure size 720x504 with 1 Axes>"
      ]
     },
     "metadata": {
      "needs_background": "light"
     },
     "output_type": "display_data"
    },
    {
     "data": {
      "image/png": "[encoded data removed]",
      "text/plain": [
       "<Figure size 720x504 with 1 Axes>"
      ]
     },
     "metadata": {
      "needs_background": "light"
     },
     "output_type": "display_data"
    },
    {
     "data": {
      "image/png": "[encoded data removed]",
      "text/plain": [
       "<Figure size 720x504 with 1 Axes>"
      ]
     },
     "metadata": {
      "needs_background": "light"
     },
     "output_type": "display_data"
    },
    {
     "data": {
      "image/png": "[encoded data removed]",
      "text/plain": [
       "<Figure size 720x504 with 1 Axes>"
      ]
     },
     "metadata": {
      "needs_background": "light"
     },
     "output_type": "display_data"
    },
    {
     "data": {
      "image/png": "[encoded data removed]",
      "text/plain": [
       "<Figure size 720x504 with 1 Axes>"
      ]
     },
     "metadata": {
      "needs_background": "light"
     },
     "output_type": "display_data"
    }
   ],
   "source": [
    "# Plot the average housing price of each suburb per region\n",
    "region_suburb_count = avg_price_suburb_region.groupby('Regionname', as_index=False).Suburb.count()\n",
    "regions = region_suburb_count.Regionname\n",
    "\n",
    "for region in regions:\n",
    "    # Create a mask to filter out suburbs of given region\n",
    "    region_mask = avg_price_suburb_region['Regionname'] == region\n",
    "    \n",
    "    # Select all rows with the given region\n",
    "    region_df = avg_price_suburb_region[region_mask]\n",
    "    \n",
    "    # Create bar plot to compare prices for each suburb in given region\n",
    "    region_suburb_count_mask = region_suburb_count['Regionname'] == region\n",
    "    plt.figure(figsize=(10, 7))\n",
    "    \n",
    "    # If the region contains a suburb count less than 10 use a vertical barplot, if not, horizontal bar plot\n",
    "    if region_suburb_count[region_suburb_count_mask].Suburb.values[0] < 10:\n",
    "        sns.barplot(data=region_df, x='Suburb', y='Price')\n",
    "    else:\n",
    "        sns.barplot(data=region_df, y='Suburb', x='Price')\n",
    "        \n",
    "    plt.title('Average Price in '+ str(region) + ' Suburbs')"
   ]
  },
  {
   "cell_type": "markdown",
   "id": "245a50b3",
   "metadata": {},
   "source": [
    "The bar plots represent the average housing price for each suburb per region. When looking for housing in Melbourne, the graphs will be very useful in giving an idea of housing prices based on the buyers budget and their preferred region.\n"
   ]
  },
  {
   "cell_type": "markdown",
   "id": "455185f3",
   "metadata": {},
   "source": [
    "## Property Characteristics\n",
    "Here we find out what the average number of rooms, bathrooms, and type of housing for different suburbs."
   ]
  },
  {
   "cell_type": "code",
   "execution_count": 39,
   "id": "7fb5af97",
   "metadata": {},
   "outputs": [
    {
     "data": {
      "text/plain": [
       "Regionname                  Type\n",
       "Eastern Metropolitan        h        5\n",
       "                            t        4\n",
       "                            u        5\n",
       "Eastern Victoria            h        1\n",
       "Northern Metropolitan       h       79\n",
       "                            t       39\n",
       "                            u       10\n",
       "Northern Victoria           h        1\n",
       "South-Eastern Metropolitan  h        2\n",
       "                            t        1\n",
       "                            u        1\n",
       "Southern Metropolitan       h       64\n",
       "                            t       31\n",
       "                            u       12\n",
       "Western Metropolitan        h       26\n",
       "                            t       21\n",
       "                            u        7\n",
       "Name: Type, dtype: int64"
      ]
     },
     "execution_count": 39,
     "metadata": {},
     "output_type": "execute_result"
    }
   ],
   "source": [
    "# What type of housing are in each region?\n",
    "housing_type = df_clean.groupby(['Regionname', 'Type'])['Type'].count()\n",
    "housing_type"
   ]
  },
  {
   "cell_type": "markdown",
   "id": "33835be5",
   "metadata": {},
   "source": [
    "Looking at this information, Northern, Southern, and Western Metropolitan are more residential areas as they contain houses and townhouses."
   ]
  },
  {
   "cell_type": "code",
   "execution_count": 41,
   "id": "6c350ca4",
   "metadata": {},
   "outputs": [
    {
     "data": {
      "text/html": [
       "<div>\n",
       "<style scoped>\n",
       "    .dataframe tbody tr th:only-of-type {\n",
       "        vertical-align: middle;\n",
       "    }\n",
       "\n",
       "    .dataframe tbody tr th {\n",
       "        vertical-align: top;\n",
       "    }\n",
       "\n",
       "    .dataframe thead th {\n",
       "        text-align: right;\n",
       "    }\n",
       "</style>\n",
       "<table border=\"1\" class=\"dataframe\">\n",
       "  <thead>\n",
       "    <tr style=\"text-align: right;\">\n",
       "      <th></th>\n",
       "      <th>Regionname</th>\n",
       "      <th>Suburb</th>\n",
       "      <th>Rooms</th>\n",
       "    </tr>\n",
       "  </thead>\n",
       "  <tbody>\n",
       "    <tr>\n",
       "      <th>0</th>\n",
       "      <td>Eastern Metropolitan</td>\n",
       "      <td>Blackburn North</td>\n",
       "      <td>2.0</td>\n",
       "    </tr>\n",
       "    <tr>\n",
       "      <th>1</th>\n",
       "      <td>Eastern Metropolitan</td>\n",
       "      <td>Bulleen</td>\n",
       "      <td>4.0</td>\n",
       "    </tr>\n",
       "    <tr>\n",
       "      <th>2</th>\n",
       "      <td>Eastern Metropolitan</td>\n",
       "      <td>Doncaster</td>\n",
       "      <td>3.0</td>\n",
       "    </tr>\n",
       "    <tr>\n",
       "      <th>3</th>\n",
       "      <td>Eastern Metropolitan</td>\n",
       "      <td>Doncaster East</td>\n",
       "      <td>3.0</td>\n",
       "    </tr>\n",
       "    <tr>\n",
       "      <th>4</th>\n",
       "      <td>Eastern Metropolitan</td>\n",
       "      <td>Forest Hill</td>\n",
       "      <td>3.0</td>\n",
       "    </tr>\n",
       "    <tr>\n",
       "      <th>...</th>\n",
       "      <td>...</td>\n",
       "      <td>...</td>\n",
       "      <td>...</td>\n",
       "    </tr>\n",
       "    <tr>\n",
       "      <th>96</th>\n",
       "      <td>Western Metropolitan</td>\n",
       "      <td>Taylors Hill</td>\n",
       "      <td>3.0</td>\n",
       "    </tr>\n",
       "    <tr>\n",
       "      <th>97</th>\n",
       "      <td>Western Metropolitan</td>\n",
       "      <td>West Footscray</td>\n",
       "      <td>3.0</td>\n",
       "    </tr>\n",
       "    <tr>\n",
       "      <th>98</th>\n",
       "      <td>Western Metropolitan</td>\n",
       "      <td>Williams Landing</td>\n",
       "      <td>4.0</td>\n",
       "    </tr>\n",
       "    <tr>\n",
       "      <th>99</th>\n",
       "      <td>Western Metropolitan</td>\n",
       "      <td>Williamstown</td>\n",
       "      <td>4.0</td>\n",
       "    </tr>\n",
       "    <tr>\n",
       "      <th>100</th>\n",
       "      <td>Western Metropolitan</td>\n",
       "      <td>Yarraville</td>\n",
       "      <td>2.0</td>\n",
       "    </tr>\n",
       "  </tbody>\n",
       "</table>\n",
       "<p>101 rows × 3 columns</p>\n",
       "</div>"
      ],
      "text/plain": [
       "               Regionname            Suburb  Rooms\n",
       "0    Eastern Metropolitan   Blackburn North    2.0\n",
       "1    Eastern Metropolitan           Bulleen    4.0\n",
       "2    Eastern Metropolitan         Doncaster    3.0\n",
       "3    Eastern Metropolitan    Doncaster East    3.0\n",
       "4    Eastern Metropolitan       Forest Hill    3.0\n",
       "..                    ...               ...    ...\n",
       "96   Western Metropolitan      Taylors Hill    3.0\n",
       "97   Western Metropolitan    West Footscray    3.0\n",
       "98   Western Metropolitan  Williams Landing    4.0\n",
       "99   Western Metropolitan      Williamstown    4.0\n",
       "100  Western Metropolitan        Yarraville    2.0\n",
       "\n",
       "[101 rows x 3 columns]"
      ]
     },
     "execution_count": 41,
     "metadata": {},
     "output_type": "execute_result"
    }
   ],
   "source": [
    "# What is the average number of rooms (bed and bath) per suburb\n",
    "avg_rooms_per_suburb = df_clean.groupby(['Regionname', 'Suburb'], as_index=False).Rooms.mean().round()\n",
    "avg_rooms_per_suburb"
   ]
  },
  {
   "cell_type": "code",
   "execution_count": 42,
   "id": "0324b0b3",
   "metadata": {},
   "outputs": [
    {
     "data": {
      "text/plain": [
       "<AxesSubplot:xlabel='Rooms', ylabel='Regionname'>"
      ]
     },
     "execution_count": 42,
     "metadata": {},
     "output_type": "execute_result"
    },
    {
     "data": {
      "image/png": "[encoded data removed]",
      "text/plain": [
       "<Figure size 432x288 with 1 Axes>"
      ]
     },
     "metadata": {
      "needs_background": "light"
     },
     "output_type": "display_data"
    }
   ],
   "source": [
    "sns.barplot(data=avg_rooms_per_suburb, y='Regionname', x='Rooms', ci=False)"
   ]
  },
  {
   "cell_type": "code",
   "execution_count": 51,
   "id": "22fc6809",
   "metadata": {},
   "outputs": [
    {
     "data": {
      "text/html": [
       "<div>\n",
       "<style scoped>\n",
       "    .dataframe tbody tr th:only-of-type {\n",
       "        vertical-align: middle;\n",
       "    }\n",
       "\n",
       "    .dataframe tbody tr th {\n",
       "        vertical-align: top;\n",
       "    }\n",
       "\n",
       "    .dataframe thead th {\n",
       "        text-align: right;\n",
       "    }\n",
       "</style>\n",
       "<table border=\"1\" class=\"dataframe\">\n",
       "  <thead>\n",
       "    <tr style=\"text-align: right;\">\n",
       "      <th></th>\n",
       "      <th>Regionname</th>\n",
       "      <th>Bedroom2</th>\n",
       "    </tr>\n",
       "  </thead>\n",
       "  <tbody>\n",
       "    <tr>\n",
       "      <th>0</th>\n",
       "      <td>Eastern Metropolitan</td>\n",
       "      <td>2.0</td>\n",
       "    </tr>\n",
       "    <tr>\n",
       "      <th>1</th>\n",
       "      <td>Eastern Metropolitan</td>\n",
       "      <td>3.0</td>\n",
       "    </tr>\n",
       "    <tr>\n",
       "      <th>2</th>\n",
       "      <td>Eastern Metropolitan</td>\n",
       "      <td>4.0</td>\n",
       "    </tr>\n",
       "    <tr>\n",
       "      <th>3</th>\n",
       "      <td>Eastern Victoria</td>\n",
       "      <td>4.0</td>\n",
       "    </tr>\n",
       "    <tr>\n",
       "      <th>4</th>\n",
       "      <td>Northern Metropolitan</td>\n",
       "      <td>1.0</td>\n",
       "    </tr>\n",
       "    <tr>\n",
       "      <th>5</th>\n",
       "      <td>Northern Metropolitan</td>\n",
       "      <td>2.0</td>\n",
       "    </tr>\n",
       "    <tr>\n",
       "      <th>6</th>\n",
       "      <td>Northern Metropolitan</td>\n",
       "      <td>3.0</td>\n",
       "    </tr>\n",
       "    <tr>\n",
       "      <th>7</th>\n",
       "      <td>Northern Metropolitan</td>\n",
       "      <td>4.0</td>\n",
       "    </tr>\n",
       "    <tr>\n",
       "      <th>8</th>\n",
       "      <td>Northern Victoria</td>\n",
       "      <td>5.0</td>\n",
       "    </tr>\n",
       "    <tr>\n",
       "      <th>9</th>\n",
       "      <td>South-Eastern Metropolitan</td>\n",
       "      <td>1.0</td>\n",
       "    </tr>\n",
       "    <tr>\n",
       "      <th>10</th>\n",
       "      <td>South-Eastern Metropolitan</td>\n",
       "      <td>2.0</td>\n",
       "    </tr>\n",
       "    <tr>\n",
       "      <th>11</th>\n",
       "      <td>South-Eastern Metropolitan</td>\n",
       "      <td>3.0</td>\n",
       "    </tr>\n",
       "    <tr>\n",
       "      <th>12</th>\n",
       "      <td>South-Eastern Metropolitan</td>\n",
       "      <td>4.0</td>\n",
       "    </tr>\n",
       "    <tr>\n",
       "      <th>13</th>\n",
       "      <td>Southern Metropolitan</td>\n",
       "      <td>1.0</td>\n",
       "    </tr>\n",
       "    <tr>\n",
       "      <th>14</th>\n",
       "      <td>Southern Metropolitan</td>\n",
       "      <td>2.0</td>\n",
       "    </tr>\n",
       "    <tr>\n",
       "      <th>15</th>\n",
       "      <td>Southern Metropolitan</td>\n",
       "      <td>3.0</td>\n",
       "    </tr>\n",
       "    <tr>\n",
       "      <th>16</th>\n",
       "      <td>Southern Metropolitan</td>\n",
       "      <td>4.0</td>\n",
       "    </tr>\n",
       "    <tr>\n",
       "      <th>17</th>\n",
       "      <td>Southern Metropolitan</td>\n",
       "      <td>5.0</td>\n",
       "    </tr>\n",
       "    <tr>\n",
       "      <th>18</th>\n",
       "      <td>Western Metropolitan</td>\n",
       "      <td>1.0</td>\n",
       "    </tr>\n",
       "    <tr>\n",
       "      <th>19</th>\n",
       "      <td>Western Metropolitan</td>\n",
       "      <td>2.0</td>\n",
       "    </tr>\n",
       "    <tr>\n",
       "      <th>20</th>\n",
       "      <td>Western Metropolitan</td>\n",
       "      <td>3.0</td>\n",
       "    </tr>\n",
       "    <tr>\n",
       "      <th>21</th>\n",
       "      <td>Western Metropolitan</td>\n",
       "      <td>4.0</td>\n",
       "    </tr>\n",
       "    <tr>\n",
       "      <th>22</th>\n",
       "      <td>Western Metropolitan</td>\n",
       "      <td>5.0</td>\n",
       "    </tr>\n",
       "  </tbody>\n",
       "</table>\n",
       "</div>"
      ],
      "text/plain": [
       "                    Regionname  Bedroom2\n",
       "0         Eastern Metropolitan       2.0\n",
       "1         Eastern Metropolitan       3.0\n",
       "2         Eastern Metropolitan       4.0\n",
       "3             Eastern Victoria       4.0\n",
       "4        Northern Metropolitan       1.0\n",
       "5        Northern Metropolitan       2.0\n",
       "6        Northern Metropolitan       3.0\n",
       "7        Northern Metropolitan       4.0\n",
       "8            Northern Victoria       5.0\n",
       "9   South-Eastern Metropolitan       1.0\n",
       "10  South-Eastern Metropolitan       2.0\n",
       "11  South-Eastern Metropolitan       3.0\n",
       "12  South-Eastern Metropolitan       4.0\n",
       "13       Southern Metropolitan       1.0\n",
       "14       Southern Metropolitan       2.0\n",
       "15       Southern Metropolitan       3.0\n",
       "16       Southern Metropolitan       4.0\n",
       "17       Southern Metropolitan       5.0\n",
       "18        Western Metropolitan       1.0\n",
       "19        Western Metropolitan       2.0\n",
       "20        Western Metropolitan       3.0\n",
       "21        Western Metropolitan       4.0\n",
       "22        Western Metropolitan       5.0"
      ]
     },
     "execution_count": 51,
     "metadata": {},
     "output_type": "execute_result"
    }
   ],
   "source": [
    "# What is the average number of bedrooms per suburb?\n",
    "avg_bedroom_per_suburb = df_clean.groupby(['Regionname', 'Bedroom2'], as_index=False)['Bedroom2'].mean().round()\n",
    "avg_bedroom_per_suburb"
   ]
  },
  {
   "cell_type": "code",
   "execution_count": 59,
   "id": "5fce1265",
   "metadata": {},
   "outputs": [
    {
     "data": {
      "text/plain": [
       "<AxesSubplot:xlabel='Bedroom2', ylabel='Regionname'>"
      ]
     },
     "execution_count": 59,
     "metadata": {},
     "output_type": "execute_result"
    },
    {
     "data": {
      "image/png": "[encoded data removed]",
      "text/plain": [
       "<Figure size 432x288 with 1 Axes>"
      ]
     },
     "metadata": {
      "needs_background": "light"
     },
     "output_type": "display_data"
    }
   ],
   "source": [
    "sns.barplot(data=df_clean, y='Regionname', x='Bedroom2', ci=False)"
   ]
  },
  {
   "cell_type": "code",
   "execution_count": 44,
   "id": "5808c5e8",
   "metadata": {},
   "outputs": [
    {
     "data": {
      "text/html": [
       "<div>\n",
       "<style scoped>\n",
       "    .dataframe tbody tr th:only-of-type {\n",
       "        vertical-align: middle;\n",
       "    }\n",
       "\n",
       "    .dataframe tbody tr th {\n",
       "        vertical-align: top;\n",
       "    }\n",
       "\n",
       "    .dataframe thead th {\n",
       "        text-align: right;\n",
       "    }\n",
       "</style>\n",
       "<table border=\"1\" class=\"dataframe\">\n",
       "  <thead>\n",
       "    <tr style=\"text-align: right;\">\n",
       "      <th></th>\n",
       "      <th>Regionname</th>\n",
       "      <th>Suburb</th>\n",
       "      <th>Bathroom</th>\n",
       "    </tr>\n",
       "  </thead>\n",
       "  <tbody>\n",
       "    <tr>\n",
       "      <th>0</th>\n",
       "      <td>Eastern Metropolitan</td>\n",
       "      <td>Blackburn North</td>\n",
       "      <td>1.0</td>\n",
       "    </tr>\n",
       "    <tr>\n",
       "      <th>1</th>\n",
       "      <td>Eastern Metropolitan</td>\n",
       "      <td>Bulleen</td>\n",
       "      <td>1.0</td>\n",
       "    </tr>\n",
       "    <tr>\n",
       "      <th>2</th>\n",
       "      <td>Eastern Metropolitan</td>\n",
       "      <td>Doncaster</td>\n",
       "      <td>1.0</td>\n",
       "    </tr>\n",
       "    <tr>\n",
       "      <th>3</th>\n",
       "      <td>Eastern Metropolitan</td>\n",
       "      <td>Doncaster East</td>\n",
       "      <td>2.0</td>\n",
       "    </tr>\n",
       "    <tr>\n",
       "      <th>4</th>\n",
       "      <td>Eastern Metropolitan</td>\n",
       "      <td>Forest Hill</td>\n",
       "      <td>2.0</td>\n",
       "    </tr>\n",
       "    <tr>\n",
       "      <th>...</th>\n",
       "      <td>...</td>\n",
       "      <td>...</td>\n",
       "      <td>...</td>\n",
       "    </tr>\n",
       "    <tr>\n",
       "      <th>96</th>\n",
       "      <td>Western Metropolitan</td>\n",
       "      <td>Taylors Hill</td>\n",
       "      <td>2.0</td>\n",
       "    </tr>\n",
       "    <tr>\n",
       "      <th>97</th>\n",
       "      <td>Western Metropolitan</td>\n",
       "      <td>West Footscray</td>\n",
       "      <td>2.0</td>\n",
       "    </tr>\n",
       "    <tr>\n",
       "      <th>98</th>\n",
       "      <td>Western Metropolitan</td>\n",
       "      <td>Williams Landing</td>\n",
       "      <td>2.0</td>\n",
       "    </tr>\n",
       "    <tr>\n",
       "      <th>99</th>\n",
       "      <td>Western Metropolitan</td>\n",
       "      <td>Williamstown</td>\n",
       "      <td>2.0</td>\n",
       "    </tr>\n",
       "    <tr>\n",
       "      <th>100</th>\n",
       "      <td>Western Metropolitan</td>\n",
       "      <td>Yarraville</td>\n",
       "      <td>2.0</td>\n",
       "    </tr>\n",
       "  </tbody>\n",
       "</table>\n",
       "<p>101 rows × 3 columns</p>\n",
       "</div>"
      ],
      "text/plain": [
       "               Regionname            Suburb  Bathroom\n",
       "0    Eastern Metropolitan   Blackburn North       1.0\n",
       "1    Eastern Metropolitan           Bulleen       1.0\n",
       "2    Eastern Metropolitan         Doncaster       1.0\n",
       "3    Eastern Metropolitan    Doncaster East       2.0\n",
       "4    Eastern Metropolitan       Forest Hill       2.0\n",
       "..                    ...               ...       ...\n",
       "96   Western Metropolitan      Taylors Hill       2.0\n",
       "97   Western Metropolitan    West Footscray       2.0\n",
       "98   Western Metropolitan  Williams Landing       2.0\n",
       "99   Western Metropolitan      Williamstown       2.0\n",
       "100  Western Metropolitan        Yarraville       2.0\n",
       "\n",
       "[101 rows x 3 columns]"
      ]
     },
     "execution_count": 44,
     "metadata": {},
     "output_type": "execute_result"
    }
   ],
   "source": [
    "# What is the average number of bathrooms per suburb?\n",
    "avg_bathroom_per_suburb = df_clean.groupby(['Regionname', 'Suburb'], as_index=False).Bathroom.mean().round()\n",
    "avg_bathroom_per_suburb"
   ]
  },
  {
   "cell_type": "code",
   "execution_count": 58,
   "id": "b6280215",
   "metadata": {},
   "outputs": [
    {
     "data": {
      "text/plain": [
       "<AxesSubplot:xlabel='Bathroom', ylabel='Regionname'>"
      ]
     },
     "execution_count": 58,
     "metadata": {},
     "output_type": "execute_result"
    },
    {
     "data": {
      "image/png": "[encoded data removed]",
      "text/plain": [
       "<Figure size 432x288 with 1 Axes>"
      ]
     },
     "metadata": {
      "needs_background": "light"
     },
     "output_type": "display_data"
    }
   ],
   "source": [
    "sns.barplot(data=df_clean, y='Regionname', x='Bathroom', ci=False)"
   ]
  },
  {
   "cell_type": "code",
   "execution_count": 60,
   "id": "baf2e742",
   "metadata": {},
   "outputs": [
    {
     "data": {
      "text/plain": [
       "<AxesSubplot:xlabel='Car', ylabel='Regionname'>"
      ]
     },
     "execution_count": 60,
     "metadata": {},
     "output_type": "execute_result"
    },
    {
     "data": {
      "image/png": "[encoded data removed]",
      "text/plain": [
       "<Figure size 432x288 with 1 Axes>"
      ]
     },
     "metadata": {
      "needs_background": "light"
     },
     "output_type": "display_data"
    }
   ],
   "source": [
    "# Average number of car spots for each region\n",
    "sns.barplot(data=df_clean, y='Regionname', x='Car', ci=False)"
   ]
  },
  {
   "cell_type": "markdown",
   "id": "554a09e6",
   "metadata": {},
   "source": [
    "## Conclusion\n",
    "\n",
    "- The average housing price in Melbourne is \\\\$1.13 million\n",
    "- 75\\% of housing costs above \\\\$750,000\n",
    "- Housing 20km and less from the CBD costs can range between \\\\$500,000 to 2.5 million\n",
    "- The most expensive region of Melbourne is Southern Metropolitan with an average price of \\\\$1.43 million\n",
    "- The least expensive region is Eastern Victoria with an average price of \\\\$430,000\n",
    "- Region Housing Price rankings:\n",
    "    1. Southern Metropolitan - \\\\$1.43 million\n",
    "    2. Northern Victoria - \\\\$1.36 million\n",
    "    3. Northern Metropolitan - \\\\$1.08 million\n",
    "    4. Eastern Metropolitan - \\\\$940,000\n",
    "    5. South-Eastern Metropolitan - \\\\$746,000\n",
    "    6. Western Metropolitan  - \\\\$738,000\n",
    "    7. Eastern Victoria -\\\\$430,000\n"
   ]
  }
 ],
 "metadata": {
  "kernelspec": {
   "display_name": "Python 3 (ipykernel)",
   "language": "python",
   "name": "python3"
  },
  "language_info": {
   "codemirror_mode": {
    "name": "ipython",
    "version": 3
   },
   "file_extension": ".py",
   "mimetype": "text/x-python",
   "name": "python",
   "nbconvert_exporter": "python",
   "pygments_lexer": "ipython3",
   "version": "3.9.12"
  }
 },
 "nbformat": 4,
 "nbformat_minor": 5
}
