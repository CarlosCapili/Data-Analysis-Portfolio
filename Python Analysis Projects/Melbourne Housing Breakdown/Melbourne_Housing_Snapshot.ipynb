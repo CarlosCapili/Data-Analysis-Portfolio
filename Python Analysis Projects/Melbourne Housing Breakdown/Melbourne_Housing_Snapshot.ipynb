{
 "cells": [
  {
   "cell_type": "markdown",
   "id": "c863ede0",
   "metadata": {},
   "source": [
    "# Melbourne Housing Snapshot\n",
    "\n",
    "The purpose of this is to perform exploratory data analysis on the Melbourne Housing dataset and to see how expensive housing is.\n"
   ]
  },
  {
   "cell_type": "code",
   "execution_count": 1,
   "id": "4202297b",
   "metadata": {},
   "outputs": [],
   "source": [
    "import pandas as pd\n",
    "import seaborn as sns\n",
    "import matplotlib.pyplot as plt"
   ]
  },
  {
   "cell_type": "code",
   "execution_count": 2,
   "id": "ca901bcc",
   "metadata": {},
   "outputs": [],
   "source": [
    "path = r'C:\\Users\\Mouth\\Documents\\Datasets\\Local Projects\\Melbourne_Housing\\melb_data.csv'\n",
    "df = pd.read_csv(path)"
   ]
  },
  {
   "cell_type": "code",
   "execution_count": 3,
   "id": "62136672",
   "metadata": {},
   "outputs": [
    {
     "data": {
      "text/html": [
       "<div>\n",
       "<style scoped>\n",
       "    .dataframe tbody tr th:only-of-type {\n",
       "        vertical-align: middle;\n",
       "    }\n",
       "\n",
       "    .dataframe tbody tr th {\n",
       "        vertical-align: top;\n",
       "    }\n",
       "\n",
       "    .dataframe thead th {\n",
       "        text-align: right;\n",
       "    }\n",
       "</style>\n",
       "<table border=\"1\" class=\"dataframe\">\n",
       "  <thead>\n",
       "    <tr style=\"text-align: right;\">\n",
       "      <th></th>\n",
       "      <th>Suburb</th>\n",
       "      <th>Address</th>\n",
       "      <th>Rooms</th>\n",
       "      <th>Type</th>\n",
       "      <th>Price</th>\n",
       "      <th>Method</th>\n",
       "      <th>SellerG</th>\n",
       "      <th>Date</th>\n",
       "      <th>Distance</th>\n",
       "      <th>Postcode</th>\n",
       "      <th>...</th>\n",
       "      <th>Bathroom</th>\n",
       "      <th>Car</th>\n",
       "      <th>Landsize</th>\n",
       "      <th>BuildingArea</th>\n",
       "      <th>YearBuilt</th>\n",
       "      <th>CouncilArea</th>\n",
       "      <th>Lattitude</th>\n",
       "      <th>Longtitude</th>\n",
       "      <th>Regionname</th>\n",
       "      <th>Propertycount</th>\n",
       "    </tr>\n",
       "  </thead>\n",
       "  <tbody>\n",
       "    <tr>\n",
       "      <th>0</th>\n",
       "      <td>Abbotsford</td>\n",
       "      <td>85 Turner St</td>\n",
       "      <td>2</td>\n",
       "      <td>h</td>\n",
       "      <td>1480000.0</td>\n",
       "      <td>S</td>\n",
       "      <td>Biggin</td>\n",
       "      <td>3/12/2016</td>\n",
       "      <td>2.5</td>\n",
       "      <td>3067.0</td>\n",
       "      <td>...</td>\n",
       "      <td>1.0</td>\n",
       "      <td>1.0</td>\n",
       "      <td>202.0</td>\n",
       "      <td>NaN</td>\n",
       "      <td>NaN</td>\n",
       "      <td>Yarra</td>\n",
       "      <td>-37.7996</td>\n",
       "      <td>144.9984</td>\n",
       "      <td>Northern Metropolitan</td>\n",
       "      <td>4019.0</td>\n",
       "    </tr>\n",
       "    <tr>\n",
       "      <th>1</th>\n",
       "      <td>Abbotsford</td>\n",
       "      <td>25 Bloomburg St</td>\n",
       "      <td>2</td>\n",
       "      <td>h</td>\n",
       "      <td>1035000.0</td>\n",
       "      <td>S</td>\n",
       "      <td>Biggin</td>\n",
       "      <td>4/02/2016</td>\n",
       "      <td>2.5</td>\n",
       "      <td>3067.0</td>\n",
       "      <td>...</td>\n",
       "      <td>1.0</td>\n",
       "      <td>0.0</td>\n",
       "      <td>156.0</td>\n",
       "      <td>79.0</td>\n",
       "      <td>1900.0</td>\n",
       "      <td>Yarra</td>\n",
       "      <td>-37.8079</td>\n",
       "      <td>144.9934</td>\n",
       "      <td>Northern Metropolitan</td>\n",
       "      <td>4019.0</td>\n",
       "    </tr>\n",
       "    <tr>\n",
       "      <th>2</th>\n",
       "      <td>Abbotsford</td>\n",
       "      <td>5 Charles St</td>\n",
       "      <td>3</td>\n",
       "      <td>h</td>\n",
       "      <td>1465000.0</td>\n",
       "      <td>SP</td>\n",
       "      <td>Biggin</td>\n",
       "      <td>4/03/2017</td>\n",
       "      <td>2.5</td>\n",
       "      <td>3067.0</td>\n",
       "      <td>...</td>\n",
       "      <td>2.0</td>\n",
       "      <td>0.0</td>\n",
       "      <td>134.0</td>\n",
       "      <td>150.0</td>\n",
       "      <td>1900.0</td>\n",
       "      <td>Yarra</td>\n",
       "      <td>-37.8093</td>\n",
       "      <td>144.9944</td>\n",
       "      <td>Northern Metropolitan</td>\n",
       "      <td>4019.0</td>\n",
       "    </tr>\n",
       "    <tr>\n",
       "      <th>3</th>\n",
       "      <td>Abbotsford</td>\n",
       "      <td>40 Federation La</td>\n",
       "      <td>3</td>\n",
       "      <td>h</td>\n",
       "      <td>850000.0</td>\n",
       "      <td>PI</td>\n",
       "      <td>Biggin</td>\n",
       "      <td>4/03/2017</td>\n",
       "      <td>2.5</td>\n",
       "      <td>3067.0</td>\n",
       "      <td>...</td>\n",
       "      <td>2.0</td>\n",
       "      <td>1.0</td>\n",
       "      <td>94.0</td>\n",
       "      <td>NaN</td>\n",
       "      <td>NaN</td>\n",
       "      <td>Yarra</td>\n",
       "      <td>-37.7969</td>\n",
       "      <td>144.9969</td>\n",
       "      <td>Northern Metropolitan</td>\n",
       "      <td>4019.0</td>\n",
       "    </tr>\n",
       "    <tr>\n",
       "      <th>4</th>\n",
       "      <td>Abbotsford</td>\n",
       "      <td>55a Park St</td>\n",
       "      <td>4</td>\n",
       "      <td>h</td>\n",
       "      <td>1600000.0</td>\n",
       "      <td>VB</td>\n",
       "      <td>Nelson</td>\n",
       "      <td>4/06/2016</td>\n",
       "      <td>2.5</td>\n",
       "      <td>3067.0</td>\n",
       "      <td>...</td>\n",
       "      <td>1.0</td>\n",
       "      <td>2.0</td>\n",
       "      <td>120.0</td>\n",
       "      <td>142.0</td>\n",
       "      <td>2014.0</td>\n",
       "      <td>Yarra</td>\n",
       "      <td>-37.8072</td>\n",
       "      <td>144.9941</td>\n",
       "      <td>Northern Metropolitan</td>\n",
       "      <td>4019.0</td>\n",
       "    </tr>\n",
       "  </tbody>\n",
       "</table>\n",
       "<p>5 rows × 21 columns</p>\n",
       "</div>"
      ],
      "text/plain": [
       "       Suburb           Address  Rooms Type      Price Method SellerG  \\\n",
       "0  Abbotsford      85 Turner St      2    h  1480000.0      S  Biggin   \n",
       "1  Abbotsford   25 Bloomburg St      2    h  1035000.0      S  Biggin   \n",
       "2  Abbotsford      5 Charles St      3    h  1465000.0     SP  Biggin   \n",
       "3  Abbotsford  40 Federation La      3    h   850000.0     PI  Biggin   \n",
       "4  Abbotsford       55a Park St      4    h  1600000.0     VB  Nelson   \n",
       "\n",
       "        Date  Distance  Postcode  ...  Bathroom  Car  Landsize  BuildingArea  \\\n",
       "0  3/12/2016       2.5    3067.0  ...       1.0  1.0     202.0           NaN   \n",
       "1  4/02/2016       2.5    3067.0  ...       1.0  0.0     156.0          79.0   \n",
       "2  4/03/2017       2.5    3067.0  ...       2.0  0.0     134.0         150.0   \n",
       "3  4/03/2017       2.5    3067.0  ...       2.0  1.0      94.0           NaN   \n",
       "4  4/06/2016       2.5    3067.0  ...       1.0  2.0     120.0         142.0   \n",
       "\n",
       "   YearBuilt  CouncilArea Lattitude  Longtitude             Regionname  \\\n",
       "0        NaN        Yarra  -37.7996    144.9984  Northern Metropolitan   \n",
       "1     1900.0        Yarra  -37.8079    144.9934  Northern Metropolitan   \n",
       "2     1900.0        Yarra  -37.8093    144.9944  Northern Metropolitan   \n",
       "3        NaN        Yarra  -37.7969    144.9969  Northern Metropolitan   \n",
       "4     2014.0        Yarra  -37.8072    144.9941  Northern Metropolitan   \n",
       "\n",
       "  Propertycount  \n",
       "0        4019.0  \n",
       "1        4019.0  \n",
       "2        4019.0  \n",
       "3        4019.0  \n",
       "4        4019.0  \n",
       "\n",
       "[5 rows x 21 columns]"
      ]
     },
     "execution_count": 3,
     "metadata": {},
     "output_type": "execute_result"
    }
   ],
   "source": [
    "df.head()"
   ]
  },
  {
   "cell_type": "code",
   "execution_count": 4,
   "id": "3f457148",
   "metadata": {},
   "outputs": [
    {
     "data": {
      "text/html": [
       "<div>\n",
       "<style scoped>\n",
       "    .dataframe tbody tr th:only-of-type {\n",
       "        vertical-align: middle;\n",
       "    }\n",
       "\n",
       "    .dataframe tbody tr th {\n",
       "        vertical-align: top;\n",
       "    }\n",
       "\n",
       "    .dataframe thead th {\n",
       "        text-align: right;\n",
       "    }\n",
       "</style>\n",
       "<table border=\"1\" class=\"dataframe\">\n",
       "  <thead>\n",
       "    <tr style=\"text-align: right;\">\n",
       "      <th></th>\n",
       "      <th>Suburb</th>\n",
       "      <th>Address</th>\n",
       "      <th>Rooms</th>\n",
       "      <th>Type</th>\n",
       "      <th>Price</th>\n",
       "      <th>Method</th>\n",
       "      <th>SellerG</th>\n",
       "      <th>Date</th>\n",
       "      <th>Distance</th>\n",
       "      <th>Postcode</th>\n",
       "    </tr>\n",
       "  </thead>\n",
       "  <tbody>\n",
       "    <tr>\n",
       "      <th>0</th>\n",
       "      <td>Abbotsford</td>\n",
       "      <td>85 Turner St</td>\n",
       "      <td>2</td>\n",
       "      <td>h</td>\n",
       "      <td>1480000.0</td>\n",
       "      <td>S</td>\n",
       "      <td>Biggin</td>\n",
       "      <td>3/12/2016</td>\n",
       "      <td>2.5</td>\n",
       "      <td>3067.0</td>\n",
       "    </tr>\n",
       "    <tr>\n",
       "      <th>1</th>\n",
       "      <td>Abbotsford</td>\n",
       "      <td>25 Bloomburg St</td>\n",
       "      <td>2</td>\n",
       "      <td>h</td>\n",
       "      <td>1035000.0</td>\n",
       "      <td>S</td>\n",
       "      <td>Biggin</td>\n",
       "      <td>4/02/2016</td>\n",
       "      <td>2.5</td>\n",
       "      <td>3067.0</td>\n",
       "    </tr>\n",
       "    <tr>\n",
       "      <th>2</th>\n",
       "      <td>Abbotsford</td>\n",
       "      <td>5 Charles St</td>\n",
       "      <td>3</td>\n",
       "      <td>h</td>\n",
       "      <td>1465000.0</td>\n",
       "      <td>SP</td>\n",
       "      <td>Biggin</td>\n",
       "      <td>4/03/2017</td>\n",
       "      <td>2.5</td>\n",
       "      <td>3067.0</td>\n",
       "    </tr>\n",
       "    <tr>\n",
       "      <th>3</th>\n",
       "      <td>Abbotsford</td>\n",
       "      <td>40 Federation La</td>\n",
       "      <td>3</td>\n",
       "      <td>h</td>\n",
       "      <td>850000.0</td>\n",
       "      <td>PI</td>\n",
       "      <td>Biggin</td>\n",
       "      <td>4/03/2017</td>\n",
       "      <td>2.5</td>\n",
       "      <td>3067.0</td>\n",
       "    </tr>\n",
       "    <tr>\n",
       "      <th>4</th>\n",
       "      <td>Abbotsford</td>\n",
       "      <td>55a Park St</td>\n",
       "      <td>4</td>\n",
       "      <td>h</td>\n",
       "      <td>1600000.0</td>\n",
       "      <td>VB</td>\n",
       "      <td>Nelson</td>\n",
       "      <td>4/06/2016</td>\n",
       "      <td>2.5</td>\n",
       "      <td>3067.0</td>\n",
       "    </tr>\n",
       "  </tbody>\n",
       "</table>\n",
       "</div>"
      ],
      "text/plain": [
       "       Suburb           Address  Rooms Type      Price Method SellerG  \\\n",
       "0  Abbotsford      85 Turner St      2    h  1480000.0      S  Biggin   \n",
       "1  Abbotsford   25 Bloomburg St      2    h  1035000.0      S  Biggin   \n",
       "2  Abbotsford      5 Charles St      3    h  1465000.0     SP  Biggin   \n",
       "3  Abbotsford  40 Federation La      3    h   850000.0     PI  Biggin   \n",
       "4  Abbotsford       55a Park St      4    h  1600000.0     VB  Nelson   \n",
       "\n",
       "        Date  Distance  Postcode  \n",
       "0  3/12/2016       2.5    3067.0  \n",
       "1  4/02/2016       2.5    3067.0  \n",
       "2  4/03/2017       2.5    3067.0  \n",
       "3  4/03/2017       2.5    3067.0  \n",
       "4  4/06/2016       2.5    3067.0  "
      ]
     },
     "execution_count": 4,
     "metadata": {},
     "output_type": "execute_result"
    }
   ],
   "source": [
    "df.iloc[:, 0:10].head()"
   ]
  },
  {
   "cell_type": "code",
   "execution_count": 5,
   "id": "cda72f64",
   "metadata": {},
   "outputs": [
    {
     "data": {
      "text/html": [
       "<div>\n",
       "<style scoped>\n",
       "    .dataframe tbody tr th:only-of-type {\n",
       "        vertical-align: middle;\n",
       "    }\n",
       "\n",
       "    .dataframe tbody tr th {\n",
       "        vertical-align: top;\n",
       "    }\n",
       "\n",
       "    .dataframe thead th {\n",
       "        text-align: right;\n",
       "    }\n",
       "</style>\n",
       "<table border=\"1\" class=\"dataframe\">\n",
       "  <thead>\n",
       "    <tr style=\"text-align: right;\">\n",
       "      <th></th>\n",
       "      <th>Bedroom2</th>\n",
       "      <th>Bathroom</th>\n",
       "      <th>Car</th>\n",
       "      <th>Landsize</th>\n",
       "      <th>BuildingArea</th>\n",
       "      <th>YearBuilt</th>\n",
       "      <th>CouncilArea</th>\n",
       "      <th>Lattitude</th>\n",
       "      <th>Longtitude</th>\n",
       "      <th>Regionname</th>\n",
       "      <th>Propertycount</th>\n",
       "    </tr>\n",
       "  </thead>\n",
       "  <tbody>\n",
       "    <tr>\n",
       "      <th>0</th>\n",
       "      <td>2.0</td>\n",
       "      <td>1.0</td>\n",
       "      <td>1.0</td>\n",
       "      <td>202.0</td>\n",
       "      <td>NaN</td>\n",
       "      <td>NaN</td>\n",
       "      <td>Yarra</td>\n",
       "      <td>-37.7996</td>\n",
       "      <td>144.9984</td>\n",
       "      <td>Northern Metropolitan</td>\n",
       "      <td>4019.0</td>\n",
       "    </tr>\n",
       "    <tr>\n",
       "      <th>1</th>\n",
       "      <td>2.0</td>\n",
       "      <td>1.0</td>\n",
       "      <td>0.0</td>\n",
       "      <td>156.0</td>\n",
       "      <td>79.0</td>\n",
       "      <td>1900.0</td>\n",
       "      <td>Yarra</td>\n",
       "      <td>-37.8079</td>\n",
       "      <td>144.9934</td>\n",
       "      <td>Northern Metropolitan</td>\n",
       "      <td>4019.0</td>\n",
       "    </tr>\n",
       "    <tr>\n",
       "      <th>2</th>\n",
       "      <td>3.0</td>\n",
       "      <td>2.0</td>\n",
       "      <td>0.0</td>\n",
       "      <td>134.0</td>\n",
       "      <td>150.0</td>\n",
       "      <td>1900.0</td>\n",
       "      <td>Yarra</td>\n",
       "      <td>-37.8093</td>\n",
       "      <td>144.9944</td>\n",
       "      <td>Northern Metropolitan</td>\n",
       "      <td>4019.0</td>\n",
       "    </tr>\n",
       "    <tr>\n",
       "      <th>3</th>\n",
       "      <td>3.0</td>\n",
       "      <td>2.0</td>\n",
       "      <td>1.0</td>\n",
       "      <td>94.0</td>\n",
       "      <td>NaN</td>\n",
       "      <td>NaN</td>\n",
       "      <td>Yarra</td>\n",
       "      <td>-37.7969</td>\n",
       "      <td>144.9969</td>\n",
       "      <td>Northern Metropolitan</td>\n",
       "      <td>4019.0</td>\n",
       "    </tr>\n",
       "    <tr>\n",
       "      <th>4</th>\n",
       "      <td>3.0</td>\n",
       "      <td>1.0</td>\n",
       "      <td>2.0</td>\n",
       "      <td>120.0</td>\n",
       "      <td>142.0</td>\n",
       "      <td>2014.0</td>\n",
       "      <td>Yarra</td>\n",
       "      <td>-37.8072</td>\n",
       "      <td>144.9941</td>\n",
       "      <td>Northern Metropolitan</td>\n",
       "      <td>4019.0</td>\n",
       "    </tr>\n",
       "  </tbody>\n",
       "</table>\n",
       "</div>"
      ],
      "text/plain": [
       "   Bedroom2  Bathroom  Car  Landsize  BuildingArea  YearBuilt CouncilArea  \\\n",
       "0       2.0       1.0  1.0     202.0           NaN        NaN       Yarra   \n",
       "1       2.0       1.0  0.0     156.0          79.0     1900.0       Yarra   \n",
       "2       3.0       2.0  0.0     134.0         150.0     1900.0       Yarra   \n",
       "3       3.0       2.0  1.0      94.0           NaN        NaN       Yarra   \n",
       "4       3.0       1.0  2.0     120.0         142.0     2014.0       Yarra   \n",
       "\n",
       "   Lattitude  Longtitude             Regionname  Propertycount  \n",
       "0   -37.7996    144.9984  Northern Metropolitan         4019.0  \n",
       "1   -37.8079    144.9934  Northern Metropolitan         4019.0  \n",
       "2   -37.8093    144.9944  Northern Metropolitan         4019.0  \n",
       "3   -37.7969    144.9969  Northern Metropolitan         4019.0  \n",
       "4   -37.8072    144.9941  Northern Metropolitan         4019.0  "
      ]
     },
     "execution_count": 5,
     "metadata": {},
     "output_type": "execute_result"
    }
   ],
   "source": [
    "df.iloc[:, 10:].head()"
   ]
  },
  {
   "cell_type": "code",
   "execution_count": 6,
   "id": "8647b587",
   "metadata": {
    "scrolled": false
   },
   "outputs": [
    {
     "name": "stdout",
     "output_type": "stream",
     "text": [
      "<class 'pandas.core.frame.DataFrame'>\n",
      "RangeIndex: 13580 entries, 0 to 13579\n",
      "Data columns (total 21 columns):\n",
      " #   Column         Non-Null Count  Dtype  \n",
      "---  ------         --------------  -----  \n",
      " 0   Suburb         13580 non-null  object \n",
      " 1   Address        13580 non-null  object \n",
      " 2   Rooms          13580 non-null  int64  \n",
      " 3   Type           13580 non-null  object \n",
      " 4   Price          13580 non-null  float64\n",
      " 5   Method         13580 non-null  object \n",
      " 6   SellerG        13580 non-null  object \n",
      " 7   Date           13580 non-null  object \n",
      " 8   Distance       13580 non-null  float64\n",
      " 9   Postcode       13580 non-null  float64\n",
      " 10  Bedroom2       13580 non-null  float64\n",
      " 11  Bathroom       13580 non-null  float64\n",
      " 12  Car            13518 non-null  float64\n",
      " 13  Landsize       13580 non-null  float64\n",
      " 14  BuildingArea   7130 non-null   float64\n",
      " 15  YearBuilt      8205 non-null   float64\n",
      " 16  CouncilArea    12211 non-null  object \n",
      " 17  Lattitude      13580 non-null  float64\n",
      " 18  Longtitude     13580 non-null  float64\n",
      " 19  Regionname     13580 non-null  object \n",
      " 20  Propertycount  13580 non-null  float64\n",
      "dtypes: float64(12), int64(1), object(8)\n",
      "memory usage: 2.2+ MB\n"
     ]
    }
   ],
   "source": [
    "df.info()"
   ]
  },
  {
   "cell_type": "markdown",
   "id": "3f56042b",
   "metadata": {},
   "source": [
    "## Data Cleaning"
   ]
  },
  {
   "cell_type": "code",
   "execution_count": 7,
   "id": "3e2ef7d0",
   "metadata": {},
   "outputs": [],
   "source": [
    "# Drop unecessary columns\n",
    "df.drop(columns=[\n",
    "    'Method',\n",
    "    'SellerG',\n",
    "    'Date',\n",
    "    'Postcode',\n",
    "    'YearBuilt',\n",
    "    'CouncilArea',\n",
    "    'Propertycount',\n",
    "    'BuildingArea',\n",
    "    'Landsize'\n",
    "], inplace= True)"
   ]
  },
  {
   "cell_type": "code",
   "execution_count": 8,
   "id": "ddddd7f6",
   "metadata": {},
   "outputs": [],
   "source": [
    "# Rename columns\n",
    "df.rename(columns={\n",
    "    'Bedroom2': 'Bedrooms',\n",
    "    'Bathroom': 'Bathrooms',\n",
    "    'Car': 'Car Parks',\n",
    "    'Regionname': 'Region'\n",
    "}, inplace= True)"
   ]
  },
  {
   "cell_type": "code",
   "execution_count": 9,
   "id": "4e8f8e68",
   "metadata": {
    "scrolled": true
   },
   "outputs": [
    {
     "name": "stdout",
     "output_type": "stream",
     "text": [
      "Duplicates have been found!\n",
      "Duplicates Rows:\n",
      "                Suburb            Address  Rooms Type      Price  Distance  \\\n",
      "1344         Brunswick     8/2 Pottery Ct      3    t   641000.0       5.2   \n",
      "1584        Camberwell  3/220 Warrigal Rd      2    u   435000.0       7.8   \n",
      "2732         Footscray      4 Adelaide St      4    h  1225000.0       6.4   \n",
      "3658               Kew  2/27 Pakington St      2    u   610000.0       5.6   \n",
      "3710          Kew East      36 Belford Rd      4    h  1315000.0       7.5   \n",
      "4631       Pascoe Vale         2 Hazel Gr      2    h   915000.0       9.9   \n",
      "5136         Reservoir  2/102 Rathcown Rd      2    u   440000.0      11.2   \n",
      "5186         Reservoir     9/99 Barton St      2    u   335000.0      11.2   \n",
      "7770            Coburg     69 Victoria St      3    t   720000.0       7.8   \n",
      "8646        Kensington    33 McCracken St      4    h  1817000.0       4.2   \n",
      "9634      Moonee Ponds   36 Aberfeldie St      3    h  1850000.0       6.2   \n",
      "9994          Oak Park          79 New Rd      4    h  1071888.0      11.2   \n",
      "10004         Parkdale        22 Keith St      4    h  1300000.0      21.5   \n",
      "10028         Richmond    7/129 Hoddle St      2    u   890500.0       2.4   \n",
      "10663         Essendon   9/44 Fletcher St      1    u   310000.0       7.5   \n",
      "11321      Collingwood  6/13 Alexander St      1    u   365000.0       2.0   \n",
      "11932          Carlton   66 Palmerston St      3    h   920000.0       1.6   \n",
      "11951           Coburg       34 Soudan St      2    h   996000.0       6.7   \n",
      "12118      Pascoe Vale     16/43 Arndt Rd      2    u   541000.0       8.5   \n",
      "12730        Glen Iris    1/16 Osborne Av      2    t   965000.0       7.3   \n",
      "13429  Frankston South        3 Diosma Ct      3    h  1155000.0      38.0   \n",
      "\n",
      "       Bedrooms  Bathrooms  Car Parks  Lattitude  Longtitude  \\\n",
      "1344        3.0        2.0        1.0  -37.77030   144.95330   \n",
      "1584        2.0        1.0        1.0  -37.84790   145.09580   \n",
      "2732        4.0        2.0        1.0  -37.79430   144.88750   \n",
      "3658        2.0        1.0        1.0  -37.80240   145.03460   \n",
      "3710        4.0        2.0        2.0  -37.79810   145.04720   \n",
      "4631        2.0        1.0        3.0  -37.73120   144.93990   \n",
      "5136        2.0        1.0        2.0  -37.70900   145.02190   \n",
      "5186        2.0        1.0        1.0  -37.71120   144.99890   \n",
      "7770        3.0        2.0        2.0  -37.74240   144.95710   \n",
      "8646        4.0        2.0        1.0  -37.79100   144.92800   \n",
      "9634        3.0        2.0        2.0  -37.76086   144.90497   \n",
      "9994        4.0        2.0        4.0  -37.71328   144.90585   \n",
      "10004       4.0        2.0        2.0  -37.99232   145.08469   \n",
      "10028       2.0        2.0        2.0  -37.81443   144.99079   \n",
      "10663       1.0        1.0        1.0  -37.75515   144.92114   \n",
      "11321       1.0        1.0        0.0  -37.79597   144.99108   \n",
      "11932       3.0        1.0        0.0  -37.79633   144.97269   \n",
      "11951       2.0        1.0        1.0  -37.73883   144.95321   \n",
      "12118       2.0        1.0        1.0  -37.72136   144.92932   \n",
      "12730       2.0        2.0        1.0  -37.85698   145.04686   \n",
      "13429       3.0        2.0        2.0  -38.16457   145.12421   \n",
      "\n",
      "                           Region  \n",
      "1344        Northern Metropolitan  \n",
      "1584        Southern Metropolitan  \n",
      "2732         Western Metropolitan  \n",
      "3658        Southern Metropolitan  \n",
      "3710        Southern Metropolitan  \n",
      "4631        Northern Metropolitan  \n",
      "5136        Northern Metropolitan  \n",
      "5186        Northern Metropolitan  \n",
      "7770        Northern Metropolitan  \n",
      "8646        Northern Metropolitan  \n",
      "9634         Western Metropolitan  \n",
      "9994        Northern Metropolitan  \n",
      "10004  South-Eastern Metropolitan  \n",
      "10028       Northern Metropolitan  \n",
      "10663        Western Metropolitan  \n",
      "11321       Northern Metropolitan  \n",
      "11932       Northern Metropolitan  \n",
      "11951       Northern Metropolitan  \n",
      "12118       Northern Metropolitan  \n",
      "12730       Southern Metropolitan  \n",
      "13429  South-Eastern Metropolitan  \n"
     ]
    }
   ],
   "source": [
    "# Check for duplicate rows\n",
    "if df.duplicated().any():\n",
    "    print(\"Duplicates have been found!\")\n",
    "    # Show duplicate rows\n",
    "    duplicates = df[df.duplicated()]\n",
    "    print(\"Duplicates Rows:\")\n",
    "    print(duplicates)\n",
    "else:\n",
    "    print(\"No duplicates found!\")"
   ]
  },
  {
   "cell_type": "code",
   "execution_count": 10,
   "id": "b25d2fbc",
   "metadata": {},
   "outputs": [],
   "source": [
    "# Remove the duplicates\n",
    "df.drop_duplicates(inplace=True)"
   ]
  },
  {
   "cell_type": "code",
   "execution_count": 11,
   "id": "73c298df",
   "metadata": {
    "scrolled": true
   },
   "outputs": [
    {
     "name": "stdout",
     "output_type": "stream",
     "text": [
      "Missing Values Per Column:\n",
      "Car Parks     62\n",
      "Suburb         0\n",
      "Address        0\n",
      "Rooms          0\n",
      "Type           0\n",
      "Price          0\n",
      "Distance       0\n",
      "Bedrooms       0\n",
      "Bathrooms      0\n",
      "Lattitude      0\n",
      "Longtitude     0\n",
      "Region         0\n",
      "dtype: int64\n",
      "\n",
      "Percent Missing Per Column:\n",
      "Car Parks     0.46\n",
      "Suburb        0.00\n",
      "Address       0.00\n",
      "Rooms         0.00\n",
      "Type          0.00\n",
      "Price         0.00\n",
      "Distance      0.00\n",
      "Bedrooms      0.00\n",
      "Bathrooms     0.00\n",
      "Lattitude     0.00\n",
      "Longtitude    0.00\n",
      "Region        0.00\n",
      "dtype: float64\n"
     ]
    }
   ],
   "source": [
    "# Check for missing values\n",
    "missing_value_count = df.isna().sum()\n",
    "print(\"Missing Values Per Column:\")\n",
    "print(missing_value_count.sort_values(ascending=False))\n",
    "\n",
    "# Percentage of missing values\n",
    "percent_missing_col = round(missing_value_count.sort_values(ascending=False) / df.shape[0] * 100.0, 2)\n",
    "print(\"\\nPercent Missing Per Column:\")\n",
    "print(percent_missing_col)"
   ]
  },
  {
   "cell_type": "code",
   "execution_count": 12,
   "id": "8f8103f5",
   "metadata": {},
   "outputs": [],
   "source": [
    "# Drop rows where Car Parks are NaN\n",
    "df.drop(df[df['Car Parks'].isna()].index, inplace=True)"
   ]
  },
  {
   "cell_type": "code",
   "execution_count": 13,
   "id": "687a9350",
   "metadata": {},
   "outputs": [
    {
     "name": "stdout",
     "output_type": "stream",
     "text": [
      "<class 'pandas.core.frame.DataFrame'>\n",
      "Int64Index: 13497 entries, 0 to 13579\n",
      "Data columns (total 12 columns):\n",
      " #   Column      Non-Null Count  Dtype  \n",
      "---  ------      --------------  -----  \n",
      " 0   Suburb      13497 non-null  object \n",
      " 1   Address     13497 non-null  object \n",
      " 2   Rooms       13497 non-null  int64  \n",
      " 3   Type        13497 non-null  object \n",
      " 4   Price       13497 non-null  float64\n",
      " 5   Distance    13497 non-null  float64\n",
      " 6   Bedrooms    13497 non-null  float64\n",
      " 7   Bathrooms   13497 non-null  float64\n",
      " 8   Car Parks   13497 non-null  float64\n",
      " 9   Lattitude   13497 non-null  float64\n",
      " 10  Longtitude  13497 non-null  float64\n",
      " 11  Region      13497 non-null  object \n",
      "dtypes: float64(7), int64(1), object(4)\n",
      "memory usage: 1.3+ MB\n"
     ]
    }
   ],
   "source": [
    "# Check for correct data types\n",
    "df.info()"
   ]
  },
  {
   "cell_type": "code",
   "execution_count": 14,
   "id": "60015f21",
   "metadata": {},
   "outputs": [],
   "source": [
    "# Convert to columns to appropriate data types\n",
    "df = df.convert_dtypes()"
   ]
  },
  {
   "cell_type": "code",
   "execution_count": 15,
   "id": "2c36f721",
   "metadata": {},
   "outputs": [
    {
     "name": "stdout",
     "output_type": "stream",
     "text": [
      "<class 'pandas.core.frame.DataFrame'>\n",
      "Int64Index: 13497 entries, 0 to 13579\n",
      "Data columns (total 12 columns):\n",
      " #   Column      Non-Null Count  Dtype  \n",
      "---  ------      --------------  -----  \n",
      " 0   Suburb      13497 non-null  string \n",
      " 1   Address     13497 non-null  string \n",
      " 2   Rooms       13497 non-null  Int64  \n",
      " 3   Type        13497 non-null  string \n",
      " 4   Price       13497 non-null  Int64  \n",
      " 5   Distance    13497 non-null  Float64\n",
      " 6   Bedrooms    13497 non-null  Int64  \n",
      " 7   Bathrooms   13497 non-null  Int64  \n",
      " 8   Car Parks   13497 non-null  Int64  \n",
      " 9   Lattitude   13497 non-null  Float64\n",
      " 10  Longtitude  13497 non-null  Float64\n",
      " 11  Region      13497 non-null  string \n",
      "dtypes: Float64(3), Int64(5), string(4)\n",
      "memory usage: 1.4 MB\n"
     ]
    }
   ],
   "source": [
    "df.info()"
   ]
  },
  {
   "cell_type": "code",
   "execution_count": 16,
   "id": "27861f90",
   "metadata": {},
   "outputs": [],
   "source": [
    "# Check for consistent formatting in Suburb column\n",
    "df['Suburb'].unique().tolist()\n",
    "df['Suburb'] = df['Suburb'].apply(lambda x: x.strip())"
   ]
  },
  {
   "cell_type": "code",
   "execution_count": 17,
   "id": "1db73399",
   "metadata": {},
   "outputs": [],
   "source": [
    "# Check for consistent formatting in Address column\n",
    "df['Address'].unique().tolist()\n",
    "df['Address'] = df['Address'].apply(lambda x: x.strip())"
   ]
  },
  {
   "cell_type": "code",
   "execution_count": 18,
   "id": "f6289e66",
   "metadata": {},
   "outputs": [],
   "source": [
    "# Check for consistent formatting in Type column\n",
    "df['Type'].unique().tolist()\n",
    "df['Type'].replace({'h': 'house', 'u': 'unit', 't': 'townhouse'}, inplace= True)"
   ]
  },
  {
   "cell_type": "code",
   "execution_count": 19,
   "id": "bd1097ed",
   "metadata": {},
   "outputs": [
    {
     "data": {
      "text/html": [
       "<div>\n",
       "<style scoped>\n",
       "    .dataframe tbody tr th:only-of-type {\n",
       "        vertical-align: middle;\n",
       "    }\n",
       "\n",
       "    .dataframe tbody tr th {\n",
       "        vertical-align: top;\n",
       "    }\n",
       "\n",
       "    .dataframe thead th {\n",
       "        text-align: right;\n",
       "    }\n",
       "</style>\n",
       "<table border=\"1\" class=\"dataframe\">\n",
       "  <thead>\n",
       "    <tr style=\"text-align: right;\">\n",
       "      <th></th>\n",
       "      <th>Rooms</th>\n",
       "      <th>Price</th>\n",
       "      <th>Distance</th>\n",
       "      <th>Bedrooms</th>\n",
       "      <th>Bathrooms</th>\n",
       "      <th>Car Parks</th>\n",
       "      <th>Lattitude</th>\n",
       "      <th>Longtitude</th>\n",
       "    </tr>\n",
       "  </thead>\n",
       "  <tbody>\n",
       "    <tr>\n",
       "      <th>count</th>\n",
       "      <td>13497.000000</td>\n",
       "      <td>1.349700e+04</td>\n",
       "      <td>13497.000000</td>\n",
       "      <td>13497.000000</td>\n",
       "      <td>13497.000000</td>\n",
       "      <td>13497.000000</td>\n",
       "      <td>13497.000000</td>\n",
       "      <td>13497.000000</td>\n",
       "    </tr>\n",
       "    <tr>\n",
       "      <th>mean</th>\n",
       "      <td>2.940283</td>\n",
       "      <td>1.075074e+06</td>\n",
       "      <td>10.159576</td>\n",
       "      <td>2.916870</td>\n",
       "      <td>1.535378</td>\n",
       "      <td>1.610284</td>\n",
       "      <td>-37.809204</td>\n",
       "      <td>144.995322</td>\n",
       "    </tr>\n",
       "    <tr>\n",
       "      <th>std</th>\n",
       "      <td>0.956364</td>\n",
       "      <td>6.400868e+05</td>\n",
       "      <td>5.858152</td>\n",
       "      <td>0.966646</td>\n",
       "      <td>0.692568</td>\n",
       "      <td>0.962705</td>\n",
       "      <td>0.079324</td>\n",
       "      <td>0.104051</td>\n",
       "    </tr>\n",
       "    <tr>\n",
       "      <th>min</th>\n",
       "      <td>1.000000</td>\n",
       "      <td>8.500000e+04</td>\n",
       "      <td>0.000000</td>\n",
       "      <td>0.000000</td>\n",
       "      <td>0.000000</td>\n",
       "      <td>0.000000</td>\n",
       "      <td>-38.182550</td>\n",
       "      <td>144.431810</td>\n",
       "    </tr>\n",
       "    <tr>\n",
       "      <th>25%</th>\n",
       "      <td>2.000000</td>\n",
       "      <td>6.500000e+05</td>\n",
       "      <td>6.200000</td>\n",
       "      <td>2.000000</td>\n",
       "      <td>1.000000</td>\n",
       "      <td>1.000000</td>\n",
       "      <td>-37.857000</td>\n",
       "      <td>144.929500</td>\n",
       "    </tr>\n",
       "    <tr>\n",
       "      <th>50%</th>\n",
       "      <td>3.000000</td>\n",
       "      <td>9.010000e+05</td>\n",
       "      <td>9.200000</td>\n",
       "      <td>3.000000</td>\n",
       "      <td>1.000000</td>\n",
       "      <td>2.000000</td>\n",
       "      <td>-37.802360</td>\n",
       "      <td>145.000300</td>\n",
       "    </tr>\n",
       "    <tr>\n",
       "      <th>75%</th>\n",
       "      <td>3.000000</td>\n",
       "      <td>1.330000e+06</td>\n",
       "      <td>13.000000</td>\n",
       "      <td>3.000000</td>\n",
       "      <td>2.000000</td>\n",
       "      <td>2.000000</td>\n",
       "      <td>-37.756300</td>\n",
       "      <td>145.058600</td>\n",
       "    </tr>\n",
       "    <tr>\n",
       "      <th>max</th>\n",
       "      <td>10.000000</td>\n",
       "      <td>9.000000e+06</td>\n",
       "      <td>48.100000</td>\n",
       "      <td>20.000000</td>\n",
       "      <td>8.000000</td>\n",
       "      <td>10.000000</td>\n",
       "      <td>-37.408530</td>\n",
       "      <td>145.526350</td>\n",
       "    </tr>\n",
       "  </tbody>\n",
       "</table>\n",
       "</div>"
      ],
      "text/plain": [
       "              Rooms         Price      Distance      Bedrooms     Bathrooms  \\\n",
       "count  13497.000000  1.349700e+04  13497.000000  13497.000000  13497.000000   \n",
       "mean       2.940283  1.075074e+06     10.159576      2.916870      1.535378   \n",
       "std        0.956364  6.400868e+05      5.858152      0.966646      0.692568   \n",
       "min        1.000000  8.500000e+04      0.000000      0.000000      0.000000   \n",
       "25%        2.000000  6.500000e+05      6.200000      2.000000      1.000000   \n",
       "50%        3.000000  9.010000e+05      9.200000      3.000000      1.000000   \n",
       "75%        3.000000  1.330000e+06     13.000000      3.000000      2.000000   \n",
       "max       10.000000  9.000000e+06     48.100000     20.000000      8.000000   \n",
       "\n",
       "          Car Parks     Lattitude    Longtitude  \n",
       "count  13497.000000  13497.000000  13497.000000  \n",
       "mean       1.610284    -37.809204    144.995322  \n",
       "std        0.962705      0.079324      0.104051  \n",
       "min        0.000000    -38.182550    144.431810  \n",
       "25%        1.000000    -37.857000    144.929500  \n",
       "50%        2.000000    -37.802360    145.000300  \n",
       "75%        2.000000    -37.756300    145.058600  \n",
       "max       10.000000    -37.408530    145.526350  "
      ]
     },
     "execution_count": 19,
     "metadata": {},
     "output_type": "execute_result"
    }
   ],
   "source": [
    "# Validate ranges of numerical columns\n",
    "df.describe()"
   ]
  },
  {
   "cell_type": "code",
   "execution_count": 20,
   "id": "1879becb",
   "metadata": {},
   "outputs": [
    {
     "name": "stdout",
     "output_type": "stream",
     "text": [
      "Number of rows with 0 bathrooms: 34\n"
     ]
    }
   ],
   "source": [
    "# Check rows with 0 bathrooms since that is unreasonable for a housing unit to not have one\n",
    "print(\"Number of rows with 0 bathrooms: {}\".format((df['Bathrooms'] == 0).sum()))"
   ]
  },
  {
   "cell_type": "code",
   "execution_count": 21,
   "id": "aee84069",
   "metadata": {},
   "outputs": [],
   "source": [
    "# Remove 34 rows with 0 bathrooms\n",
    "df.drop(df[df['Bathrooms'] == 0].index, inplace= True)"
   ]
  },
  {
   "cell_type": "code",
   "execution_count": 22,
   "id": "2513e9af",
   "metadata": {},
   "outputs": [],
   "source": [
    "# Check rows with 20 bedrooms\n",
    "df[df['Bedrooms'] >= 10]\n",
    "\n",
    "# Drop\n",
    "df.drop(7404, inplace= True)"
   ]
  },
  {
   "cell_type": "code",
   "execution_count": 23,
   "id": "21ab18b3",
   "metadata": {},
   "outputs": [
    {
     "data": {
      "text/html": [
       "<div>\n",
       "<style scoped>\n",
       "    .dataframe tbody tr th:only-of-type {\n",
       "        vertical-align: middle;\n",
       "    }\n",
       "\n",
       "    .dataframe tbody tr th {\n",
       "        vertical-align: top;\n",
       "    }\n",
       "\n",
       "    .dataframe thead th {\n",
       "        text-align: right;\n",
       "    }\n",
       "</style>\n",
       "<table border=\"1\" class=\"dataframe\">\n",
       "  <thead>\n",
       "    <tr style=\"text-align: right;\">\n",
       "      <th></th>\n",
       "      <th>Rooms</th>\n",
       "      <th>Price</th>\n",
       "      <th>Distance</th>\n",
       "      <th>Bedrooms</th>\n",
       "      <th>Bathrooms</th>\n",
       "      <th>Car Parks</th>\n",
       "      <th>Lattitude</th>\n",
       "      <th>Longtitude</th>\n",
       "    </tr>\n",
       "  </thead>\n",
       "  <tbody>\n",
       "    <tr>\n",
       "      <th>count</th>\n",
       "      <td>13462.000000</td>\n",
       "      <td>1.346200e+04</td>\n",
       "      <td>13462.000000</td>\n",
       "      <td>13462.000000</td>\n",
       "      <td>13462.000000</td>\n",
       "      <td>13462.000000</td>\n",
       "      <td>13462.000000</td>\n",
       "      <td>13462.000000</td>\n",
       "    </tr>\n",
       "    <tr>\n",
       "      <th>mean</th>\n",
       "      <td>2.941465</td>\n",
       "      <td>1.075488e+06</td>\n",
       "      <td>10.166491</td>\n",
       "      <td>2.917843</td>\n",
       "      <td>1.539296</td>\n",
       "      <td>1.614248</td>\n",
       "      <td>-37.809158</td>\n",
       "      <td>144.995290</td>\n",
       "    </tr>\n",
       "    <tr>\n",
       "      <th>std</th>\n",
       "      <td>0.956675</td>\n",
       "      <td>6.405388e+05</td>\n",
       "      <td>5.862069</td>\n",
       "      <td>0.954080</td>\n",
       "      <td>0.689134</td>\n",
       "      <td>0.960624</td>\n",
       "      <td>0.079372</td>\n",
       "      <td>0.104137</td>\n",
       "    </tr>\n",
       "    <tr>\n",
       "      <th>min</th>\n",
       "      <td>1.000000</td>\n",
       "      <td>8.500000e+04</td>\n",
       "      <td>0.000000</td>\n",
       "      <td>0.000000</td>\n",
       "      <td>1.000000</td>\n",
       "      <td>0.000000</td>\n",
       "      <td>-38.182550</td>\n",
       "      <td>144.431810</td>\n",
       "    </tr>\n",
       "    <tr>\n",
       "      <th>25%</th>\n",
       "      <td>2.000000</td>\n",
       "      <td>6.500000e+05</td>\n",
       "      <td>6.200000</td>\n",
       "      <td>2.000000</td>\n",
       "      <td>1.000000</td>\n",
       "      <td>1.000000</td>\n",
       "      <td>-37.857000</td>\n",
       "      <td>144.929210</td>\n",
       "    </tr>\n",
       "    <tr>\n",
       "      <th>50%</th>\n",
       "      <td>3.000000</td>\n",
       "      <td>9.010000e+05</td>\n",
       "      <td>9.200000</td>\n",
       "      <td>3.000000</td>\n",
       "      <td>1.000000</td>\n",
       "      <td>2.000000</td>\n",
       "      <td>-37.802210</td>\n",
       "      <td>145.000300</td>\n",
       "    </tr>\n",
       "    <tr>\n",
       "      <th>75%</th>\n",
       "      <td>3.000000</td>\n",
       "      <td>1.330000e+06</td>\n",
       "      <td>13.000000</td>\n",
       "      <td>3.000000</td>\n",
       "      <td>2.000000</td>\n",
       "      <td>2.000000</td>\n",
       "      <td>-37.756125</td>\n",
       "      <td>145.058630</td>\n",
       "    </tr>\n",
       "    <tr>\n",
       "      <th>max</th>\n",
       "      <td>10.000000</td>\n",
       "      <td>9.000000e+06</td>\n",
       "      <td>48.100000</td>\n",
       "      <td>10.000000</td>\n",
       "      <td>8.000000</td>\n",
       "      <td>10.000000</td>\n",
       "      <td>-37.408530</td>\n",
       "      <td>145.526350</td>\n",
       "    </tr>\n",
       "  </tbody>\n",
       "</table>\n",
       "</div>"
      ],
      "text/plain": [
       "              Rooms         Price      Distance      Bedrooms     Bathrooms  \\\n",
       "count  13462.000000  1.346200e+04  13462.000000  13462.000000  13462.000000   \n",
       "mean       2.941465  1.075488e+06     10.166491      2.917843      1.539296   \n",
       "std        0.956675  6.405388e+05      5.862069      0.954080      0.689134   \n",
       "min        1.000000  8.500000e+04      0.000000      0.000000      1.000000   \n",
       "25%        2.000000  6.500000e+05      6.200000      2.000000      1.000000   \n",
       "50%        3.000000  9.010000e+05      9.200000      3.000000      1.000000   \n",
       "75%        3.000000  1.330000e+06     13.000000      3.000000      2.000000   \n",
       "max       10.000000  9.000000e+06     48.100000     10.000000      8.000000   \n",
       "\n",
       "          Car Parks     Lattitude    Longtitude  \n",
       "count  13462.000000  13462.000000  13462.000000  \n",
       "mean       1.614248    -37.809158    144.995290  \n",
       "std        0.960624      0.079372      0.104137  \n",
       "min        0.000000    -38.182550    144.431810  \n",
       "25%        1.000000    -37.857000    144.929210  \n",
       "50%        2.000000    -37.802210    145.000300  \n",
       "75%        2.000000    -37.756125    145.058630  \n",
       "max       10.000000    -37.408530    145.526350  "
      ]
     },
     "execution_count": 23,
     "metadata": {},
     "output_type": "execute_result"
    }
   ],
   "source": [
    "df.describe()"
   ]
  },
  {
   "cell_type": "code",
   "execution_count": 24,
   "id": "5ec18377",
   "metadata": {},
   "outputs": [
    {
     "data": {
      "text/html": [
       "<div>\n",
       "<style scoped>\n",
       "    .dataframe tbody tr th:only-of-type {\n",
       "        vertical-align: middle;\n",
       "    }\n",
       "\n",
       "    .dataframe tbody tr th {\n",
       "        vertical-align: top;\n",
       "    }\n",
       "\n",
       "    .dataframe thead th {\n",
       "        text-align: right;\n",
       "    }\n",
       "</style>\n",
       "<table border=\"1\" class=\"dataframe\">\n",
       "  <thead>\n",
       "    <tr style=\"text-align: right;\">\n",
       "      <th></th>\n",
       "      <th>Suburb</th>\n",
       "      <th>Address</th>\n",
       "      <th>Rooms</th>\n",
       "      <th>Type</th>\n",
       "      <th>Price</th>\n",
       "      <th>Distance</th>\n",
       "      <th>Bedrooms</th>\n",
       "      <th>Bathrooms</th>\n",
       "      <th>Car Parks</th>\n",
       "      <th>Lattitude</th>\n",
       "      <th>Longtitude</th>\n",
       "      <th>Region</th>\n",
       "    </tr>\n",
       "  </thead>\n",
       "  <tbody>\n",
       "    <tr>\n",
       "      <th>0</th>\n",
       "      <td>Abbotsford</td>\n",
       "      <td>85 Turner St</td>\n",
       "      <td>2</td>\n",
       "      <td>house</td>\n",
       "      <td>1480000</td>\n",
       "      <td>2.5</td>\n",
       "      <td>2</td>\n",
       "      <td>1</td>\n",
       "      <td>1</td>\n",
       "      <td>-37.7996</td>\n",
       "      <td>144.9984</td>\n",
       "      <td>Northern Metropolitan</td>\n",
       "    </tr>\n",
       "    <tr>\n",
       "      <th>1</th>\n",
       "      <td>Abbotsford</td>\n",
       "      <td>25 Bloomburg St</td>\n",
       "      <td>2</td>\n",
       "      <td>house</td>\n",
       "      <td>1035000</td>\n",
       "      <td>2.5</td>\n",
       "      <td>2</td>\n",
       "      <td>1</td>\n",
       "      <td>0</td>\n",
       "      <td>-37.8079</td>\n",
       "      <td>144.9934</td>\n",
       "      <td>Northern Metropolitan</td>\n",
       "    </tr>\n",
       "    <tr>\n",
       "      <th>2</th>\n",
       "      <td>Abbotsford</td>\n",
       "      <td>5 Charles St</td>\n",
       "      <td>3</td>\n",
       "      <td>house</td>\n",
       "      <td>1465000</td>\n",
       "      <td>2.5</td>\n",
       "      <td>3</td>\n",
       "      <td>2</td>\n",
       "      <td>0</td>\n",
       "      <td>-37.8093</td>\n",
       "      <td>144.9944</td>\n",
       "      <td>Northern Metropolitan</td>\n",
       "    </tr>\n",
       "    <tr>\n",
       "      <th>3</th>\n",
       "      <td>Abbotsford</td>\n",
       "      <td>40 Federation La</td>\n",
       "      <td>3</td>\n",
       "      <td>house</td>\n",
       "      <td>850000</td>\n",
       "      <td>2.5</td>\n",
       "      <td>3</td>\n",
       "      <td>2</td>\n",
       "      <td>1</td>\n",
       "      <td>-37.7969</td>\n",
       "      <td>144.9969</td>\n",
       "      <td>Northern Metropolitan</td>\n",
       "    </tr>\n",
       "    <tr>\n",
       "      <th>4</th>\n",
       "      <td>Abbotsford</td>\n",
       "      <td>55a Park St</td>\n",
       "      <td>4</td>\n",
       "      <td>house</td>\n",
       "      <td>1600000</td>\n",
       "      <td>2.5</td>\n",
       "      <td>3</td>\n",
       "      <td>1</td>\n",
       "      <td>2</td>\n",
       "      <td>-37.8072</td>\n",
       "      <td>144.9941</td>\n",
       "      <td>Northern Metropolitan</td>\n",
       "    </tr>\n",
       "  </tbody>\n",
       "</table>\n",
       "</div>"
      ],
      "text/plain": [
       "       Suburb           Address  Rooms   Type    Price  Distance  Bedrooms  \\\n",
       "0  Abbotsford      85 Turner St      2  house  1480000       2.5         2   \n",
       "1  Abbotsford   25 Bloomburg St      2  house  1035000       2.5         2   \n",
       "2  Abbotsford      5 Charles St      3  house  1465000       2.5         3   \n",
       "3  Abbotsford  40 Federation La      3  house   850000       2.5         3   \n",
       "4  Abbotsford       55a Park St      4  house  1600000       2.5         3   \n",
       "\n",
       "   Bathrooms  Car Parks  Lattitude  Longtitude                 Region  \n",
       "0          1          1   -37.7996    144.9984  Northern Metropolitan  \n",
       "1          1          0   -37.8079    144.9934  Northern Metropolitan  \n",
       "2          2          0   -37.8093    144.9944  Northern Metropolitan  \n",
       "3          2          1   -37.7969    144.9969  Northern Metropolitan  \n",
       "4          1          2   -37.8072    144.9941  Northern Metropolitan  "
      ]
     },
     "execution_count": 24,
     "metadata": {},
     "output_type": "execute_result"
    }
   ],
   "source": [
    "df.head()"
   ]
  },
  {
   "cell_type": "code",
   "execution_count": 25,
   "id": "9690ce0e",
   "metadata": {},
   "outputs": [
    {
     "name": "stdout",
     "output_type": "stream",
     "text": [
      "<class 'pandas.core.frame.DataFrame'>\n",
      "Int64Index: 13462 entries, 0 to 13579\n",
      "Data columns (total 12 columns):\n",
      " #   Column      Non-Null Count  Dtype  \n",
      "---  ------      --------------  -----  \n",
      " 0   Suburb      13462 non-null  object \n",
      " 1   Address     13462 non-null  object \n",
      " 2   Rooms       13462 non-null  Int64  \n",
      " 3   Type        13462 non-null  string \n",
      " 4   Price       13462 non-null  Int64  \n",
      " 5   Distance    13462 non-null  Float64\n",
      " 6   Bedrooms    13462 non-null  Int64  \n",
      " 7   Bathrooms   13462 non-null  Int64  \n",
      " 8   Car Parks   13462 non-null  Int64  \n",
      " 9   Lattitude   13462 non-null  Float64\n",
      " 10  Longtitude  13462 non-null  Float64\n",
      " 11  Region      13462 non-null  string \n",
      "dtypes: Float64(3), Int64(5), object(2), string(2)\n",
      "memory usage: 1.4+ MB\n"
     ]
    }
   ],
   "source": [
    "df.info()"
   ]
  },
  {
   "cell_type": "markdown",
   "id": "6e2c18f6",
   "metadata": {},
   "source": [
    "## Data Analysis"
   ]
  },
  {
   "cell_type": "code",
   "execution_count": 26,
   "id": "cf74d7ee",
   "metadata": {},
   "outputs": [
    {
     "data": {
      "image/png": "[encoded data removed]",
      "text/plain": [
       "<Figure size 720x360 with 1 Axes>"
      ]
     },
     "metadata": {
      "needs_background": "light"
     },
     "output_type": "display_data"
    }
   ],
   "source": [
    "# Histogram of the housing prices\n",
    "plt.figure(figsize=(10,5))\n",
    "sns.histplot(data=df, x='Price', kde=True)\n",
    "plt.title(\"\")\n",
    "plt.ticklabel_format(style='plain', axis='x')\n",
    "plt.show()"
   ]
  },
  {
   "cell_type": "code",
   "execution_count": 47,
   "id": "02b576b4",
   "metadata": {},
   "outputs": [
    {
     "data": {
      "text/plain": [
       "1075488"
      ]
     },
     "execution_count": 47,
     "metadata": {},
     "output_type": "execute_result"
    }
   ],
   "source": [
    "# What is the average price of a housing unit in Melbourne?\n",
    "round(df['Price'].mean())"
   ]
  },
  {
   "cell_type": "code",
   "execution_count": 48,
   "id": "1e8166f8",
   "metadata": {},
   "outputs": [
    {
     "data": {
      "text/plain": [
       "count    1.346200e+04\n",
       "mean     1.075488e+06\n",
       "std      6.405388e+05\n",
       "min      8.500000e+04\n",
       "25%      6.500000e+05\n",
       "50%      9.010000e+05\n",
       "75%      1.330000e+06\n",
       "max      9.000000e+06\n",
       "Name: Price, dtype: float64"
      ]
     },
     "execution_count": 48,
     "metadata": {},
     "output_type": "execute_result"
    }
   ],
   "source": [
    "df['Price'].describe()"
   ]
  },
  {
   "cell_type": "code",
   "execution_count": 27,
   "id": "8814d3f1",
   "metadata": {},
   "outputs": [
    {
     "data": {
      "image/png": "[encoded data removed]",
      "text/plain": [
       "<Figure size 720x360 with 1 Axes>"
      ]
     },
     "metadata": {
      "needs_background": "light"
     },
     "output_type": "display_data"
    }
   ],
   "source": [
    "# Histogram of the distance to central business district (cbd)\n",
    "plt.figure(figsize=(10,5))\n",
    "sns.histplot(data=df, x='Distance', kde=True)\n",
    "plt.title(\"\")\n",
    "plt.show()"
   ]
  },
  {
   "cell_type": "code",
   "execution_count": 49,
   "id": "4299a087",
   "metadata": {},
   "outputs": [
    {
     "data": {
      "image/png": "[encoded data removed]",
      "text/plain": [
       "<Figure size 720x360 with 1 Axes>"
      ]
     },
     "metadata": {
      "needs_background": "light"
     },
     "output_type": "display_data"
    }
   ],
   "source": [
    "# Housing price box plot\n",
    "plt.figure(figsize=(10,5))\n",
    "sns.boxplot(data=df, y='Type', x='Price')\n",
    "plt.title(\"Housing Price in Melbourne\")\n",
    "plt.ticklabel_format(style='plain', axis='x')\n",
    "plt.show()"
   ]
  },
  {
   "cell_type": "code",
   "execution_count": 53,
   "id": "24f57b39",
   "metadata": {},
   "outputs": [
    {
     "name": "stdout",
     "output_type": "stream",
     "text": [
      "Housing Price in Melbourne:\n",
      "        Type       mean      max     min     median\n",
      "0      house  1242409.0  9000000  131000  1080000.0\n",
      "1  townhouse   933930.0  3475000  300000   846000.0\n",
      "2       unit   605288.0  3625000   85000   560000.0\n"
     ]
    },
    {
     "data": {
      "image/png": "[encoded data removed]",
      "text/plain": [
       "<Figure size 576x360 with 1 Axes>"
      ]
     },
     "metadata": {
      "needs_background": "light"
     },
     "output_type": "display_data"
    }
   ],
   "source": [
    "# What is the average price for each housing type in Melbourne?\n",
    "avg_house_price = df.groupby('Type')['Price'].agg(['mean', 'max', 'min', 'median']).round().reset_index()\n",
    "\n",
    "print(\"Housing Price in Melbourne:\")\n",
    "print(avg_house_price)\n",
    "\n",
    "# Bar plot\n",
    "plt.figure(figsize=(8,5))\n",
    "sns.barplot(data=avg_house_price, x='Type', y='mean')\n",
    "plt.title(\"Average Housing Price in Melbourne\")\n",
    "plt.xlabel(\"Type\")\n",
    "plt.ylabel(\"Price ($AUD)\")\n",
    "plt.ticklabel_format(style='plain', axis='y')\n",
    "plt.show()"
   ]
  },
  {
   "cell_type": "code",
   "execution_count": 60,
   "id": "8fc6e58b",
   "metadata": {},
   "outputs": [
    {
     "name": "stdout",
     "output_type": "stream",
     "text": [
      "house descriptive statistics:\n",
      "count    9.363000e+03\n",
      "mean     1.242409e+06\n",
      "std      6.698702e+05\n",
      "min      1.310000e+05\n",
      "25%      7.900000e+05\n",
      "50%      1.080000e+06\n",
      "75%      1.500000e+06\n",
      "max      9.000000e+06\n",
      "Name: Price, dtype: float64\n",
      "\n",
      "townhouse descriptive statistics:\n",
      "count    1.109000e+03\n",
      "mean     9.339295e+05\n",
      "std      3.957392e+05\n",
      "min      3.000000e+05\n",
      "25%      6.700000e+05\n",
      "50%      8.460000e+05\n",
      "75%      1.105000e+06\n",
      "max      3.475000e+06\n",
      "Name: Price, dtype: float64\n",
      "\n",
      "unit descriptive statistics:\n",
      "count    2.990000e+03\n",
      "mean     6.052883e+05\n",
      "std      2.614153e+05\n",
      "min      8.500000e+04\n",
      "25%      4.400000e+05\n",
      "50%      5.600000e+05\n",
      "75%      7.057500e+05\n",
      "max      3.625000e+06\n",
      "Name: Price, dtype: float64\n",
      "\n"
     ]
    }
   ],
   "source": [
    "# Display price descriptive statistics for each type of housing\n",
    "housing_type = ['house', 'townhouse', 'unit']\n",
    "\n",
    "for h_type in housing_type:\n",
    "    print(\"{} descriptive statistics:\".format(h_type))\n",
    "    print(df[df['Type'] == h_type]['Price'].describe())\n",
    "    print(\"\")"
   ]
  },
  {
   "cell_type": "code",
   "execution_count": 53,
   "id": "ffe562ae",
   "metadata": {},
   "outputs": [
    {
     "name": "stdout",
     "output_type": "stream",
     "text": [
      "                       Region      Price\n",
      "0       Southern Metropolitan  1374652.0\n",
      "1        Eastern Metropolitan  1104551.0\n",
      "2  South-Eastern Metropolitan   921584.0\n",
      "3       Northern Metropolitan   896592.0\n",
      "4        Western Metropolitan   866422.0\n",
      "5            Eastern Victoria   699981.0\n",
      "6           Northern Victoria   594700.0\n",
      "7            Western Victoria   397523.0\n"
     ]
    },
    {
     "data": {
      "image/png": "[encoded data removed]",
      "text/plain": [
       "<Figure size 720x360 with 1 Axes>"
      ]
     },
     "metadata": {
      "needs_background": "light"
     },
     "output_type": "display_data"
    }
   ],
   "source": [
    "# What is the average price for housing in each region?\n",
    "avg_price = df.groupby('Region')['Price'].mean().round().sort_values(ascending=False).reset_index()\n",
    "print(avg_price)\n",
    "\n",
    "# Plot\n",
    "plt.figure(figsize=(10,5))\n",
    "sns.barplot(data=avg_price, x='Price', y='Region')\n",
    "plt.title(\"Avg. Housing Price By Region\")\n",
    "plt.xlabel('Price ($AUD)')\n",
    "plt.ylabel('Region')\n",
    "plt.ticklabel_format(style='plain', axis='x')\n",
    "plt.show()"
   ]
  },
  {
   "cell_type": "code",
   "execution_count": 88,
   "id": "1f1a710b",
   "metadata": {},
   "outputs": [
    {
     "name": "stdout",
     "output_type": "stream",
     "text": [
      "         Type                      Region      Price\n",
      "0       house        Eastern Metropolitan  1197692.0\n",
      "1       house            Eastern Victoria   714300.0\n",
      "2       house       Northern Metropolitan  1018902.0\n",
      "3       house           Northern Victoria   594700.0\n",
      "4       house  South-Eastern Metropolitan   954543.0\n",
      "5       house       Southern Metropolitan  1807032.0\n",
      "6       house        Western Metropolitan   950842.0\n",
      "7       house            Western Victoria   397523.0\n",
      "8   townhouse        Eastern Metropolitan   867993.0\n",
      "9   townhouse       Northern Metropolitan   750061.0\n",
      "10  townhouse  South-Eastern Metropolitan   913270.0\n",
      "11  townhouse       Southern Metropolitan  1206300.0\n",
      "12  townhouse        Western Metropolitan   720951.0\n",
      "13       unit        Eastern Metropolitan   650372.0\n",
      "14       unit            Eastern Victoria   461333.0\n",
      "15       unit       Northern Metropolitan   544209.0\n",
      "16       unit  South-Eastern Metropolitan   583365.0\n",
      "17       unit       Southern Metropolitan   665012.0\n",
      "18       unit        Western Metropolitan   489030.0\n"
     ]
    },
    {
     "data": {
      "image/png": "[encoded data removed]",
      "text/plain": [
       "<Figure size 720x360 with 1 Axes>"
      ]
     },
     "metadata": {
      "needs_background": "light"
     },
     "output_type": "display_data"
    },
    {
     "data": {
      "image/png": "[encoded data removed]",
      "text/plain": [
       "<Figure size 720x360 with 1 Axes>"
      ]
     },
     "metadata": {
      "needs_background": "light"
     },
     "output_type": "display_data"
    },
    {
     "data": {
      "image/png": "[encoded data removed]",
      "text/plain": [
       "<Figure size 720x360 with 1 Axes>"
      ]
     },
     "metadata": {
      "needs_background": "light"
     },
     "output_type": "display_data"
    }
   ],
   "source": [
    "# What is the average price for each housing in each region?\n",
    "avg_price_region = df.groupby(['Type', 'Region'])['Price'].mean().round(0).reset_index()\n",
    "print(avg_price_region)\n",
    "housing_type = ['house', 'townhouse', 'unit']\n",
    "\n",
    "# Iterate through each housing type\n",
    "for h_type in housing_type:\n",
    "    plt.figure(figsize=(10,5))\n",
    "    region_df = avg_price_region[avg_price_region['Type'] == h_type].sort_values('Price', ascending=False)\n",
    "    \n",
    "    sns.barplot(data=region_df, x='Price', y='Region')\n",
    "    plt.title(f\"Avg.{h_type} pricing per region\")\n",
    "    plt.xlabel('Price ($AUD)')\n",
    "    plt.ylabel('')\n",
    "    plt.ticklabel_format(style='plain', axis='x')\n",
    "    plt.show()"
   ]
  },
  {
   "cell_type": "code",
   "execution_count": 41,
   "id": "013dc0a6",
   "metadata": {
    "scrolled": false
   },
   "outputs": [
    {
     "data": {
      "image/png": "[encoded data removed]",
      "text/plain": [
       "<Figure size 720x360 with 1 Axes>"
      ]
     },
     "metadata": {
      "needs_background": "light"
     },
     "output_type": "display_data"
    }
   ],
   "source": [
    "# To what degree does housing price change with relations to distance to the CBD (Central Business District)?\n",
    "plt.figure(figsize=(10,5))\n",
    "sns.scatterplot(data=df, x='Distance', y='Price')\n",
    "plt.title(\"Housing Price vs. Distance From Central Business District (CBD)\")\n",
    "plt.xlabel('Distance (km)')\n",
    "plt.ylabel('Price ($AUD)')\n",
    "plt.ticklabel_format(style='plain', axis='y')\n",
    "plt.show()\n"
   ]
  },
  {
   "cell_type": "code",
   "execution_count": 32,
   "id": "91c0a349",
   "metadata": {},
   "outputs": [
    {
     "data": {
      "image/png": "[encoded data removed]",
      "text/plain": [
       "<Figure size 720x360 with 1 Axes>"
      ]
     },
     "metadata": {
      "needs_background": "light"
     },
     "output_type": "display_data"
    }
   ],
   "source": [
    "# Price vs number of bedrooms\n",
    "plt.figure(figsize=(10,5))\n",
    "sns.boxplot(data=df, x='Bedrooms', y='Price')\n",
    "plt.title(\"Number of Bedrooms vs. Price\")\n",
    "plt.ticklabel_format(style='plain', axis='y')\n",
    "plt.show()\n",
    "\n",
    "# Average price vs number of bedrooms\n",
    "plt.figure(figsize=(10,5))\n",
    "sns."
   ]
  }
 ],
 "metadata": {
  "kernelspec": {
   "display_name": "Python 3 (ipykernel)",
   "language": "python",
   "name": "python3"
  },
  "language_info": {
   "codemirror_mode": {
    "name": "ipython",
    "version": 3
   },
   "file_extension": ".py",
   "mimetype": "text/x-python",
   "name": "python",
   "nbconvert_exporter": "python",
   "pygments_lexer": "ipython3",
   "version": "3.9.12"
  }
 },
 "nbformat": 4,
 "nbformat_minor": 5
}
